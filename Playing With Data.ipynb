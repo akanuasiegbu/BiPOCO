{
 "cells": [
  {
   "cell_type": "code",
   "execution_count": 62,
   "metadata": {},
   "outputs": [
    {
     "data": {
      "text/plain": [
       "'/home/akanu/git/deep_sort_yolov3/Bounding_box'"
      ]
     },
     "execution_count": 62,
     "metadata": {},
     "output_type": "execute_result"
    }
   ],
   "source": [
    "pwd"
   ]
  },
  {
   "cell_type": "code",
   "execution_count": 63,
   "metadata": {},
   "outputs": [
    {
     "name": "stdout",
     "output_type": "stream",
     "text": [
      "/home/akanu/git/deep_sort_yolov3/Bounding_box\n"
     ]
    }
   ],
   "source": [
    "cd '/home/akanu/git/deep_sort_yolov3/Bounding_box'"
   ]
  },
  {
   "cell_type": "code",
   "execution_count": 64,
   "metadata": {},
   "outputs": [],
   "source": [
    "import pandas as pd\n",
    "import cv2\n",
    "%matplotlib inline\n",
    "from matplotlib import pyplot as plt\n",
    "import matplotlib\n",
    "import tensorflow.compat.v1 as tf\n",
    "from tensorflow import keras\n",
    "import numpy as np\n",
    "from keras.preprocessing.sequence import pad_sequences\n",
    "import os\n"
   ]
  },
  {
   "cell_type": "code",
   "execution_count": 66,
   "metadata": {},
   "outputs": [
    {
     "data": {
      "text/html": [
       "<div>\n",
       "<style scoped>\n",
       "    .dataframe tbody tr th:only-of-type {\n",
       "        vertical-align: middle;\n",
       "    }\n",
       "\n",
       "    .dataframe tbody tr th {\n",
       "        vertical-align: top;\n",
       "    }\n",
       "\n",
       "    .dataframe thead th {\n",
       "        text-align: right;\n",
       "    }\n",
       "</style>\n",
       "<table border=\"1\" class=\"dataframe\">\n",
       "  <thead>\n",
       "    <tr style=\"text-align: right;\">\n",
       "      <th></th>\n",
       "      <th>Frame_Number</th>\n",
       "      <th>Person_ID</th>\n",
       "      <th>State</th>\n",
       "      <th>BB_tl_0</th>\n",
       "      <th>BB_tl_1</th>\n",
       "      <th>BB_br_0</th>\n",
       "      <th>BB_br_1</th>\n",
       "    </tr>\n",
       "  </thead>\n",
       "  <tbody>\n",
       "    <tr>\n",
       "      <td>0</td>\n",
       "      <td>-1</td>\n",
       "      <td>1</td>\n",
       "      <td>1</td>\n",
       "      <td>406</td>\n",
       "      <td>115</td>\n",
       "      <td>450</td>\n",
       "      <td>240</td>\n",
       "    </tr>\n",
       "    <tr>\n",
       "      <td>1</td>\n",
       "      <td>-1</td>\n",
       "      <td>2</td>\n",
       "      <td>1</td>\n",
       "      <td>486</td>\n",
       "      <td>116</td>\n",
       "      <td>517</td>\n",
       "      <td>221</td>\n",
       "    </tr>\n",
       "    <tr>\n",
       "      <td>2</td>\n",
       "      <td>-1</td>\n",
       "      <td>3</td>\n",
       "      <td>1</td>\n",
       "      <td>270</td>\n",
       "      <td>119</td>\n",
       "      <td>299</td>\n",
       "      <td>220</td>\n",
       "    </tr>\n",
       "    <tr>\n",
       "      <td>3</td>\n",
       "      <td>-1</td>\n",
       "      <td>4</td>\n",
       "      <td>1</td>\n",
       "      <td>68</td>\n",
       "      <td>115</td>\n",
       "      <td>118</td>\n",
       "      <td>236</td>\n",
       "    </tr>\n",
       "    <tr>\n",
       "      <td>4</td>\n",
       "      <td>-1</td>\n",
       "      <td>5</td>\n",
       "      <td>1</td>\n",
       "      <td>343</td>\n",
       "      <td>120</td>\n",
       "      <td>379</td>\n",
       "      <td>229</td>\n",
       "    </tr>\n",
       "    <tr>\n",
       "      <td>...</td>\n",
       "      <td>...</td>\n",
       "      <td>...</td>\n",
       "      <td>...</td>\n",
       "      <td>...</td>\n",
       "      <td>...</td>\n",
       "      <td>...</td>\n",
       "      <td>...</td>\n",
       "    </tr>\n",
       "    <tr>\n",
       "      <td>8886</td>\n",
       "      <td>945</td>\n",
       "      <td>92</td>\n",
       "      <td>2</td>\n",
       "      <td>193</td>\n",
       "      <td>118</td>\n",
       "      <td>227</td>\n",
       "      <td>213</td>\n",
       "    </tr>\n",
       "    <tr>\n",
       "      <td>8887</td>\n",
       "      <td>945</td>\n",
       "      <td>108</td>\n",
       "      <td>2</td>\n",
       "      <td>60</td>\n",
       "      <td>110</td>\n",
       "      <td>100</td>\n",
       "      <td>227</td>\n",
       "    </tr>\n",
       "    <tr>\n",
       "      <td>8888</td>\n",
       "      <td>945</td>\n",
       "      <td>109</td>\n",
       "      <td>2</td>\n",
       "      <td>292</td>\n",
       "      <td>132</td>\n",
       "      <td>321</td>\n",
       "      <td>214</td>\n",
       "    </tr>\n",
       "    <tr>\n",
       "      <td>8889</td>\n",
       "      <td>945</td>\n",
       "      <td>110</td>\n",
       "      <td>2</td>\n",
       "      <td>75</td>\n",
       "      <td>97</td>\n",
       "      <td>129</td>\n",
       "      <td>261</td>\n",
       "    </tr>\n",
       "    <tr>\n",
       "      <td>8890</td>\n",
       "      <td>945</td>\n",
       "      <td>111</td>\n",
       "      <td>2</td>\n",
       "      <td>112</td>\n",
       "      <td>118</td>\n",
       "      <td>141</td>\n",
       "      <td>220</td>\n",
       "    </tr>\n",
       "  </tbody>\n",
       "</table>\n",
       "<p>8891 rows × 7 columns</p>\n",
       "</div>"
      ],
      "text/plain": [
       "      Frame_Number  Person_ID  State  BB_tl_0  BB_tl_1  BB_br_0  BB_br_1\n",
       "0               -1          1      1      406      115      450      240\n",
       "1               -1          2      1      486      116      517      221\n",
       "2               -1          3      1      270      119      299      220\n",
       "3               -1          4      1       68      115      118      236\n",
       "4               -1          5      1      343      120      379      229\n",
       "...            ...        ...    ...      ...      ...      ...      ...\n",
       "8886           945         92      2      193      118      227      213\n",
       "8887           945        108      2       60      110      100      227\n",
       "8888           945        109      2      292      132      321      214\n",
       "8889           945        110      2       75       97      129      261\n",
       "8890           945        111      2      112      118      141      220\n",
       "\n",
       "[8891 rows x 7 columns]"
      ]
     },
     "execution_count": 66,
     "metadata": {},
     "output_type": "execute_result"
    }
   ],
   "source": [
    "file = \"/home/akanu/git/deep_sort_yolov3/Testing_box/04avi.txt\"\n",
    "data = pd.read_csv(file, ' ' )\n",
    "data\n",
    "# col = data.columns \n",
    "# data.reset_index(inplace=True)\n",
    "# data.drop('BB_br_1', axis=1, inplace =True)\n",
    "# data.columns = col\n",
    "# data.set_index('Frame_Number', inplace =True)"
   ]
  },
  {
   "cell_type": "code",
   "execution_count": 73,
   "metadata": {},
   "outputs": [
    {
     "data": {
      "text/html": [
       "<div>\n",
       "<style scoped>\n",
       "    .dataframe tbody tr th:only-of-type {\n",
       "        vertical-align: middle;\n",
       "    }\n",
       "\n",
       "    .dataframe tbody tr th {\n",
       "        vertical-align: top;\n",
       "    }\n",
       "\n",
       "    .dataframe thead th {\n",
       "        text-align: right;\n",
       "    }\n",
       "</style>\n",
       "<table border=\"1\" class=\"dataframe\">\n",
       "  <thead>\n",
       "    <tr style=\"text-align: right;\">\n",
       "      <th></th>\n",
       "      <th>BB_tl_0</th>\n",
       "      <th>BB_tl_1</th>\n",
       "      <th>BB_br_0</th>\n",
       "      <th>BB_br_1</th>\n",
       "    </tr>\n",
       "  </thead>\n",
       "  <tbody>\n",
       "    <tr>\n",
       "      <td>1</td>\n",
       "      <td>486</td>\n",
       "      <td>116</td>\n",
       "      <td>517</td>\n",
       "      <td>221</td>\n",
       "    </tr>\n",
       "    <tr>\n",
       "      <td>9</td>\n",
       "      <td>487</td>\n",
       "      <td>115</td>\n",
       "      <td>518</td>\n",
       "      <td>220</td>\n",
       "    </tr>\n",
       "    <tr>\n",
       "      <td>17</td>\n",
       "      <td>488</td>\n",
       "      <td>114</td>\n",
       "      <td>518</td>\n",
       "      <td>219</td>\n",
       "    </tr>\n",
       "    <tr>\n",
       "      <td>26</td>\n",
       "      <td>489</td>\n",
       "      <td>113</td>\n",
       "      <td>519</td>\n",
       "      <td>218</td>\n",
       "    </tr>\n",
       "    <tr>\n",
       "      <td>34</td>\n",
       "      <td>490</td>\n",
       "      <td>113</td>\n",
       "      <td>520</td>\n",
       "      <td>219</td>\n",
       "    </tr>\n",
       "  </tbody>\n",
       "</table>\n",
       "</div>"
      ],
      "text/plain": [
       "    BB_tl_0  BB_tl_1  BB_br_0  BB_br_1\n",
       "1       486      116      517      221\n",
       "9       487      115      518      220\n",
       "17      488      114      518      219\n",
       "26      489      113      519      218\n",
       "34      490      113      520      219"
      ]
     },
     "execution_count": 73,
     "metadata": {},
     "output_type": "execute_result"
    }
   ],
   "source": [
    "data[data['Person_ID'] == 2]['BB_tl_0\tBB_tl_1\tBB_br_0\tBB_br_1'.split()].head()\n",
    "                    "
   ]
  },
  {
   "cell_type": "code",
   "execution_count": 74,
   "metadata": {},
   "outputs": [
    {
     "data": {
      "text/plain": [
       "array([[486, 116, 517, 221],\n",
       "       [487, 115, 518, 220],\n",
       "       [488, 114, 518, 219],\n",
       "       [489, 113, 519, 218],\n",
       "       [490, 113, 520, 219]])"
      ]
     },
     "execution_count": 74,
     "metadata": {},
     "output_type": "execute_result"
    }
   ],
   "source": [
    "data[data['Person_ID'] == 2]['BB_tl_0\tBB_tl_1\tBB_br_0\tBB_br_1'.split()].iloc[0:5].values"
   ]
  },
  {
   "cell_type": "code",
   "execution_count": 5,
   "metadata": {},
   "outputs": [],
   "source": [
    "# I wonder if accuary suffers if I don't sort it\n",
    "def Files_Load():\n",
    "    train_file = \"/home/akanu/git/deep_sort_yolov3/Bounding_box/\"\n",
    "    test_file = \"/home/akanu/git/deep_sort_yolov3/Testing_box/\"\n",
    "    bounding_box_train_txt = os.listdir(train_file)\n",
    "    bounding_box_train_txt.sort()\n",
    "    bounding_box_test_txt = os.listdir(test_file)\n",
    "    bounding_box_test_txt.sort()\n",
    "    \n",
    "    loc_files = []\n",
    "    txt_names = bounding_box_train_txt + bounding_box_test_txt\n",
    "    \n",
    "    for txt in bounding_box_train_txt:\n",
    "        loc_files.append(train_file + txt)\n",
    "    for txt in bounding_box_test_txt:\n",
    "        loc_files.append(test_file + txt)\n",
    "    \n",
    "    return loc_files, txt_names\n",
    "    \n",
    "\n"
   ]
  },
  {
   "cell_type": "code",
   "execution_count": 33,
   "metadata": {},
   "outputs": [],
   "source": [
    "def Boxes(loc_files, txt_names):\n",
    "    \"File: Points to the folder that has txt files save\"\n",
    "\n",
    "    person_box = []  #Has bounding box locations inside\n",
    "    frame_person_id = [] #Will have frame Number and person_ID\n",
    "    video_file = []   #Will Have Video number saved as text file\n",
    "    split_train_test = 0\n",
    "    split = 0\n",
    "    find_split = 0\n",
    "\n",
    "    for loc, txt_name in zip(loc_files, txt_names):\n",
    "        data = pd.read_csv(loc, ' ' )\n",
    "        # Note that person_box is 1 behind ID\n",
    "        max_person = data['Person_ID'].max()\n",
    "\n",
    "        for num in range(1,max_person+1):\n",
    "            person_box.append(data[data['Person_ID'] == num ]['BB_tl_0\tBB_tl_1\tBB_br_0\tBB_br_1'.split()].to_numpy())\n",
    "            frame_person_id.append(data[data['Person_ID'] == num ]['Frame_Number Person_ID'.split()].to_numpy()) \n",
    "            video_file.append(txt_name)\n",
    "            split_train_test += 1\n",
    "\n",
    "        del data\n",
    "        \n",
    "        find_split += 1\n",
    "        if txt_name == '16avi.txt' and find_split == 16:\n",
    "            split = split_train_test\n",
    "        \n",
    "        \n",
    "    return np.array(pad_sequences(person_box, padding='post')), np.array(pad_sequences(frame_person_id, padding='post')), np.array(video_file), split"
   ]
  },
  {
   "cell_type": "code",
   "execution_count": 61,
   "metadata": {},
   "outputs": [],
   "source": [
    "loc_files, txt_names = Files_Load()\n",
    "person_box,frame_person_id,video_file, split = Boxes(loc_files, txt_names)"
   ]
  },
  {
   "cell_type": "code",
   "execution_count": 35,
   "metadata": {},
   "outputs": [],
   "source": [
    "train_person_box, train_frame_person_id, train_video_file =\\\n",
    "    person_box[:split,:,:], frame_person_id[:split,:], video_file[:split]\n",
    "\n",
    "test_person_box, test_frame_person_id, test_video_file =\\\n",
    "    person_box[split:,:,:], frame_person_id[split:,:], video_file[split:]"
   ]
  },
  {
   "cell_type": "code",
   "execution_count": 36,
   "metadata": {},
   "outputs": [
    {
     "data": {
      "text/plain": [
       "(1511, 4)"
      ]
     },
     "execution_count": 36,
     "metadata": {},
     "output_type": "execute_result"
    }
   ],
   "source": [
    "train_person_box.shape[-2:]"
   ]
  },
  {
   "cell_type": "code",
   "execution_count": 37,
   "metadata": {},
   "outputs": [
    {
     "data": {
      "text/plain": [
       "(1327, 1511, 2)"
      ]
     },
     "execution_count": 37,
     "metadata": {},
     "output_type": "execute_result"
    }
   ],
   "source": [
    "train_frame_person_id.shape"
   ]
  },
  {
   "cell_type": "code",
   "execution_count": 38,
   "metadata": {},
   "outputs": [
    {
     "data": {
      "text/plain": [
       "(1327,)"
      ]
     },
     "execution_count": 38,
     "metadata": {},
     "output_type": "execute_result"
    }
   ],
   "source": [
    "train_video_file.shape"
   ]
  },
  {
   "cell_type": "code",
   "execution_count": 39,
   "metadata": {},
   "outputs": [
    {
     "data": {
      "text/plain": [
       "(1406, 1511, 4)"
      ]
     },
     "execution_count": 39,
     "metadata": {},
     "output_type": "execute_result"
    }
   ],
   "source": [
    "test_person_box.shape"
   ]
  },
  {
   "cell_type": "code",
   "execution_count": 40,
   "metadata": {},
   "outputs": [
    {
     "data": {
      "text/plain": [
       "(1406, 1511, 2)"
      ]
     },
     "execution_count": 40,
     "metadata": {},
     "output_type": "execute_result"
    }
   ],
   "source": [
    "test_frame_person_id.shape"
   ]
  },
  {
   "cell_type": "code",
   "execution_count": 52,
   "metadata": {},
   "outputs": [
    {
     "data": {
      "text/plain": [
       "(1406,)"
      ]
     },
     "execution_count": 52,
     "metadata": {},
     "output_type": "execute_result"
    }
   ],
   "source": [
    "test_video_file.shape"
   ]
  },
  {
   "cell_type": "code",
   "execution_count": 60,
   "metadata": {},
   "outputs": [
    {
     "data": {
      "text/html": [
       "<div>\n",
       "<style scoped>\n",
       "    .dataframe tbody tr th:only-of-type {\n",
       "        vertical-align: middle;\n",
       "    }\n",
       "\n",
       "    .dataframe tbody tr th {\n",
       "        vertical-align: top;\n",
       "    }\n",
       "\n",
       "    .dataframe thead th {\n",
       "        text-align: right;\n",
       "    }\n",
       "</style>\n",
       "<table border=\"1\" class=\"dataframe\">\n",
       "  <thead>\n",
       "    <tr style=\"text-align: right;\">\n",
       "      <th></th>\n",
       "      <th>BB_tl_0</th>\n",
       "      <th>BB_tl_1</th>\n",
       "      <th>BB_br_0</th>\n",
       "      <th>BB_br_1</th>\n",
       "    </tr>\n",
       "  </thead>\n",
       "  <tbody>\n",
       "    <tr>\n",
       "      <td>0</td>\n",
       "      <td>443</td>\n",
       "      <td>107</td>\n",
       "      <td>484</td>\n",
       "      <td>236</td>\n",
       "    </tr>\n",
       "    <tr>\n",
       "      <td>7</td>\n",
       "      <td>443</td>\n",
       "      <td>107</td>\n",
       "      <td>484</td>\n",
       "      <td>235</td>\n",
       "    </tr>\n",
       "    <tr>\n",
       "      <td>13</td>\n",
       "      <td>444</td>\n",
       "      <td>107</td>\n",
       "      <td>484</td>\n",
       "      <td>234</td>\n",
       "    </tr>\n",
       "    <tr>\n",
       "      <td>19</td>\n",
       "      <td>444</td>\n",
       "      <td>106</td>\n",
       "      <td>484</td>\n",
       "      <td>234</td>\n",
       "    </tr>\n",
       "    <tr>\n",
       "      <td>25</td>\n",
       "      <td>444</td>\n",
       "      <td>105</td>\n",
       "      <td>485</td>\n",
       "      <td>233</td>\n",
       "    </tr>\n",
       "    <tr>\n",
       "      <td>...</td>\n",
       "      <td>...</td>\n",
       "      <td>...</td>\n",
       "      <td>...</td>\n",
       "      <td>...</td>\n",
       "    </tr>\n",
       "    <tr>\n",
       "      <td>8256</td>\n",
       "      <td>-32</td>\n",
       "      <td>155</td>\n",
       "      <td>-3</td>\n",
       "      <td>259</td>\n",
       "    </tr>\n",
       "    <tr>\n",
       "      <td>8261</td>\n",
       "      <td>-33</td>\n",
       "      <td>155</td>\n",
       "      <td>-4</td>\n",
       "      <td>259</td>\n",
       "    </tr>\n",
       "    <tr>\n",
       "      <td>8266</td>\n",
       "      <td>-34</td>\n",
       "      <td>156</td>\n",
       "      <td>-5</td>\n",
       "      <td>260</td>\n",
       "    </tr>\n",
       "    <tr>\n",
       "      <td>8271</td>\n",
       "      <td>-35</td>\n",
       "      <td>157</td>\n",
       "      <td>-6</td>\n",
       "      <td>260</td>\n",
       "    </tr>\n",
       "    <tr>\n",
       "      <td>8276</td>\n",
       "      <td>-36</td>\n",
       "      <td>157</td>\n",
       "      <td>-7</td>\n",
       "      <td>260</td>\n",
       "    </tr>\n",
       "  </tbody>\n",
       "</table>\n",
       "<p>950 rows × 4 columns</p>\n",
       "</div>"
      ],
      "text/plain": [
       "      BB_tl_0  BB_tl_1  BB_br_0  BB_br_1\n",
       "0         443      107      484      236\n",
       "7         443      107      484      235\n",
       "13        444      107      484      234\n",
       "19        444      106      484      234\n",
       "25        444      105      485      233\n",
       "...       ...      ...      ...      ...\n",
       "8256      -32      155       -3      259\n",
       "8261      -33      155       -4      259\n",
       "8266      -34      156       -5      260\n",
       "8271      -35      157       -6      260\n",
       "8276      -36      157       -7      260\n",
       "\n",
       "[950 rows x 4 columns]"
      ]
     },
     "execution_count": 60,
     "metadata": {},
     "output_type": "execute_result"
    }
   ],
   "source": [
    "data = pd.read_csv(\"/home/akanu/git/deep_sort_yolov3/Bounding_box/01avi.txt\", ' ')\n",
    "data[data['Person_ID'] == 1 ]['BB_tl_0\tBB_tl_1\tBB_br_0\tBB_br_1'.split()]"
   ]
  },
  {
   "cell_type": "code",
   "execution_count": 43,
   "metadata": {},
   "outputs": [
    {
     "data": {
      "text/plain": [
       "True"
      ]
     },
     "execution_count": 43,
     "metadata": {},
     "output_type": "execute_result"
    }
   ],
   "source": [
    "data = pd.read_csv(\"/home/akanu/git/deep_sort_yolov3/Bounding_box/01avi.txt\", ' ')\n",
    "k = data[data['Person_ID'] == 1 ]['BB_tl_0\tBB_tl_1\tBB_br_0\tBB_br_1'.split()].to_numpy()\n",
    "\n",
    "zero = np.zeros([561,4])\n",
    "# k =np.concatenate((zero,k), axis=0) #pre\n",
    "k =np.concatenate((k,zero), axis=0) #post\n",
    "np.array_equal(k ,person_box[0])\n",
    "# Shows that when pad is pre this is data taken from first person\n",
    "# Each batch is a \"new person\""
   ]
  },
  {
   "cell_type": "code",
   "execution_count": 44,
   "metadata": {},
   "outputs": [
    {
     "data": {
      "text/plain": [
       "(1511, 4)"
      ]
     },
     "execution_count": 44,
     "metadata": {},
     "output_type": "execute_result"
    }
   ],
   "source": [
    "person_box[0].shape"
   ]
  },
  {
   "cell_type": "code",
   "execution_count": 45,
   "metadata": {},
   "outputs": [],
   "source": [
    "model = keras.Sequential()\n",
    "model.add(keras.layers.LSTM(4, input_shape= train_person_box.shape[-2:]))\n",
    "# model = keras.Sequential([\n",
    "\n",
    "#     keras.layers.Flatten(input_shape=(28, 28)),\n",
    "#     keras.layers.Dense(128, activation=tf.nn.relu),\n",
    "#     keras.layers.Dense(10, activation=tf.nn.softmax)\n",
    "# ])\n",
    "model.compile(optimizer='adam', loss='mae')\n"
   ]
  },
  {
   "cell_type": "code",
   "execution_count": 24,
   "metadata": {
    "scrolled": true
   },
   "outputs": [
    {
     "name": "stdout",
     "output_type": "stream",
     "text": [
      "Epoch 1/3\n",
      "1327/1327 [==============================] - 81s 61ms/sample - loss: 0.6828\n",
      "Epoch 2/3\n",
      "1327/1327 [==============================] - 80s 60ms/sample - loss: 0.5912\n",
      "Epoch 3/3\n",
      "1327/1327 [==============================] - 80s 60ms/sample - loss: 0.5534\n"
     ]
    },
    {
     "data": {
      "text/plain": [
       "<tensorflow.python.keras.callbacks.History at 0x7f91cc761f28>"
      ]
     },
     "execution_count": 24,
     "metadata": {},
     "output_type": "execute_result"
    }
   ],
   "source": [
    "model.fit(x=train_person_box, epochs=3)"
   ]
  },
  {
   "cell_type": "code",
   "execution_count": 27,
   "metadata": {},
   "outputs": [
    {
     "data": {
      "text/plain": [
       "array([[ 0.7615942 ,  0.        ,  0.7615942 , -0.        ],\n",
       "       [-0.99999905, -0.        ,  0.7615942 ,  1.        ],\n",
       "       [ 0.7615942 ,  0.        ,  0.7615942 , -0.        ],\n",
       "       [ 0.7615942 ,  0.        ,  0.7615942 , -0.        ],\n",
       "       [-1.        , -0.        ,  0.7615942 ,  1.        ],\n",
       "       [ 0.7615942 ,  0.        ,  0.7615942 , -0.        ],\n",
       "       [ 0.7615942 ,  0.        ,  0.7615942 , -0.        ],\n",
       "       [ 0.7615942 , -0.        ,  0.7615942 ,  0.9894832 ],\n",
       "       [ 0.7615942 ,  0.        ,  0.7615942 , -0.        ],\n",
       "       [ 0.7615942 ,  0.        ,  0.7615942 , -0.        ],\n",
       "       [ 0.7615942 ,  0.        ,  0.7615942 ,  0.92481774],\n",
       "       [ 0.7615942 ,  0.        ,  0.7615942 ,  0.        ],\n",
       "       [ 0.7615942 , -0.        ,  0.7615942 ,  0.92481774],\n",
       "       [ 0.7615942 ,  0.        ,  0.7615942 , -0.        ],\n",
       "       [ 0.7615942 ,  0.        ,  0.7615942 , -0.        ],\n",
       "       [ 0.7615942 ,  0.        ,  0.        , -0.        ],\n",
       "       [ 0.7615942 ,  0.        ,  0.7615942 , -0.        ],\n",
       "       [ 0.7615942 , -0.        ,  0.7615942 , -0.        ],\n",
       "       [ 0.7615942 ,  0.        ,  0.7615942 , -0.        ],\n",
       "       [ 0.7615942 ,  0.        ,  0.7615942 , -0.        ],\n",
       "       [ 0.7615942 , -0.        ,  0.7615942 , -0.        ],\n",
       "       [ 0.7615942 , -0.        ,  0.7615942 , -0.        ],\n",
       "       [ 0.7615942 ,  0.        ,  0.7615942 ,  0.92481774],\n",
       "       [ 0.7615942 ,  0.        ,  0.7615942 , -0.        ],\n",
       "       [ 0.7615942 ,  0.        ,  0.7615942 , -0.        ],\n",
       "       [ 0.7615942 ,  0.        ,  0.7615942 ,  0.92481774],\n",
       "       [ 0.7615942 , -0.        ,  0.7615942 ,  0.92481774],\n",
       "       [ 0.7615942 ,  0.        ,  0.7615942 ,  0.92481774],\n",
       "       [ 0.7615942 ,  0.        ,  0.7615942 , -0.        ],\n",
       "       [ 0.7615942 ,  0.        ,  0.7615942 , -0.        ],\n",
       "       [ 0.7615942 , -0.        ,  0.7615942 ,  1.        ],\n",
       "       [ 0.7615942 ,  0.        ,  0.7615942 , -0.        ]],\n",
       "      dtype=float32)"
      ]
     },
     "execution_count": 27,
     "metadata": {},
     "output_type": "execute_result"
    }
   ],
   "source": [
    "model.predict(test_person_box[0:32])"
   ]
  },
  {
   "cell_type": "code",
   "execution_count": 46,
   "metadata": {},
   "outputs": [
    {
     "name": "stdout",
     "output_type": "stream",
     "text": [
      "Epoch 1/3\n",
      "1327/1327 [==============================] - 81s 61ms/sample - loss: 0.9825\n",
      "Epoch 2/3\n",
      "1327/1327 [==============================] - 80s 60ms/sample - loss: 0.9151\n",
      "Epoch 3/3\n",
      "1327/1327 [==============================] - 80s 60ms/sample - loss: 0.5925\n"
     ]
    },
    {
     "data": {
      "text/plain": [
       "<tensorflow.python.keras.callbacks.History at 0x7f912c7759b0>"
      ]
     },
     "execution_count": 46,
     "metadata": {},
     "output_type": "execute_result"
    }
   ],
   "source": [
    "model.fit(x=train_person_box, epochs=3)"
   ]
  },
  {
   "cell_type": "markdown",
   "metadata": {},
   "source": [
    "# Want to know if putting zeros in front or back effects training loss"
   ]
  },
  {
   "cell_type": "code",
   "execution_count": 51,
   "metadata": {},
   "outputs": [
    {
     "data": {
      "text/plain": [
       "array([[0.54451126, 0.6337535 , 0.57021266, 0.68583274],\n",
       "       [0.54451126, 0.6337535 , 0.57021266, 0.68583274],\n",
       "       [0.54451126, 0.6337535 , 0.57021266, 0.68583274],\n",
       "       [0.54451126, 0.6337535 , 0.57021266, 0.68583274],\n",
       "       [0.54451126, 0.6337535 , 0.57021266, 0.68583274],\n",
       "       [0.54451126, 0.6337535 , 0.57021266, 0.68583274],\n",
       "       [0.54451126, 0.6337535 , 0.57021266, 0.68583274],\n",
       "       [0.54451126, 0.6337535 , 0.57021266, 0.68583274],\n",
       "       [0.54451126, 0.6337535 , 0.57021266, 0.68583274],\n",
       "       [0.54451126, 0.6337535 , 0.57021266, 0.68583274],\n",
       "       [0.54451126, 0.6337535 , 0.57021266, 0.68583274],\n",
       "       [0.54451126, 0.6337535 , 0.57021266, 0.68583274],\n",
       "       [0.54451126, 0.6337535 , 0.57021266, 0.68583274],\n",
       "       [0.54451126, 0.6337535 , 0.57021266, 0.68583274],\n",
       "       [0.54451126, 0.6337535 , 0.57021266, 0.68583274],\n",
       "       [0.54451126, 0.6337535 , 0.57021266, 0.68583274],\n",
       "       [0.54451126, 0.6337535 , 0.57021266, 0.68583274],\n",
       "       [0.54451126, 0.6337535 , 0.57021266, 0.68583274],\n",
       "       [0.54451126, 0.6337535 , 0.57021266, 0.68583274],\n",
       "       [0.54451126, 0.6337535 , 0.57021266, 0.68583274],\n",
       "       [0.54451126, 0.6337535 , 0.57021266, 0.68583274],\n",
       "       [0.54451126, 0.6337535 , 0.57021266, 0.68583274],\n",
       "       [0.54451126, 0.6337535 , 0.57021266, 0.6858328 ],\n",
       "       [0.54451126, 0.6337535 , 0.57021266, 0.68583274],\n",
       "       [0.54451126, 0.6337535 , 0.57021266, 0.68583274],\n",
       "       [0.54451126, 0.6337535 , 0.57021266, 0.68583274],\n",
       "       [0.54451126, 0.6337535 , 0.57021266, 0.68583274],\n",
       "       [0.54451126, 0.6337535 , 0.57021266, 0.68583274],\n",
       "       [0.54451126, 0.6337535 , 0.57021266, 0.68583274],\n",
       "       [0.54451126, 0.6337535 , 0.57021266, 0.68583274],\n",
       "       [0.54451126, 0.6337535 , 0.57021266, 0.68583274],\n",
       "       [0.54451126, 0.6337535 , 0.57021266, 0.68583274]], dtype=float32)"
      ]
     },
     "execution_count": 51,
     "metadata": {},
     "output_type": "execute_result"
    }
   ],
   "source": [
    "model.predict(test_person_box[0:32])"
   ]
  },
  {
   "cell_type": "code",
   "execution_count": null,
   "metadata": {},
   "outputs": [],
   "source": [
    "BATCH_SIZE = 256\n",
    "BUFFER_SIZE = 500\n",
    "\n",
    "train_univariate = tf.data.Dataset.from_tensor_slices((train_person_box))\n",
    "train_univariate = train_univariate.cache().shuffle(BUFFER_SIZE).batch(BATCH_SIZE).repeat()\n",
    "\n",
    "val_univariate = tf.data.Dataset.from_tensor_slices((test_person_box))\n",
    "val_univariate = val_univariate.batch(BATCH_SIZE).repeat()"
   ]
  },
  {
   "cell_type": "code",
   "execution_count": null,
   "metadata": {},
   "outputs": [],
   "source": [
    "model1 = keras.Sequential()\n",
    "model1.add(keras.layers.LSTM(15, input_shape= train_person_box.shape[-2:]))\n",
    "# model = keras.Sequential([\n",
    "\n",
    "#     keras.layers.Flatten(input_shape=(28, 28)),\n",
    "#     keras.layers.Dense(128, activation=tf.nn.relu),\n",
    "#     keras.layers.Dense(10, activation=tf.nn.softmax)\n",
    "# ])\n",
    "model1.compile(optimizer='adam', loss='mae')\n"
   ]
  },
  {
   "cell_type": "code",
   "execution_count": null,
   "metadata": {},
   "outputs": [],
   "source": []
  },
  {
   "cell_type": "code",
   "execution_count": null,
   "metadata": {},
   "outputs": [],
   "source": []
  }
 ],
 "metadata": {
  "kernelspec": {
   "display_name": "Python 3",
   "language": "python",
   "name": "python3"
  },
  "language_info": {
   "codemirror_mode": {
    "name": "ipython",
    "version": 3
   },
   "file_extension": ".py",
   "mimetype": "text/x-python",
   "name": "python",
   "nbconvert_exporter": "python",
   "pygments_lexer": "ipython3",
   "version": "3.6.9"
  }
 },
 "nbformat": 4,
 "nbformat_minor": 4
}
