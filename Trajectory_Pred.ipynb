{
 "cells": [
  {
   "cell_type": "code",
   "execution_count": 24,
   "metadata": {},
   "outputs": [],
   "source": [
    "import pandas as pd\n",
    "import cv2\n",
    "%matplotlib inline\n",
    "from matplotlib import pyplot as plt\n",
    "import matplotlib\n",
    "import tensorflow as tf\n",
    "# import tensorflow.compat.v1 as tf\n",
    "from tensorflow import keras\n",
    "import numpy as np\n",
    "from keras.preprocessing.sequence import pad_sequences\n",
    "import os\n",
    "import time\n",
    "from sklearn.preprocessing import MinMaxScaler\n",
    "from sklearn.model_selection import train_test_split\n",
    "from collections import OrderedDict\n",
    "# from tensorflow.python.ops import math_ops\n",
    "import tensorflow.keras.backend as kb\n",
    "from load_data import Files_Load, Boxes, test_split_norm_abnorm, norm_train_max_min\n",
    "\n",
    "from sklearn.cluster import KMeans\n"
   ]
  },
  {
   "cell_type": "code",
   "execution_count": 2,
   "metadata": {},
   "outputs": [
    {
     "name": "stdout",
     "output_type": "stream",
     "text": [
      "Num GPUs Available:  2\n"
     ]
    }
   ],
   "source": [
    "print(\"Num GPUs Available: \", len(tf.config.experimental.list_physical_devices('GPU')))\n"
   ]
  },
  {
   "cell_type": "code",
   "execution_count": 3,
   "metadata": {},
   "outputs": [
    {
     "data": {
      "text/plain": [
       "[PhysicalDevice(name='/physical_device:GPU:0', device_type='GPU'),\n",
       " PhysicalDevice(name='/physical_device:GPU:1', device_type='GPU')]"
      ]
     },
     "execution_count": 3,
     "metadata": {},
     "output_type": "execute_result"
    }
   ],
   "source": [
    "# tf.test.is_gpu_available()\n",
    "\n",
    "tf.config.list_physical_devices('GPU')"
   ]
  },
  {
   "cell_type": "code",
   "execution_count": 4,
   "metadata": {},
   "outputs": [
    {
     "name": "stdout",
     "output_type": "stream",
     "text": [
      "2 Physical GPUs, 2 Logical GPUs\n"
     ]
    }
   ],
   "source": [
    "gpus = tf.config.experimental.list_physical_devices('GPU')\n",
    "if gpus:\n",
    "  # Restrict TensorFlow to only allocate 1GB of memory on the first GPU\n",
    "  try:\n",
    "    tf.config.experimental.set_virtual_device_configuration(\n",
    "        gpus[0],\n",
    "        [tf.config.experimental.VirtualDeviceConfiguration(memory_limit=5500)])\n",
    "    logical_gpus = tf.config.experimental.list_logical_devices('GPU')\n",
    "    print(len(gpus), \"Physical GPUs,\", len(logical_gpus), \"Logical GPUs\")\n",
    "  except RuntimeError as e:\n",
    "    # Virtual devices must be set before GPUs have been initialized\n",
    "    print(e)"
   ]
  },
  {
   "cell_type": "code",
   "execution_count": 5,
   "metadata": {},
   "outputs": [
    {
     "name": "stdout",
     "output_type": "stream",
     "text": [
      "Num GPUs Available:  2\n"
     ]
    }
   ],
   "source": [
    "print(\"Num GPUs Available: \", len(tf.config.experimental.list_physical_devices('GPU')))\n"
   ]
  },
  {
   "cell_type": "markdown",
   "metadata": {},
   "source": [
    "# Load Data"
   ]
  },
  {
   "cell_type": "code",
   "execution_count": 6,
   "metadata": {},
   "outputs": [],
   "source": [
    "frames = 20\n",
    "startvid=0\n",
    "endvid=1\n",
    "\n",
    "train_file = \"/home/akanu/Dataset/Anomaly/Avenue_Dataset/bounding_box_tlbr/Txt_Data/Train_Box/\"\n",
    "test_file = \"/home/akanu/Dataset/Anomaly/Avenue_Dataset/bounding_box_tlbr/Txt_Data/Test_Box/\"\n",
    "\n",
    "loc_files_train, loc_files_test, box_train_txt, box_test_txt = Files_Load(train_file, test_file)\n",
    "\n",
    "traindict = Boxes(loc_files_train, box_train_txt, frames, pad ='pre')\n",
    "testdict = Boxes(loc_files_test[startvid:endvid], box_test_txt[startvid:endvid], frames, pad ='pre')\n",
    "abnormal_dict, normal_dict = test_split_norm_abnorm(testdict)\n",
    "\n",
    "# Normilize data\n",
    "max1 = traindict['x_ppl_box'].max()\n",
    "min1 = traindict['x_ppl_box'].min()\n",
    "xx,yy = norm_train_max_min(data_dict = traindict, max1=max1,min1=min1)\n",
    "xx_norm,yy_norm = norm_train_max_min(data_dict = normal_dict, max1=max1,min1=min1)\n",
    "xx_abnorm,yy_abnorm = norm_train_max_min(data_dict = abnormal_dict, max1=max1,min1=min1)\n",
    "\n",
    "\n",
    "\n"
   ]
  },
  {
   "cell_type": "code",
   "execution_count": 7,
   "metadata": {},
   "outputs": [],
   "source": [
    "frames = 20\n",
    "startvid=0\n",
    "endvid=1\n",
    "\n",
    "train_file = \"/home/akanu/Dataset/Anomaly/Avenue_Dataset/bounding_box_xywh/Txt_Data/Train_Box/\"\n",
    "test_file = \"/home/akanu/Dataset/Anomaly/Avenue_Dataset/bounding_box_xywh/Txt_Data/Test_Box/\"\n",
    "\n",
    "loc_files_train, loc_files_test, box_train_txt, box_test_txt = Files_Load(train_file, test_file)\n",
    "\n",
    "traindict1 = Boxes(loc_files_train, box_train_txt, frames, pad ='pre')\n",
    "testdict1 = Boxes(loc_files_test[startvid:endvid], box_test_txt[startvid:endvid], frames, pad ='pre')\n",
    "abnormal_dict1, normal_dict1 = test_split_norm_abnorm(testdict)\n",
    "\n",
    "# Normilize data\n",
    "max11 = traindict1['x_ppl_box'].max()\n",
    "min11 = traindict1['x_ppl_box'].min()\n",
    "xx1,yy1 = norm_train_max_min(data_dict = traindict1, max1=max11,min1=min11)\n",
    "xx_norm1,yy_norm1 = norm_train_max_min(data_dict = normal_dict1, max1=max11,min1=min11)\n",
    "xx_abnorm1,yy_abnorm1 = norm_train_max_min(data_dict = abnormal_dict1, max1=max11,min1=min11)"
   ]
  },
  {
   "cell_type": "code",
   "execution_count": 11,
   "metadata": {},
   "outputs": [],
   "source": [
    "BUFFER_SIZE = 10000\n",
    "BATCH_SIZE = 32\n",
    "xx_train, xx_val,yy_train,yy_val = train_test_split(xx,yy, test_size = 0.1)\n",
    "train_univariate = tf.data.Dataset.from_tensor_slices((xx_train,yy_train))\n",
    "train_univariate = train_univariate.cache().shuffle(BUFFER_SIZE).batch(BATCH_SIZE)\n",
    "val_univariate = tf.data.Dataset.from_tensor_slices((xx_val,yy_val))\n",
    "val_univariate = val_univariate.cache().shuffle(BUFFER_SIZE).batch(BATCH_SIZE)"
   ]
  },
  {
   "cell_type": "markdown",
   "metadata": {},
   "source": [
    "# Metrics"
   ]
  },
  {
   "cell_type": "code",
   "execution_count": 12,
   "metadata": {},
   "outputs": [],
   "source": [
    "def bb_intersection_over_union(y, x):\n",
    "    xA = kb.max((x[:,0:1],y[:,0:1]), axis=0,keepdims=True)\n",
    "    yA = kb.max((x[:,1:2],y[:,1:2]), axis=0,keepdims=True)\n",
    "    xB = kb.min((x[:,2:3],y[:,2:3]), axis=0,keepdims=True)\n",
    "    yB = kb.min((x[:,3:4],y[:,3:4]), axis=0,keepdims=True)\n",
    "\n",
    "    interArea1 = kb.max((kb.zeros_like(xB), (xB-xA +1) ), axis=0, keepdims=True)\n",
    "    interArea2 = kb.max((kb.zeros_like(xB), (yB-yA +1) ), axis=0, keepdims=True)\n",
    "    interArea = interArea1*interArea2\n",
    "    boxAArea = (x[:,2:3] - x[:,0:1] + 1) * (x[:,3:4] - x[:,1:2] + 1)\n",
    "    boxBArea = (y[:,2:3] - y[:,0:1] + 1) * (y[:,3:4] - y[:,1:2] + 1)\n",
    "\n",
    "    iou = interArea / (boxAArea + boxBArea - interArea)\n",
    "    iou_mean = -kb.mean(iou)\n",
    "    return iou_mean"
   ]
  },
  {
   "cell_type": "markdown",
   "metadata": {},
   "source": [
    "\n",
    "\n",
    "\n",
    "\n",
    "\n",
    "\n",
    "\n",
    "\n",
    "\n",
    "\n",
    "\n",
    "\n",
    "\n",
    "\n",
    "\n",
    "\n",
    "\n",
    "\n",
    "\n",
    "\n",
    "# LSTM 20 Frames"
   ]
  },
  {
   "cell_type": "code",
   "execution_count": 11,
   "metadata": {},
   "outputs": [
    {
     "name": "stdout",
     "output_type": "stream",
     "text": [
      "Epoch 1/100\n",
      "3902/3902 [==============================] - 89s 23ms/step - loss: -0.3478 - mse: 0.1102 - val_loss: -0.4653 - val_mse: 0.0542\n",
      "Epoch 2/100\n",
      "3902/3902 [==============================] - 88s 22ms/step - loss: -0.5621 - mse: 0.0323 - val_loss: -0.6750 - val_mse: 0.0174\n",
      "Epoch 3/100\n",
      "3902/3902 [==============================] - 88s 22ms/step - loss: -0.7764 - mse: 0.0095 - val_loss: -0.8531 - val_mse: 0.0037\n",
      "Epoch 4/100\n",
      "3902/3902 [==============================] - 88s 22ms/step - loss: -0.8827 - mse: 0.0023 - val_loss: -0.9049 - val_mse: 0.0014\n",
      "Epoch 5/100\n",
      "3902/3902 [==============================] - 88s 22ms/step - loss: -0.9216 - mse: 9.8796e-04 - val_loss: -0.9343 - val_mse: 7.8346e-04\n",
      "Epoch 6/100\n",
      "3902/3902 [==============================] - 88s 22ms/step - loss: -0.9381 - mse: 7.2237e-04 - val_loss: -0.9402 - val_mse: 7.0497e-04\n",
      "Epoch 7/100\n",
      "3902/3902 [==============================] - 88s 22ms/step - loss: -0.9418 - mse: 6.7206e-04 - val_loss: -0.9431 - val_mse: 6.6793e-04\n",
      "Epoch 8/100\n",
      "3902/3902 [==============================] - 88s 22ms/step - loss: -0.9443 - mse: 6.4123e-04 - val_loss: -0.9453 - val_mse: 6.4265e-04\n",
      "Epoch 9/100\n",
      "3902/3902 [==============================] - 88s 23ms/step - loss: -0.9463 - mse: 6.1906e-04 - val_loss: -0.9471 - val_mse: 6.2351e-04\n",
      "Epoch 10/100\n",
      "3902/3902 [==============================] - 88s 22ms/step - loss: -0.9480 - mse: 6.0194e-04 - val_loss: -0.9486 - val_mse: 6.0829e-04\n",
      "Epoch 11/100\n",
      "3902/3902 [==============================] - 88s 22ms/step - loss: -0.9494 - mse: 5.8865e-04 - val_loss: -0.9499 - val_mse: 5.9662e-04\n",
      "Epoch 12/100\n",
      "3902/3902 [==============================] - 88s 23ms/step - loss: -0.9506 - mse: 5.7882e-04 - val_loss: -0.9509 - val_mse: 5.8847e-04\n",
      "Epoch 13/100\n",
      "3902/3902 [==============================] - 88s 22ms/step - loss: -0.9514 - mse: 5.7260e-04 - val_loss: -0.9515 - val_mse: 5.8325e-04\n",
      "Epoch 14/100\n",
      "3902/3902 [==============================] - 88s 22ms/step - loss: -0.9519 - mse: 5.6886e-04 - val_loss: -0.9519 - val_mse: 5.7952e-04\n",
      "Epoch 15/100\n",
      "3902/3902 [==============================] - 88s 22ms/step - loss: -0.9522 - mse: 5.6603e-04 - val_loss: -0.9520 - val_mse: 5.7880e-04\n",
      "Epoch 16/100\n",
      "3902/3902 [==============================] - 88s 22ms/step - loss: -0.9524 - mse: 5.6334e-04 - val_loss: -0.9523 - val_mse: 5.7510e-04\n",
      "Epoch 17/100\n",
      "3902/3902 [==============================] - 88s 22ms/step - loss: -0.9526 - mse: 5.6065e-04 - val_loss: -0.9523 - val_mse: 5.7207e-04\n"
     ]
    }
   ],
   "source": [
    "with tf.device('/device:GPU:1'):\n",
    "    lstm_20 = keras.Sequential()\n",
    "    lstm_20.add(keras.layers.InputLayer(input_shape=xx.shape[-2:]))\n",
    "    lstm_20.add(keras.layers.LSTM(4,return_sequences =True ))\n",
    "    lstm_20.add(keras.layers.LSTM(3,return_sequences =True ))\n",
    "    lstm_20.add(keras.layers.LSTM(6,return_sequences =True ))\n",
    "    lstm_20.add(keras.layers.LSTM(4,return_sequences =True ))\n",
    "    lstm_20.add(keras.layers.LSTM(4,return_sequences =True ))\n",
    "    lstm_20.add(keras.layers.LSTM(4) )\n",
    "    lstm_20.add(keras.layers.Dense(4) )\n",
    "    opt = tf.keras.optimizers.Adam(learning_rate=8.726e-06)\n",
    "    checkpoint_cb = keras.callbacks.ModelCheckpoint(\"tlbr_20_5_arch.h5\", \n",
    "                                                       save_best_only = True)\n",
    "    early_stopping = tf.keras.callbacks.EarlyStopping(monitor='val_loss', min_delta=0.005, patience=5)\n",
    "    lstm_20.compile(optimizer=opt, loss=bb_intersection_over_union, metrics='mse')\n",
    "    \n",
    "    lstm_20_history_1= lstm_20.fit(train_univariate,\n",
    "                               validation_data = val_univariate,\n",
    "                               epochs=100, \n",
    "                               callbacks = [early_stopping, checkpoint_cb])"
   ]
  },
  {
   "cell_type": "code",
   "execution_count": null,
   "metadata": {},
   "outputs": [],
   "source": []
  },
  {
   "cell_type": "code",
   "execution_count": 12,
   "metadata": {},
   "outputs": [
    {
     "name": "stdout",
     "output_type": "stream",
     "text": [
      "Model: \"sequential\"\n",
      "_________________________________________________________________\n",
      "Layer (type)                 Output Shape              Param #   \n",
      "=================================================================\n",
      "lstm (LSTM)                  (None, 20, 4)             144       \n",
      "_________________________________________________________________\n",
      "lstm_1 (LSTM)                (None, 20, 3)             96        \n",
      "_________________________________________________________________\n",
      "lstm_2 (LSTM)                (None, 20, 6)             240       \n",
      "_________________________________________________________________\n",
      "lstm_3 (LSTM)                (None, 20, 4)             176       \n",
      "_________________________________________________________________\n",
      "lstm_4 (LSTM)                (None, 20, 4)             144       \n",
      "_________________________________________________________________\n",
      "lstm_5 (LSTM)                (None, 4)                 144       \n",
      "_________________________________________________________________\n",
      "dense (Dense)                (None, 4)                 20        \n",
      "=================================================================\n",
      "Total params: 964\n",
      "Trainable params: 964\n",
      "Non-trainable params: 0\n",
      "_________________________________________________________________\n"
     ]
    }
   ],
   "source": [
    "lstm_20.summary()"
   ]
  },
  {
   "cell_type": "code",
   "execution_count": 14,
   "metadata": {
    "scrolled": true
   },
   "outputs": [
    {
     "data": {
      "text/plain": [
       "Text(0.5, 1.0, 'LSTM, 20 Frames')"
      ]
     },
     "execution_count": 14,
     "metadata": {},
     "output_type": "execute_result"
    },
    {
     "data": {
      "image/png": "[encoded data removed]",
      "text/plain": [
       "<Figure size 432x288 with 1 Axes>"
      ]
     },
     "metadata": {
      "needs_background": "light"
     },
     "output_type": "display_data"
    }
   ],
   "source": [
    "i =1\n",
    "j=17\n",
    "plt.plot(np.arange(i,j), lstm_20_history_1.history['loss'][i:j],'b+', label='loss')\n",
    "plt.plot(np.arange(i,j), lstm_20_history_1.history['val_loss'][i:j],'r-+', label='val loss')\n",
    "\n",
    "plt.legend()\n",
    "plt.title('LSTM, 20 Frames')"
   ]
  },
  {
   "cell_type": "markdown",
   "metadata": {},
   "source": [
    "# Results creation"
   ]
  },
  {
   "cell_type": "code",
   "execution_count": 13,
   "metadata": {},
   "outputs": [],
   "source": [
    "def visual_ouput(model=None,max1 = None,min1=None, vid=None,pic_loc =None, output_dict=None,tlbr = True):\n",
    "    # Right now this only works for one video at a time\n",
    "    \n",
    "    xx,yy = norm_train_max_min(data_dict = output_dict, max1 = max1,min1 =min1)\n",
    "    size = len(output_dict['frame_ppl_id'])\n",
    "    \n",
    "    #sort index by frames\n",
    "    frame = []\n",
    "    for i in range(0,size):\n",
    "        #sort index by frames\n",
    "        frame.append(output_dict['frame_ppl_id'][i,-1,0])\n",
    "    \n",
    "    frame = np.array(frame)\n",
    "    sort_index = frame.argsort()\n",
    "    #Sorted from first to last frame\n",
    "    xx_scal, yy_scal = xx[sort_index], yy[sort_index]\n",
    "    vid_file = output_dict['video_file'][sort_index] # not really needed if using one video\n",
    "    frame_ppl = output_dict['frame_ppl_id'][sort_index]\n",
    "    y_true = output_dict['y_ppl_box'][sort_index] # not normailized\n",
    "    \n",
    "    # Note that predicted outout is already sorted\n",
    "    y_pred_scal = model.predict(xx_scal)\n",
    "    y_pred = norm_train_max_min(data=y_pred_scal, max1 = max1,min1 =min1,undo_norm=True)\n",
    "    \n",
    "\n",
    "    stop = frame[sort_index][-1] + 1\n",
    "    next_frame_index,j = 0,0\n",
    "    \n",
    "    #  Start Video\n",
    "    loc_videos =\"/home/akanu/Dataset/Anomaly/Avenue_Dataset/testing_videos/{:02}.avi\".format(vid)\n",
    "    video_capture = cv2.VideoCapture(loc_videos)\n",
    "\n",
    "    if not tlbr:\n",
    "        pass\n",
    "        # Need to call a fuction that changes to tlbw so I can plot correctly\n",
    "    for i in range(0,stop):\n",
    "        ret, frame = video_capture.read()\n",
    "        if i == frame_ppl[j,-1,0]: #finds the frame\n",
    "            while i == frame_ppl[j,-1,0]:\n",
    "                y_fr_act = y_true[j]\n",
    "                y_fr_pred = y_pred[j]\n",
    "                id1 = frame_ppl[j,-1,1]\n",
    "#                 print(\"{}  ,{}\".format(y_fr_act.shape, y_fr_pred.shape))\n",
    "\n",
    "                gt_frame = frame.copy()\n",
    "                pred_frame = frame.copy()\n",
    "                both_frame = frame.copy()\n",
    "\n",
    "    \n",
    "                # Ground Truth\n",
    "                cv2.rectangle(gt_frame, (int(y_fr_act[0]), int(y_fr_act[1])), (int(y_fr_act[2]), int(y_fr_act[3])),(0,255,0), 2)\n",
    "#                 cv2.putText(gt_frame, str(frame_ppl[j,-1,1]),(int(y_fr_act[0]), int(y_fr_act[1])),0, 5e-3 * 200, (255,255,0),2)\n",
    "                \n",
    "                # Predicted\n",
    "                cv2.rectangle(pred_frame, (int(y_fr_pred[0]), int(y_fr_pred[1])), (int(y_fr_pred[2]), int(y_fr_pred[3])),(0,255,255), 2)\n",
    "#                 cv2.putText(pred_frame, str(frame_ppl[j,-1,1]),(int(y_fr_pred[2]), int(y_fr_pred[3])),0, 5e-3 * 200, (255,255,0),2)\n",
    "                \n",
    "                # Combined frame\n",
    "                cv2.rectangle(both_frame, (int(y_fr_act[0]), int(y_fr_act[1])), (int(y_fr_act[2]), int(y_fr_act[3])),(0,255,0), 2)\n",
    "#                 cv2.putText(both_frame, str(frame_ppl[j,-1,1]),(int(y_fr_act[0]), int(y_fr_act[1])),0, 5e-3 * 200, (255,255,0),2)\n",
    "                cv2.rectangle(both_frame, (int(y_fr_pred[0]), int(y_fr_pred[1])), (int(y_fr_pred[2]), int(y_fr_pred[3])),(0,255,255), 2)\n",
    "#                 cv2.putText(both_frame, str(frame_ppl[j,-1,1]),(int(y_fr_pred[2]), int(y_fr_pred[3])),0, 5e-3 * 200, (255,255,0),2)\n",
    "                \n",
    "                \n",
    "                cv2.imwrite(pic_loc.format(vid,i,id1) + '_gt.jpg', gt_frame)\n",
    "                cv2.imwrite(pic_loc.format(vid,i,id1) + '_pred.jpg', pred_frame)\n",
    "                cv2.imwrite(pic_loc.format(vid,i,id1) + '_both.jpg', both_frame)\n",
    "\n",
    "\n",
    "\n",
    "                \n",
    "                next_frame_index +=1\n",
    "                j = next_frame_index\n",
    "#                 print('saved')\n",
    "#                 print(j)\n",
    "                if j == size:\n",
    "                    return"
   ]
  },
  {
   "cell_type": "code",
   "execution_count": 14,
   "metadata": {},
   "outputs": [],
   "source": [
    "# start = time.time()\n",
    "# pic_loc = '/home/akanu/git/anomalous_pred/resulting_images/tlbr/test_norm/{:02d}_{:02d}_{}'\n",
    "# visual_ouput(model=lstm_20,max1 = max1,min1=min1, vid=1, pic_loc =pic_loc, output_dict=normal_dict,tlbr = True)\n",
    "# end = time.time()\n",
    "# print(end-start)"
   ]
  },
  {
   "cell_type": "code",
   "execution_count": 15,
   "metadata": {},
   "outputs": [],
   "source": [
    "# pic_loc = '/home/akanu/git/anomalous_pred/resulting_images/tlbr/test_abnorm/{:02d}_{:02d}_{}'\n",
    "# visual_ouput(model=lstm_20,max1 = max1,min1=min1, vid=1, pic_loc =pic_loc, output_dict=abnorm_dict,tlbr = True)"
   ]
  },
  {
   "cell_type": "markdown",
   "metadata": {},
   "source": [
    "# Pedestrain"
   ]
  },
  {
   "cell_type": "code",
   "execution_count": 16,
   "metadata": {},
   "outputs": [],
   "source": [
    "def pedsort(datadict):\n",
    "    \n",
    "    ped = {}\n",
    "    \n",
    "    # For each pedestrain want to create a new key\n",
    "    per_id = np.unique(datadict['frame_ppl_id'][:,-1,1])\n",
    "    for i in per_id:\n",
    "        ped[str(i)] = {}\n",
    "        index = np.where(datadict['frame_ppl_id'][:,-1,1] == i)\n",
    "        # should ensure it sorted by frame\n",
    "        temp = {}\n",
    "        for key in datadict.keys():\n",
    "            temp[key] = datadict[key][index]\n",
    "            \n",
    "        ped[str(i)] = temp\n",
    "    return ped\n",
    "        \n",
    "    "
   ]
  },
  {
   "cell_type": "code",
   "execution_count": 17,
   "metadata": {},
   "outputs": [],
   "source": [
    "def bb_intersection_over_union_np(y, x):\n",
    "    y = y.astype(float)\n",
    "    x = x.astype(float)\n",
    "    xA = np.max((x[:,0:1],y[:,0:1]), axis=0,keepdims=True)\n",
    "    yA = np.max((x[:,1:2],y[:,1:2]), axis=0,keepdims=True)\n",
    "    xB = np.min((x[:,2:3],y[:,2:3]), axis=0,keepdims=True)\n",
    "    yB = np.min((x[:,3:4],y[:,3:4]), axis=0,keepdims=True)\n",
    "\n",
    "    interArea1 = np.max((np.zeros_like(xB), (xB-xA +1) ), axis=0, keepdims=True)\n",
    "    interArea2 = np.max((np.zeros_like(xB), (yB-yA +1) ), axis=0, keepdims=True)\n",
    "    interArea = interArea1*interArea2\n",
    "    boxAArea = (x[:,2:3] - x[:,0:1] + 1) * (x[:,3:4] - x[:,1:2] + 1)\n",
    "    boxBArea = (y[:,2:3] - y[:,0:1] + 1) * (y[:,3:4] - y[:,1:2] + 1)\n",
    "\n",
    "    iou = interArea / (boxAArea + boxBArea - interArea)\n",
    "#     iou_mean = -np.mean(iou)\n",
    "    return iou"
   ]
  },
  {
   "cell_type": "code",
   "execution_count": 18,
   "metadata": {},
   "outputs": [],
   "source": [
    "ped = pedsort(testdict)"
   ]
  },
  {
   "cell_type": "code",
   "execution_count": 146,
   "metadata": {},
   "outputs": [
    {
     "data": {
      "text/plain": [
       "array([[ 84.,   0., 308., 370.],\n",
       "       [ 89.,   0., 320., 370.],\n",
       "       [ 92.,   0., 328., 366.],\n",
       "       [ 89.,   1., 333., 367.],\n",
       "       [ 70.,   8., 316., 368.],\n",
       "       [ 63.,  11., 315., 369.],\n",
       "       [ 59.,  15., 314., 367.],\n",
       "       [ 79.,  12., 336., 365.],\n",
       "       [ 94.,   9., 355., 363.],\n",
       "       [117.,   5., 381., 358.]])"
      ]
     },
     "execution_count": 146,
     "metadata": {},
     "output_type": "execute_result"
    }
   ],
   "source": [
    "norm_train_max_min(data=y, max1=max1, min1=min1 , undo_norm=True)[:10]"
   ]
  },
  {
   "cell_type": "code",
   "execution_count": 145,
   "metadata": {},
   "outputs": [
    {
     "data": {
      "text/plain": [
       "array([[ 84,   0, 308, 370],\n",
       "       [ 89,   0, 320, 370],\n",
       "       [ 92,   0, 328, 366],\n",
       "       [ 89,   1, 333, 367],\n",
       "       [ 70,   8, 316, 368],\n",
       "       [ 63,  11, 315, 369],\n",
       "       [ 59,  15, 314, 367],\n",
       "       [ 79,  12, 336, 365],\n",
       "       [ 94,   9, 355, 363],\n",
       "       [117,   5, 381, 358]])"
      ]
     },
     "execution_count": 145,
     "metadata": {},
     "output_type": "execute_result"
    }
   ],
   "source": [
    "ped[j]['y_ppl_box'][:10]"
   ]
  },
  {
   "cell_type": "code",
   "execution_count": 65,
   "metadata": {},
   "outputs": [],
   "source": [
    "out1 = model.predict(x)\n",
    "# out = norm_train_max_min(data=out1, max1 = max1,min1 =min1,undo_norm=True)\n",
    "# bb_intersection_over_union_np(out, ped[j]['y_ppl_box'])\n",
    "out = bb_intersection_over_union_np(out1,y)\n",
    "# out = bb_intersection_over_union_np(out,ped[j]['y_ppl_box'])"
   ]
  },
  {
   "cell_type": "code",
   "execution_count": 153,
   "metadata": {},
   "outputs": [
    {
     "data": {
      "text/plain": [
       "Text(0, 0.5, 'IOU')"
      ]
     },
     "execution_count": 153,
     "metadata": {},
     "output_type": "execute_result"
    },
    {
     "data": {
      "image/png": "[encoded data removed]",
      "text/plain": [
       "<Figure size 432x288 with 1 Axes>"
      ]
     },
     "metadata": {
      "needs_background": "light"
     },
     "output_type": "display_data"
    }
   ],
   "source": [
    "plt.plot(ped[j]['frame_ppl_id'][:,-1,0], np.squeeze(out),'-')\n",
    "plt.xlabel('Frame')\n",
    "plt.ylabel('IOU')"
   ]
  },
  {
   "cell_type": "code",
   "execution_count": 125,
   "metadata": {},
   "outputs": [
    {
     "data": {
      "text/plain": [
       "array([[[[0.00000000e+00],\n",
       "         [0.00000000e+00],\n",
       "         [0.00000000e+00],\n",
       "         [0.00000000e+00],\n",
       "         [0.00000000e+00],\n",
       "         [0.00000000e+00],\n",
       "         [0.00000000e+00],\n",
       "         [0.00000000e+00],\n",
       "         [0.00000000e+00],\n",
       "         [0.00000000e+00],\n",
       "         [0.00000000e+00],\n",
       "         [0.00000000e+00],\n",
       "         [0.00000000e+00],\n",
       "         [0.00000000e+00],\n",
       "         [0.00000000e+00],\n",
       "         [0.00000000e+00],\n",
       "         [0.00000000e+00],\n",
       "         [0.00000000e+00],\n",
       "         [0.00000000e+00],\n",
       "         [0.00000000e+00],\n",
       "         [0.00000000e+00],\n",
       "         [0.00000000e+00],\n",
       "         [0.00000000e+00],\n",
       "         [0.00000000e+00],\n",
       "         [0.00000000e+00],\n",
       "         [0.00000000e+00],\n",
       "         [0.00000000e+00],\n",
       "         [0.00000000e+00],\n",
       "         [0.00000000e+00],\n",
       "         [0.00000000e+00],\n",
       "         [0.00000000e+00],\n",
       "         [0.00000000e+00],\n",
       "         [0.00000000e+00],\n",
       "         [0.00000000e+00],\n",
       "         [0.00000000e+00],\n",
       "         [0.00000000e+00],\n",
       "         [2.34519165e-03],\n",
       "         [0.00000000e+00],\n",
       "         [0.00000000e+00],\n",
       "         [0.00000000e+00],\n",
       "         [0.00000000e+00],\n",
       "         [0.00000000e+00],\n",
       "         [0.00000000e+00],\n",
       "         [0.00000000e+00],\n",
       "         [0.00000000e+00],\n",
       "         [0.00000000e+00],\n",
       "         [0.00000000e+00],\n",
       "         [0.00000000e+00],\n",
       "         [0.00000000e+00],\n",
       "         [0.00000000e+00],\n",
       "         [0.00000000e+00],\n",
       "         [0.00000000e+00],\n",
       "         [0.00000000e+00],\n",
       "         [0.00000000e+00],\n",
       "         [0.00000000e+00],\n",
       "         [0.00000000e+00],\n",
       "         [1.32132576e-03],\n",
       "         [1.04136042e-02],\n",
       "         [1.75150847e-02],\n",
       "         [1.75680149e-02],\n",
       "         [1.36624567e-02],\n",
       "         [5.78444577e-03],\n",
       "         [0.00000000e+00],\n",
       "         [0.00000000e+00],\n",
       "         [0.00000000e+00],\n",
       "         [0.00000000e+00],\n",
       "         [0.00000000e+00],\n",
       "         [0.00000000e+00],\n",
       "         [0.00000000e+00],\n",
       "         [0.00000000e+00],\n",
       "         [0.00000000e+00],\n",
       "         [0.00000000e+00],\n",
       "         [0.00000000e+00],\n",
       "         [0.00000000e+00],\n",
       "         [0.00000000e+00],\n",
       "         [0.00000000e+00],\n",
       "         [0.00000000e+00],\n",
       "         [0.00000000e+00],\n",
       "         [0.00000000e+00],\n",
       "         [0.00000000e+00],\n",
       "         [0.00000000e+00],\n",
       "         [6.25782767e-03],\n",
       "         [1.47225878e-02],\n",
       "         [1.92589784e-02],\n",
       "         [2.06406200e-02],\n",
       "         [2.42832207e-02],\n",
       "         [2.40776754e-02],\n",
       "         [2.25945174e-02],\n",
       "         [2.05889355e-02],\n",
       "         [3.94712571e-03],\n",
       "         [0.00000000e+00],\n",
       "         [0.00000000e+00],\n",
       "         [2.46927514e-03],\n",
       "         [5.08915579e-03],\n",
       "         [0.00000000e+00],\n",
       "         [0.00000000e+00],\n",
       "         [0.00000000e+00],\n",
       "         [0.00000000e+00],\n",
       "         [0.00000000e+00],\n",
       "         [0.00000000e+00],\n",
       "         [0.00000000e+00],\n",
       "         [0.00000000e+00],\n",
       "         [0.00000000e+00],\n",
       "         [0.00000000e+00],\n",
       "         [0.00000000e+00],\n",
       "         [4.43851906e-04],\n",
       "         [1.24337519e-02],\n",
       "         [2.62329163e-02],\n",
       "         [3.76289136e-02],\n",
       "         [3.61955913e-02],\n",
       "         [2.49310823e-02],\n",
       "         [1.29734899e-02],\n",
       "         [8.63577282e-03],\n",
       "         [7.11651626e-03],\n",
       "         [8.71266343e-03],\n",
       "         [1.02148119e-02],\n",
       "         [8.81860806e-03],\n",
       "         [5.19367629e-03],\n",
       "         [3.99564619e-03],\n",
       "         [2.14017033e-04],\n",
       "         [0.00000000e+00],\n",
       "         [8.60009778e-04],\n",
       "         [0.00000000e+00],\n",
       "         [1.40520980e-02],\n",
       "         [1.49328501e-02],\n",
       "         [1.58365715e-02],\n",
       "         [1.37084700e-02],\n",
       "         [8.91039394e-03],\n",
       "         [7.77403935e-03],\n",
       "         [4.72105796e-03],\n",
       "         [0.00000000e+00],\n",
       "         [0.00000000e+00],\n",
       "         [0.00000000e+00],\n",
       "         [0.00000000e+00],\n",
       "         [0.00000000e+00],\n",
       "         [0.00000000e+00],\n",
       "         [0.00000000e+00],\n",
       "         [0.00000000e+00],\n",
       "         [0.00000000e+00],\n",
       "         [0.00000000e+00],\n",
       "         [0.00000000e+00],\n",
       "         [0.00000000e+00],\n",
       "         [0.00000000e+00],\n",
       "         [0.00000000e+00],\n",
       "         [0.00000000e+00],\n",
       "         [0.00000000e+00],\n",
       "         [0.00000000e+00],\n",
       "         [0.00000000e+00],\n",
       "         [0.00000000e+00],\n",
       "         [0.00000000e+00],\n",
       "         [0.00000000e+00],\n",
       "         [0.00000000e+00],\n",
       "         [0.00000000e+00],\n",
       "         [0.00000000e+00],\n",
       "         [0.00000000e+00],\n",
       "         [0.00000000e+00],\n",
       "         [0.00000000e+00],\n",
       "         [0.00000000e+00],\n",
       "         [0.00000000e+00],\n",
       "         [0.00000000e+00],\n",
       "         [0.00000000e+00],\n",
       "         [0.00000000e+00],\n",
       "         [0.00000000e+00],\n",
       "         [0.00000000e+00],\n",
       "         [0.00000000e+00],\n",
       "         [0.00000000e+00],\n",
       "         [0.00000000e+00],\n",
       "         [0.00000000e+00],\n",
       "         [0.00000000e+00],\n",
       "         [0.00000000e+00],\n",
       "         [0.00000000e+00],\n",
       "         [5.05145687e-03],\n",
       "         [2.16046909e-02],\n",
       "         [2.06828803e-02],\n",
       "         [2.94366727e-02],\n",
       "         [3.94938517e-02],\n",
       "         [7.12240964e-02],\n",
       "         [8.76900441e-02],\n",
       "         [9.29225016e-02],\n",
       "         [1.03431427e-01],\n",
       "         [1.12785920e-01],\n",
       "         [1.12273119e-01],\n",
       "         [1.17756687e-01],\n",
       "         [1.24750656e-01],\n",
       "         [1.32569256e-01],\n",
       "         [1.32677306e-01],\n",
       "         [1.26562710e-01],\n",
       "         [1.29755603e-01],\n",
       "         [1.39465887e-01],\n",
       "         [1.41309770e-01],\n",
       "         [1.49016920e-01],\n",
       "         [1.49327820e-01],\n",
       "         [1.42425952e-01],\n",
       "         [1.36671156e-01],\n",
       "         [1.40451935e-01],\n",
       "         [1.42373862e-01],\n",
       "         [1.44771505e-01],\n",
       "         [1.78385741e-01],\n",
       "         [1.89236413e-01],\n",
       "         [2.00027688e-01],\n",
       "         [2.04126990e-01],\n",
       "         [2.09209400e-01],\n",
       "         [2.20816751e-01],\n",
       "         [2.25127629e-01],\n",
       "         [2.37547907e-01],\n",
       "         [2.42260236e-01],\n",
       "         [2.40431441e-01],\n",
       "         [2.49273753e-01],\n",
       "         [2.52582978e-01],\n",
       "         [2.45702500e-01],\n",
       "         [2.30807880e-01],\n",
       "         [2.53169664e-01],\n",
       "         [2.58518861e-01],\n",
       "         [2.48880484e-01],\n",
       "         [2.37514635e-01],\n",
       "         [2.19039121e-01],\n",
       "         [2.09156283e-01],\n",
       "         [1.94692227e-01],\n",
       "         [1.76203936e-01],\n",
       "         [1.74285579e-01],\n",
       "         [1.72590042e-01],\n",
       "         [1.69511043e-01],\n",
       "         [1.74574722e-01],\n",
       "         [1.96265933e-01],\n",
       "         [2.12065552e-01],\n",
       "         [2.10959778e-01],\n",
       "         [2.05010555e-01],\n",
       "         [2.01874046e-01],\n",
       "         [1.94390997e-01],\n",
       "         [1.96910774e-01],\n",
       "         [2.02190399e-01],\n",
       "         [2.07176059e-01],\n",
       "         [2.06032561e-01],\n",
       "         [1.91782113e-01],\n",
       "         [1.79890004e-01],\n",
       "         [1.72726702e-01],\n",
       "         [1.58624123e-01],\n",
       "         [1.54341658e-01],\n",
       "         [1.45570404e-01],\n",
       "         [1.38709776e-01],\n",
       "         [1.32872854e-01],\n",
       "         [1.21328794e-01],\n",
       "         [1.19040157e-01],\n",
       "         [1.28439138e-01],\n",
       "         [1.39267089e-01],\n",
       "         [1.51449626e-01],\n",
       "         [1.67534972e-01],\n",
       "         [1.87758395e-01],\n",
       "         [1.99008707e-01],\n",
       "         [2.04600557e-01],\n",
       "         [2.07094701e-01],\n",
       "         [2.06887389e-01],\n",
       "         [2.30858104e-01],\n",
       "         [2.36119405e-01],\n",
       "         [2.40488426e-01],\n",
       "         [2.32479279e-01],\n",
       "         [2.30831581e-01],\n",
       "         [2.27547818e-01],\n",
       "         [2.28368029e-01],\n",
       "         [2.19327372e-01],\n",
       "         [2.15994135e-01],\n",
       "         [2.00065959e-01],\n",
       "         [1.86659284e-01],\n",
       "         [1.82073330e-01],\n",
       "         [1.83844379e-01],\n",
       "         [1.68695615e-01],\n",
       "         [1.68591187e-01],\n",
       "         [1.58815583e-01],\n",
       "         [1.48611632e-01],\n",
       "         [1.52313222e-01],\n",
       "         [1.56764571e-01],\n",
       "         [1.64097471e-01],\n",
       "         [1.84786836e-01],\n",
       "         [1.77972071e-01],\n",
       "         [1.77470945e-01],\n",
       "         [1.96837417e-01],\n",
       "         [2.16123251e-01],\n",
       "         [2.37957319e-01],\n",
       "         [2.68066763e-01],\n",
       "         [2.98536585e-01],\n",
       "         [3.14961034e-01],\n",
       "         [3.18117553e-01],\n",
       "         [3.48697989e-01],\n",
       "         [4.09996518e-01],\n",
       "         [4.33162326e-01],\n",
       "         [4.61655113e-01],\n",
       "         [4.63174469e-01],\n",
       "         [4.63030803e-01],\n",
       "         [4.62339026e-01],\n",
       "         [4.48617480e-01],\n",
       "         [4.42553617e-01],\n",
       "         [4.32136281e-01],\n",
       "         [4.25742263e-01],\n",
       "         [4.15017106e-01],\n",
       "         [3.94990175e-01],\n",
       "         [4.00399788e-01],\n",
       "         [3.97923633e-01],\n",
       "         [3.90156470e-01],\n",
       "         [4.03459459e-01],\n",
       "         [3.95739419e-01],\n",
       "         [3.90122455e-01],\n",
       "         [3.94487241e-01],\n",
       "         [4.08044858e-01],\n",
       "         [4.12204226e-01],\n",
       "         [4.39074809e-01],\n",
       "         [4.29394663e-01],\n",
       "         [4.63911249e-01],\n",
       "         [4.95032741e-01],\n",
       "         [5.26622935e-01],\n",
       "         [5.20623763e-01],\n",
       "         [5.46832530e-01],\n",
       "         [5.72007708e-01],\n",
       "         [5.70290971e-01],\n",
       "         [5.85116347e-01],\n",
       "         [5.85442849e-01],\n",
       "         [5.74929960e-01],\n",
       "         [5.89705935e-01],\n",
       "         [5.82878329e-01],\n",
       "         [5.78396032e-01],\n",
       "         [5.54691864e-01],\n",
       "         [5.52032960e-01],\n",
       "         [5.51914000e-01],\n",
       "         [5.38106633e-01],\n",
       "         [5.36621890e-01],\n",
       "         [5.38371906e-01],\n",
       "         [5.51213043e-01],\n",
       "         [5.37373347e-01],\n",
       "         [5.35179173e-01],\n",
       "         [5.71324751e-01],\n",
       "         [5.95170174e-01],\n",
       "         [6.36090230e-01],\n",
       "         [6.61510804e-01],\n",
       "         [6.65583800e-01],\n",
       "         [6.60594957e-01],\n",
       "         [6.41939103e-01],\n",
       "         [6.41745343e-01],\n",
       "         [6.41556713e-01],\n",
       "         [6.59663079e-01],\n",
       "         [6.59498300e-01],\n",
       "         [6.88828189e-01],\n",
       "         [7.08996057e-01],\n",
       "         [7.25652503e-01],\n",
       "         [7.31815954e-01],\n",
       "         [7.26915287e-01],\n",
       "         [6.62914161e-01],\n",
       "         [6.52438167e-01],\n",
       "         [6.37466303e-01],\n",
       "         [6.54352455e-01],\n",
       "         [6.27495078e-01],\n",
       "         [6.14106915e-01],\n",
       "         [5.92051602e-01],\n",
       "         [5.77848894e-01],\n",
       "         [5.87841511e-01],\n",
       "         [5.80113813e-01],\n",
       "         [5.92178159e-01],\n",
       "         [6.14101907e-01],\n",
       "         [6.44143460e-01],\n",
       "         [6.82623995e-01],\n",
       "         [6.91739223e-01],\n",
       "         [6.89900436e-01],\n",
       "         [6.72766602e-01],\n",
       "         [6.42763405e-01],\n",
       "         [6.36279194e-01],\n",
       "         [5.94778984e-01],\n",
       "         [6.21141425e-01],\n",
       "         [6.27741938e-01],\n",
       "         [6.11135252e-01],\n",
       "         [5.40583892e-01],\n",
       "         [5.30465489e-01],\n",
       "         [4.96217020e-01],\n",
       "         [4.99225423e-01],\n",
       "         [5.01568888e-01],\n",
       "         [5.04369493e-01],\n",
       "         [5.03794086e-01],\n",
       "         [4.88889786e-01],\n",
       "         [4.87107903e-01],\n",
       "         [4.94790668e-01],\n",
       "         [4.78899948e-01],\n",
       "         [4.90084768e-01],\n",
       "         [5.21790252e-01],\n",
       "         [5.16402298e-01],\n",
       "         [5.14697657e-01],\n",
       "         [5.36024259e-01],\n",
       "         [5.49310818e-01],\n",
       "         [5.45135630e-01],\n",
       "         [5.49560524e-01],\n",
       "         [5.40395721e-01],\n",
       "         [5.48973109e-01],\n",
       "         [5.60589661e-01],\n",
       "         [5.69524501e-01],\n",
       "         [5.77683585e-01],\n",
       "         [5.68180912e-01],\n",
       "         [5.76322736e-01],\n",
       "         [5.46989841e-01],\n",
       "         [5.17449808e-01],\n",
       "         [4.97237909e-01],\n",
       "         [4.03462928e-01],\n",
       "         [3.70265461e-01],\n",
       "         [3.50151084e-01],\n",
       "         [3.22153294e-01],\n",
       "         [3.02267567e-01],\n",
       "         [3.05588550e-01],\n",
       "         [3.00556635e-01],\n",
       "         [3.06150499e-01],\n",
       "         [2.96791024e-01],\n",
       "         [2.88995727e-01],\n",
       "         [3.08394505e-01],\n",
       "         [3.21902591e-01],\n",
       "         [3.03210731e-01],\n",
       "         [3.12991260e-01],\n",
       "         [3.30755377e-01],\n",
       "         [3.49364893e-01],\n",
       "         [3.61165541e-01],\n",
       "         [3.62959816e-01],\n",
       "         [3.51817252e-01],\n",
       "         [3.65691021e-01],\n",
       "         [3.67752260e-01],\n",
       "         [3.84098033e-01],\n",
       "         [3.68725359e-01],\n",
       "         [3.65140440e-01],\n",
       "         [3.79630219e-01],\n",
       "         [3.74805191e-01],\n",
       "         [3.91805789e-01],\n",
       "         [3.28975290e-01],\n",
       "         [3.24188853e-01],\n",
       "         [3.08825126e-01],\n",
       "         [3.08063034e-01],\n",
       "         [3.08924084e-01],\n",
       "         [3.07369544e-01],\n",
       "         [3.00903615e-01],\n",
       "         [2.76020598e-01],\n",
       "         [2.90705667e-01],\n",
       "         [3.09568685e-01],\n",
       "         [3.34987720e-01],\n",
       "         [3.46770935e-01],\n",
       "         [3.73615016e-01],\n",
       "         [4.00361791e-01],\n",
       "         [4.24909923e-01],\n",
       "         [4.51577168e-01],\n",
       "         [5.03251479e-01],\n",
       "         [5.11278985e-01],\n",
       "         [5.63931989e-01],\n",
       "         [6.35104711e-01],\n",
       "         [6.90483180e-01],\n",
       "         [7.26938223e-01],\n",
       "         [7.93688988e-01],\n",
       "         [7.98265331e-01],\n",
       "         [7.97307667e-01],\n",
       "         [7.96461287e-01],\n",
       "         [7.71098823e-01],\n",
       "         [7.83146228e-01],\n",
       "         [7.76614646e-01],\n",
       "         [7.64883422e-01],\n",
       "         [7.11947445e-01],\n",
       "         [6.86273451e-01],\n",
       "         [6.52584248e-01],\n",
       "         [6.38408787e-01],\n",
       "         [6.24470205e-01],\n",
       "         [5.92074134e-01],\n",
       "         [5.96641542e-01],\n",
       "         [5.71914217e-01],\n",
       "         [8.41455579e-01],\n",
       "         [8.78298091e-01],\n",
       "         [8.71568987e-01],\n",
       "         [8.57781727e-01],\n",
       "         [8.14714243e-01],\n",
       "         [7.43402831e-01],\n",
       "         [6.86585746e-01],\n",
       "         [6.18031342e-01],\n",
       "         [5.38921402e-01],\n",
       "         [5.33104098e-01],\n",
       "         [5.15847433e-01],\n",
       "         [4.96951781e-01],\n",
       "         [5.01811408e-01],\n",
       "         [4.96336443e-01],\n",
       "         [5.21034519e-01],\n",
       "         [5.47674868e-01],\n",
       "         [5.92803725e-01],\n",
       "         [6.59418259e-01],\n",
       "         [6.84566467e-01],\n",
       "         [7.61689009e-01],\n",
       "         [8.05368273e-01],\n",
       "         [8.40587824e-01],\n",
       "         [8.56965529e-01],\n",
       "         [7.79388723e-01],\n",
       "         [7.40251550e-01],\n",
       "         [7.16750268e-01]]]])"
      ]
     },
     "execution_count": 125,
     "metadata": {},
     "output_type": "execute_result"
    }
   ],
   "source": [
    "out[:10]"
   ]
  },
  {
   "cell_type": "code",
   "execution_count": 47,
   "metadata": {},
   "outputs": [
    {
     "data": {
      "text/plain": [
       "array([[478, 111, 512, 240],\n",
       "       [478, 111, 512, 240],\n",
       "       [478, 111, 512, 240],\n",
       "       [479, 111, 512, 240],\n",
       "       [478, 111, 512, 240],\n",
       "       [478, 111, 512, 240],\n",
       "       [478, 110, 513, 241],\n",
       "       [478, 110, 513, 241],\n",
       "       [479, 110, 513, 241],\n",
       "       [478, 110, 513, 241]])"
      ]
     },
     "execution_count": 47,
     "metadata": {},
     "output_type": "execute_result"
    }
   ],
   "source": [
    "ped[j]['y_ppl_box'][:10]"
   ]
  },
  {
   "cell_type": "code",
   "execution_count": 43,
   "metadata": {},
   "outputs": [
    {
     "data": {
      "text/plain": [
       "array([[0.5828437 , 0.25028276, 0.61620283, 0.3549063 ],\n",
       "       [0.58260924, 0.25028917, 0.6159913 , 0.35489607],\n",
       "       [0.5824663 , 0.2502936 , 0.61585766, 0.35489476],\n",
       "       [0.5823074 , 0.25029838, 0.61571133, 0.35489047],\n",
       "       [0.58213866, 0.25030324, 0.6155578 , 0.35488355],\n",
       "       [0.58197105, 0.25030768, 0.61540544, 0.3548777 ],\n",
       "       [0.581867  , 0.25031126, 0.61530924, 0.35487458],\n",
       "       [0.5817988 , 0.2503136 , 0.6152439 , 0.35487577],\n",
       "       [0.5817316 , 0.2503159 , 0.6151812 , 0.35487488],\n",
       "       [0.5816796 , 0.2503176 , 0.61513203, 0.35487616]], dtype=float32)"
      ]
     },
     "execution_count": 43,
     "metadata": {},
     "output_type": "execute_result"
    }
   ],
   "source": [
    "out1[:10]"
   ]
  },
  {
   "cell_type": "code",
   "execution_count": 42,
   "metadata": {},
   "outputs": [
    {
     "data": {
      "text/plain": [
       "array([[0.5890028 , 0.24697111, 0.62068966, 0.36719478],\n",
       "       [0.5890028 , 0.24697111, 0.62068966, 0.36719478],\n",
       "       [0.5890028 , 0.24697111, 0.62068966, 0.36719478],\n",
       "       [0.58993476, 0.24697111, 0.62068966, 0.36719478],\n",
       "       [0.5890028 , 0.24697111, 0.62068966, 0.36719478],\n",
       "       [0.5890028 , 0.24697111, 0.62068966, 0.36719478],\n",
       "       [0.5890028 , 0.24603914, 0.62162162, 0.36812675],\n",
       "       [0.5890028 , 0.24603914, 0.62162162, 0.36812675],\n",
       "       [0.58993476, 0.24603914, 0.62162162, 0.36812675],\n",
       "       [0.5890028 , 0.24603914, 0.62162162, 0.36812675]])"
      ]
     },
     "execution_count": 42,
     "metadata": {},
     "output_type": "execute_result"
    }
   ],
   "source": [
    "y[:10]"
   ]
  },
  {
   "cell_type": "code",
   "execution_count": 62,
   "metadata": {},
   "outputs": [],
   "source": [
    "j='86'\n",
    "x,y = norm_train_max_min(data_dict=ped[j], max1=max1, min1=min1 )\n",
    "\n"
   ]
  },
  {
   "cell_type": "code",
   "execution_count": 68,
   "metadata": {},
   "outputs": [
    {
     "data": {
      "text/plain": [
       "array([[0.22180801, 0.14352283, 0.4305685 , 0.48835042]])"
      ]
     },
     "execution_count": 68,
     "metadata": {},
     "output_type": "execute_result"
    }
   ],
   "source": [
    "y[0:1,:]"
   ]
  },
  {
   "cell_type": "code",
   "execution_count": 69,
   "metadata": {},
   "outputs": [
    {
     "data": {
      "text/plain": [
       "array([[0.13351457, 0.24464065, 0.15598539, 0.3532132 ]], dtype=float32)"
      ]
     },
     "execution_count": 69,
     "metadata": {},
     "output_type": "execute_result"
    }
   ],
   "source": [
    "out1[0:1,:]"
   ]
  },
  {
   "cell_type": "code",
   "execution_count": 74,
   "metadata": {},
   "outputs": [
    {
     "data": {
      "text/plain": [
       "array([[[[0.60088828]]]])"
      ]
     },
     "execution_count": 74,
     "metadata": {},
     "output_type": "execute_result"
    }
   ],
   "source": [
    "bb_intersection_over_union_np(y[0:1,:],out1[0:1,:])"
   ]
  },
  {
   "cell_type": "code",
   "execution_count": 54,
   "metadata": {},
   "outputs": [
    {
     "data": {
      "text/plain": [
       "array([[[[0.64524826]]]])"
      ]
     },
     "execution_count": 54,
     "metadata": {},
     "output_type": "execute_result"
    }
   ],
   "source": [
    "bb_intersection_over_union_np(ped[j]['y_ppl_box'][0:1,:],out[0:1,:])"
   ]
  },
  {
   "cell_type": "code",
   "execution_count": 147,
   "metadata": {},
   "outputs": [],
   "source": [
    "model_l= tf.keras.models.load_model('tlbr_20_5_arch.h5', custom_objects = {'loss':bb_intersection_over_union} , compile=False)"
   ]
  },
  {
   "cell_type": "markdown",
   "metadata": {},
   "source": [
    "# K means"
   ]
  },
  {
   "cell_type": "code",
   "execution_count": 19,
   "metadata": {},
   "outputs": [],
   "source": [
    "model = tf.keras.models.load_model('tlbr_20_5_arch.h5', custom_objects = {'loss':bb_intersection_over_union} , compile=False)"
   ]
  },
  {
   "cell_type": "code",
   "execution_count": 21,
   "metadata": {},
   "outputs": [],
   "source": [
    "xx_test,yy_test= norm_train_max_min(data_dict = testdict, max1=max1,min1=min1)\n"
   ]
  },
  {
   "cell_type": "code",
   "execution_count": 22,
   "metadata": {},
   "outputs": [],
   "source": [
    "y_pred_scal = model.predict(xx_test)\n",
    "y_pred = norm_train_max_min(data=y_pred_scal, max1 = max1,min1 =min1,undo_norm=True)"
   ]
  },
  {
   "cell_type": "code",
   "execution_count": 27,
   "metadata": {},
   "outputs": [],
   "source": [
    "kmean_scal = KMeans(n_clusters=2)\n",
    "kmean = KMeans(n_clusters=2)"
   ]
  },
  {
   "cell_type": "code",
   "execution_count": 31,
   "metadata": {},
   "outputs": [],
   "source": [
    "def tlbr_xywh(data):\n",
    "    data = data.astype(float)\n",
    "    data[:,2] = np.abs(data[:,2] - data[:,0] )\n",
    "    data[:,3] = np.abs(data[:,3] - data[:,1])\n",
    "    \n",
    "    data[:,0] = data[:,0] + data[:,2]/2\n",
    "    data[:,1] = data[:,1] + data[:,3]/2\n",
    "  \n",
    "    \n",
    "    return data"
   ]
  },
  {
   "cell_type": "code",
   "execution_count": 30,
   "metadata": {},
   "outputs": [
    {
     "data": {
      "text/plain": [
       "array([[489.28845215, 170.68392944,  35.79431152, 112.26104736],\n",
       "       [489.04919434, 170.68186951,  35.81896973, 112.24319458],\n",
       "       [488.90078735, 170.68354797,  35.82891846, 112.23703003],\n",
       "       ...,\n",
       "       [248.14785767, 167.50546265,  52.36914062,  94.7557373 ],\n",
       "       [ 93.65380859, 170.02760315,  34.92657471, 114.79934692],\n",
       "       [ 94.46871948, 170.04417419,  35.28271484, 114.3921814 ]])"
      ]
     },
     "execution_count": 30,
     "metadata": {},
     "output_type": "execute_result"
    }
   ],
   "source": [
    "tlbr_xywh(y_pred)"
   ]
  },
  {
   "cell_type": "code",
   "execution_count": 33,
   "metadata": {},
   "outputs": [
    {
     "data": {
      "text/plain": [
       "KMeans(n_clusters=2)"
      ]
     },
     "execution_count": 33,
     "metadata": {},
     "output_type": "execute_result"
    }
   ],
   "source": [
    "kmean_scal.fit(tlbr_xywh(y_pred_scal)[:,0:2])\n",
    "kmean.fit(tlbr_xywh(y_pred)[:,0:2])"
   ]
  },
  {
   "cell_type": "code",
   "execution_count": 34,
   "metadata": {},
   "outputs": [
    {
     "data": {
      "text/plain": [
       "array([[0.29874876, 0.30335072],\n",
       "       [0.59389225, 0.3018624 ]])"
      ]
     },
     "execution_count": 34,
     "metadata": {},
     "output_type": "execute_result"
    }
   ],
   "source": [
    "out = kmean_scal.cluster_centers_\n",
    "out"
   ]
  },
  {
   "cell_type": "code",
   "execution_count": 35,
   "metadata": {},
   "outputs": [
    {
     "data": {
      "text/plain": [
       "array([[483.19178273, 169.89946553],\n",
       "       [166.46763196, 171.49441585]])"
      ]
     },
     "execution_count": 35,
     "metadata": {},
     "output_type": "execute_result"
    }
   ],
   "source": [
    "out1 = kmean.cluster_centers_\n",
    "out1"
   ]
  },
  {
   "cell_type": "code",
   "execution_count": 40,
   "metadata": {},
   "outputs": [
    {
     "data": {
      "text/plain": [
       "<matplotlib.collections.PathCollection at 0x7fc3344ea940>"
      ]
     },
     "execution_count": 40,
     "metadata": {},
     "output_type": "execute_result"
    },
    {
     "data": {
      "image/png": "[encoded data removed]",
      "text/plain": [
       "<Figure size 432x288 with 1 Axes>"
      ]
     },
     "metadata": {
      "needs_background": "light"
     },
     "output_type": "display_data"
    }
   ],
   "source": [
    "plt.scatter(tlbr_xywh(y_pred_scal)[:,0], tlbr_xywh(y_pred_scal)[:,1],s=1, c='b')\n",
    "plt.scatter(out[0,0], out[0,1],s=200, c ='g', marker='s')\n",
    "plt.scatter(out[1,0], out[1,1], s=200, c ='r', marker='s')"
   ]
  },
  {
   "cell_type": "code",
   "execution_count": 41,
   "metadata": {},
   "outputs": [
    {
     "data": {
      "text/plain": [
       "<matplotlib.collections.PathCollection at 0x7fc3341c0940>"
      ]
     },
     "execution_count": 41,
     "metadata": {},
     "output_type": "execute_result"
    },
    {
     "data": {
      "image/png": "[encoded data removed]",
      "text/plain": [
       "<Figure size 432x288 with 1 Axes>"
      ]
     },
     "metadata": {
      "needs_background": "light"
     },
     "output_type": "display_data"
    }
   ],
   "source": [
    "plt.scatter(tlbr_xywh(y_pred)[:,0], tlbr_xywh(y_pred)[:,1],s=1, c='b')\n",
    "plt.scatter(out1[0,0], out1[0,1],s=200, c ='g', marker='s')\n",
    "plt.scatter(out1[1,0], out1[1,1], s=200, c ='r', marker='s')"
   ]
  },
  {
   "cell_type": "markdown",
   "metadata": {},
   "source": [
    "# Using X Difference"
   ]
  },
  {
   "cell_type": "code",
   "execution_count": 90,
   "metadata": {},
   "outputs": [],
   "source": [
    "j = '12'\n",
    "out = model.predict(ped[j]['x_ppl_box'])\n",
    "out = norm_train_max_min(data=out, max1 = max1,min1 =min1,undo_norm=True)\n",
    "out = tlbr_xywh(out)"
   ]
  },
  {
   "cell_type": "code",
   "execution_count": 91,
   "metadata": {},
   "outputs": [
    {
     "data": {
      "text/plain": [
       "array([[-178.09767914,  132.25718689,   17.11585999,  118.39840698],\n",
       "       [-178.09772491,  132.25714874,   17.11582947,  118.39842224],\n",
       "       [-178.09775543,  132.25711823,   17.11582947,  118.39842224],\n",
       "       ...,\n",
       "       [  44.22453308,  159.91265869,   33.93081665,  120.67071533],\n",
       "       [  44.22681427,  159.91273499,   33.93107605,  120.67056274],\n",
       "       [  44.22960663,  159.91287994,   33.93138123,  120.67045593]])"
      ]
     },
     "execution_count": 91,
     "metadata": {},
     "output_type": "execute_result"
    }
   ],
   "source": [
    "out"
   ]
  },
  {
   "cell_type": "code",
   "execution_count": 96,
   "metadata": {},
   "outputs": [
    {
     "ename": "IndexError",
     "evalue": "too many indices for array: array is 1-dimensional, but 2 were indexed",
     "output_type": "error",
     "traceback": [
      "\u001b[0;31m--------------------------------------------\u001b[0m",
      "\u001b[0;31mIndexError\u001b[0m Traceback (most recent call last)",
      "\u001b[0;32m<ipython-input-96-1bbcd8b56252>\u001b[0m in \u001b[0;36m<module>\u001b[0;34m\u001b[0m\n\u001b[1;32m      2\u001b[0m \u001b[0;32mfor\u001b[0m \u001b[0mi\u001b[0m \u001b[0;32min\u001b[0m \u001b[0mrange\u001b[0m\u001b[0;34m(\u001b[0m\u001b[0;36m1\u001b[0m\u001b[0;34m,\u001b[0m\u001b[0mlen\u001b[0m\u001b[0;34m(\u001b[0m\u001b[0mout\u001b[0m\u001b[0;34m)\u001b[0m\u001b[0;34m)\u001b[0m\u001b[0;34m:\u001b[0m\u001b[0;34m\u001b[0m\u001b[0;34m\u001b[0m\u001b[0m\n\u001b[1;32m      3\u001b[0m \u001b[0;34m\u001b[0m\u001b[0m\n\u001b[0;32m----> 4\u001b[0;31m     \u001b[0mxy_diff\u001b[0m\u001b[0;34m.\u001b[0m\u001b[0mappend\u001b[0m\u001b[0;34m(\u001b[0m\u001b[0mout\u001b[0m\u001b[0;34m[\u001b[0m\u001b[0mi\u001b[0m\u001b[0;34m,\u001b[0m\u001b[0;34m:\u001b[0m\u001b[0;34m]\u001b[0m \u001b[0;34m-\u001b[0m \u001b[0mout\u001b[0m\u001b[0;34m[\u001b[0m\u001b[0mi\u001b[0m\u001b[0;34m-\u001b[0m\u001b[0;36m1\u001b[0m\u001b[0;34m,\u001b[0m\u001b[0;34m:\u001b[0m\u001b[0;34m]\u001b[0m\u001b[0;34m)\u001b[0m\u001b[0;34m\u001b[0m\u001b[0;34m\u001b[0m\u001b[0m\n\u001b[0m\u001b[1;32m      5\u001b[0m \u001b[0;34m\u001b[0m\u001b[0m\n\u001b[1;32m      6\u001b[0m \u001b[0mxy_diff\u001b[0m \u001b[0;34m=\u001b[0m \u001b[0mnp\u001b[0m\u001b[0;34m.\u001b[0m\u001b[0marray\u001b[0m\u001b[0;34m(\u001b[0m\u001b[0mxy_diff\u001b[0m\u001b[0;34m)\u001b[0m\u001b[0;34m\u001b[0m\u001b[0;34m\u001b[0m\u001b[0m\n",
      "\u001b[0;31mIndexError\u001b[0m: too many indices for array: array is 1-dimensional, but 2 were indexed"
     ]
    }
   ],
   "source": [
    "xy_diff = []\n",
    "for i in range(1,len(out)):\n",
    "    \n",
    "    xy_diff.append(out[i,:] - out[i-1,:])\n",
    "\n",
    "xy_diff = np.array(xy_diff)\n",
    "out =np.sum(np.square(xy_diff[:,0:2]), axis=1)\n",
    "    "
   ]
  },
  {
   "cell_type": "code",
   "execution_count": 95,
   "metadata": {},
   "outputs": [
    {
     "data": {
      "text/plain": [
       "Text(0.5, 0, 'Frame')"
      ]
     },
     "execution_count": 95,
     "metadata": {},
     "output_type": "execute_result"
    },
    {
     "data": {
      "image/png": "[encoded data removed]",
      "text/plain": [
       "<Figure size 432x288 with 1 Axes>"
      ]
     },
     "metadata": {
      "needs_background": "light"
     },
     "output_type": "display_data"
    }
   ],
   "source": [
    "plt.plot(ped[j]['frame_ppl_id'][1:,-1,0], out,'-')\n",
    "plt.plot(ped[j]['frame_ppl_id'][1:,-1,0],ped[j]['abnormal'][1:]*1000 )\n",
    "# plt.plot(ped[j]['frame_ppl_id'][1:,-1,0], xy_diff[:,0],'-+')\n",
    "# plt.plot(ped[j]['frame_ppl_id'][1:,-1,0], xy_diff[:,1],'-0')\n",
    "plt.xlabel('Frame')"
   ]
  },
  {
   "cell_type": "code",
   "execution_count": 94,
   "metadata": {},
   "outputs": [
    {
     "data": {
      "text/plain": [
       "array([0, 0, 0, 0, 0, 0, 0, 0, 0, 0, 0, 0, 0, 0, 0, 0, 0, 0, 0, 0, 0, 0,\n",
       "       0, 0, 0, 0, 0, 0, 0, 0, 0, 0, 0, 0, 0, 0, 0, 0, 0, 0, 0, 0, 0, 0,\n",
       "       0, 0, 0, 0, 0, 0, 0, 0, 0, 0, 0, 0, 0, 0, 0, 0, 0, 0, 0, 0, 0, 0,\n",
       "       0, 0, 0, 0, 0, 0, 0, 0, 0, 0, 0, 0, 0, 0, 0, 0, 0, 0, 0, 0, 0, 0,\n",
       "       0, 0, 0, 0, 0, 0, 0, 0, 0, 0, 0, 0, 0, 0, 0, 0, 0, 0, 0, 0, 0, 0,\n",
       "       0, 0, 0, 0, 0, 0, 0, 0, 0, 0, 0, 0, 0, 0, 0, 0, 0, 0, 0, 0, 0, 0,\n",
       "       0, 0, 0, 0, 0, 0, 0, 0, 0, 0, 0, 0, 0, 0, 0, 0, 0, 0, 0, 0, 0, 0,\n",
       "       0, 0, 0, 0, 0, 0, 0, 0, 0, 0, 0, 0, 0, 0, 0, 0, 0, 0, 0, 0, 0, 0,\n",
       "       0, 0, 0, 0, 0, 0, 0, 0, 0, 0, 0, 0, 0, 0, 0, 0, 0, 0, 0, 0, 0, 0,\n",
       "       0, 0, 0, 0, 0, 0, 0, 0, 0, 0, 0, 0, 0, 0, 0, 0, 0, 0, 0, 0, 0, 0,\n",
       "       0, 0, 0, 0, 0, 0, 0, 0, 0, 0, 0, 0, 0, 0, 0, 0, 0, 0, 0, 0, 0, 0,\n",
       "       0, 0, 0, 0, 0, 0, 0, 0, 0, 0, 0, 0, 0, 0, 0, 0, 0, 0, 0, 0, 0, 0,\n",
       "       0, 0, 0, 0, 0, 0, 0, 0, 0, 0, 0, 0, 0, 0, 0, 0, 0, 0, 0, 0, 0, 0])"
      ]
     },
     "execution_count": 94,
     "metadata": {},
     "output_type": "execute_result"
    }
   ],
   "source": []
  },
  {
   "cell_type": "code",
   "execution_count": null,
   "metadata": {},
   "outputs": [],
   "source": []
  }
 ],
 "metadata": {
  "kernelspec": {
   "display_name": "Python 3",
   "language": "python",
   "name": "python3"
  },
  "language_info": {
   "codemirror_mode": {
    "name": "ipython",
    "version": 3
   },
   "file_extension": ".py",
   "mimetype": "text/x-python",
   "name": "python",
   "nbconvert_exporter": "python",
   "pygments_lexer": "ipython3",
   "version": "3.6.9"
  }
 },
 "nbformat": 4,
 "nbformat_minor": 4
}
