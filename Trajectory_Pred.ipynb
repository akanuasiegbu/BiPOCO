{
 "cells": [
  {
   "cell_type": "code",
   "execution_count": 475,
   "metadata": {},
   "outputs": [],
   "source": [
    "import pandas as pd\n",
    "import cv2\n",
    "%matplotlib inline\n",
    "from matplotlib import pyplot as plt\n",
    "import matplotlib\n",
    "import tensorflow as tf\n",
    "# import tensorflow.compat.v1 as tf\n",
    "from tensorflow import keras\n",
    "import numpy as np\n",
    "from keras.preprocessing.sequence import pad_sequences\n",
    "import os\n",
    "import time\n",
    "from sklearn.preprocessing import MinMaxScaler\n",
    "from sklearn.model_selection import train_test_split\n",
    "from collections import OrderedDict\n",
    "# from tensorflow.python.ops import math_ops\n",
    "import tensorflow.keras.backend as kb\n",
    "from load_data import Files_Load, Boxes, test_split_norm_abnorm, norm_train_max_min\n",
    "\n"
   ]
  },
  {
   "cell_type": "code",
   "execution_count": 476,
   "metadata": {},
   "outputs": [],
   "source": [
    "frames = 20\n",
    "startvid=0\n",
    "endvid=1\n",
    "\n",
    "train_file = \"/home/akanu/Dataset/Anomaly/Avenue_Dataset/bounding_box_tlbr/Txt_Data/Train_Box/\"\n",
    "test_file = \"/home/akanu/Dataset/Anomaly/Avenue_Dataset/bounding_box_tlbr/Txt_Data/Test_Box/\"\n",
    "\n",
    "loc_files_train, loc_files_test, box_train_txt, box_test_txt = Files_Load(train_file, test_file)\n",
    "\n",
    "traindict = Boxes(loc_files_train, box_train_txt, frames, pad ='pre')\n",
    "testdict = Boxes(loc_files_test[startvid:endvid], box_test_txt[startvid:endvid], frames, pad ='pre')\n",
    "abnormal_dict, normal_dict = test_split_norm_abnorm(testdict)\n",
    "\n",
    "# Normilize data\n",
    "max1 = traindict['x_ppl_box'].max()\n",
    "min1 = traindict['x_ppl_box'].min()\n",
    "xx,yy = norm_train_max_min(data_dict = traindict, max1=max1,min1=min1)\n",
    "xx_norm,yy_norm = norm_train_max_min(data_dict = normal_dict, max1=max1,min1=min1)\n",
    "xx_abnorm,yy_abnorm = norm_train_max_min(data_dict = abnormal_dict, max1=max1,min1=min1)\n",
    "\n",
    "\n",
    "\n"
   ]
  },
  {
   "cell_type": "code",
   "execution_count": 469,
   "metadata": {},
   "outputs": [
    {
     "name": "stdout",
     "output_type": "stream",
     "text": [
      "Num GPUs Available:  2\n"
     ]
    }
   ],
   "source": [
    "print(\"Num GPUs Available: \", len(tf.config.experimental.list_physical_devices('GPU')))\n"
   ]
  },
  {
   "cell_type": "code",
   "execution_count": 470,
   "metadata": {},
   "outputs": [
    {
     "data": {
      "text/plain": [
       "[PhysicalDevice(name='/physical_device:GPU:0', device_type='GPU'),\n",
       " PhysicalDevice(name='/physical_device:GPU:1', device_type='GPU')]"
      ]
     },
     "execution_count": 470,
     "metadata": {},
     "output_type": "execute_result"
    }
   ],
   "source": [
    "# tf.test.is_gpu_available()\n",
    "\n",
    "tf.config.list_physical_devices('GPU')"
   ]
  },
  {
   "cell_type": "code",
   "execution_count": 471,
   "metadata": {},
   "outputs": [
    {
     "name": "stdout",
     "output_type": "stream",
     "text": [
      "2 Physical GPUs, 2 Logical GPUs\n"
     ]
    }
   ],
   "source": [
    "gpus = tf.config.experimental.list_physical_devices('GPU')\n",
    "if gpus:\n",
    "  # Restrict TensorFlow to only allocate 1GB of memory on the first GPU\n",
    "  try:\n",
    "    tf.config.experimental.set_virtual_device_configuration(\n",
    "        gpus[1],\n",
    "        [tf.config.experimental.VirtualDeviceConfiguration(memory_limit=5500)])\n",
    "    logical_gpus = tf.config.experimental.list_logical_devices('GPU')\n",
    "    print(len(gpus), \"Physical GPUs,\", len(logical_gpus), \"Logical GPUs\")\n",
    "  except RuntimeError as e:\n",
    "    # Virtual devices must be set before GPUs have been initialized\n",
    "    print(e)"
   ]
  },
  {
   "cell_type": "code",
   "execution_count": 472,
   "metadata": {},
   "outputs": [
    {
     "name": "stdout",
     "output_type": "stream",
     "text": [
      "Num GPUs Available:  2\n"
     ]
    }
   ],
   "source": [
    "print(\"Num GPUs Available: \", len(tf.config.experimental.list_physical_devices('GPU')))\n"
   ]
  },
  {
   "cell_type": "code",
   "execution_count": 473,
   "metadata": {},
   "outputs": [],
   "source": [
    "def Files_Load():\n",
    "    train_file = \"/home/akanu/Dataset/Anomaly/Avenue_Dataset/bounding_box_tlbr/Txt_Data/Train_Box/\"\n",
    "    test_file = \"/home/akanu/Dataset/Anomaly/Avenue_Dataset/bounding_box_tlbr/Txt_Data/Test_Box/\"\n",
    "    box_train_txt = os.listdir(train_file)\n",
    "    box_train_txt.sort()\n",
    "    box_test_txt = os.listdir(test_file)\n",
    "    box_test_txt.sort()\n",
    "    \n",
    "    loc_files_train, loc_files_test = [], []\n",
    "    \n",
    "    for txt in box_train_txt:\n",
    "        loc_files_train.append(train_file + txt)\n",
    "    for txt in box_test_txt:\n",
    "        loc_files_test.append(test_file + txt)\n",
    "    \n",
    "    return loc_files_train, loc_files_test, box_train_txt, box_test_txt"
   ]
  },
  {
   "cell_type": "markdown",
   "metadata": {},
   "source": [
    "# Faster Data Loader"
   ]
  },
  {
   "cell_type": "code",
   "execution_count": 7,
   "metadata": {},
   "outputs": [],
   "source": [
    "def Boxes(loc_files, txt_names, time_steps, pad ='pre'):\n",
    "    \"\"\"\n",
    "    loc_files: List that contains that has text files save\n",
    "    txt_names: Txt file names. For visualization process\n",
    "    time_step: Sequence length input\n",
    "    pad: inputs 'pre' or 'post'\n",
    "    \n",
    "    x_person_box: Has bounding box locations\n",
    "    y_person_box: Label for bounding box locations\n",
    "    frame_person_id: Contains frame Number and person_Id of entire sequence, \n",
    "                     Last element is prediction frame. For visulization process\n",
    "    video_file: Points to video file used. For visulization process\n",
    "    \"\"\"\n",
    "    \n",
    "    x_ppl_box, y_ppl_box, frame_ppl_id, video_file, abnormal = [], [], [], [],[]  #Has bounding box locations inside\n",
    "    \n",
    "    #For splitting process\n",
    "    split_train_test = 0\n",
    "    split = 0\n",
    "    find_split = 0\n",
    "    \n",
    "    # Tells me how many in sequence was short.\n",
    "    # Do I want to go back and count for train and test seperatly \n",
    "    short_len = 0\n",
    "    \n",
    "#     datadict = OrderedDict()\n",
    "    datadict = {}\n",
    "    \n",
    "    for loc, txt_name in zip(loc_files, txt_names):\n",
    "        data = pd.read_csv(loc, ' ' )\n",
    "        # Note that person_box is 1 behind ID\n",
    "        max_person = data['Person_ID'].max()\n",
    "        for num in range(1,max_person+1):\n",
    "            temp_box = data[data['Person_ID'] == num ]['BB_tl_0\tBB_tl_1\tBB_br_0\tBB_br_1'.split()].values\n",
    "            person_seq_len = len(temp_box)\n",
    "            temp_frame_id = data[data['Person_ID'] == num ]['Frame_Number Person_ID'.split()].values\n",
    "            abnormal_frame_ped = data[data['Person_ID'] == num]['anomaly'].values\n",
    "            if person_seq_len > time_steps:\n",
    "                for i in range(0, person_seq_len - time_steps):\n",
    "                    temp_person_box = temp_box[i:(i+time_steps)]\n",
    "                    temp_fr_person_id = temp_frame_id[i:(i+time_steps+1)]\n",
    "\n",
    "                    x_ppl_box.append(temp_person_box)\n",
    "                    y_ppl_box.append(temp_box[i+time_steps])\n",
    "                    \n",
    "                    assert temp_person_box.shape == (time_steps,4)\n",
    "                    assert temp_fr_person_id.shape  == (time_steps+1,2), print(temp_fr_person_id.shape)\n",
    "                    \n",
    "                    frame_ppl_id.append(temp_fr_person_id)\n",
    "                    \n",
    "                    video_file.append(txt_name)      \n",
    "                    abnormal.append(abnormal_frame_ped[i+time_steps]) #Finds if predicted frame is abnormal\n",
    "                    \n",
    "            elif person_seq_len == 1:\n",
    "                # want it to skip loop\n",
    "                continue\n",
    "            elif person_seq_len <= time_steps:\n",
    "                temp_person_box_unpad = temp_box\n",
    "                temp_fr_person_id_unpad = temp_frame_id\n",
    "                temp_person_box = pad_sequences(temp_person_box_unpad.T, maxlen = time_steps+1, padding = pad).T\n",
    "                temp_fr_person_id = pad_sequences(temp_fr_person_id_unpad.T,  maxlen = time_steps+1, padding = pad).T\n",
    "                \n",
    "                assert temp_person_box.shape == (time_steps+1,4)\n",
    "                assert temp_fr_person_id.shape  == (time_steps+1,2)\n",
    "                \n",
    "                x_ppl_box.append(temp_person_box[0:time_steps,:])\n",
    "                y_ppl_box.append(temp_person_box[time_steps,:])\n",
    "                \n",
    "                frame_ppl_id.append(temp_fr_person_id[0:time_steps+1,:])\n",
    "                \n",
    "                video_file.append(txt_name)\n",
    "                abnormal.append(abnormal_frame_ped[-1]) #Finds if predicted frame is abnormal\n",
    "\n",
    "            else:\n",
    "                print('error')\n",
    "#     np.random.seed(49)\n",
    "#     rand = np.random.permutation(len(x_ppl_box))\n",
    "#     datadict['x_ppl_box'] = np.array(x_ppl_box)[rand]\n",
    "#     datadict['y_ppl_box'] = np.array(y_ppl_box)[rand]\n",
    "#     datadict['frame_ppl_id'] = np.array(frame_ppl_id)[rand]\n",
    "#     datadict['video_file'] = np.array(video_file)[rand]\n",
    "#     datadict['abnormal'] = np.array(abnormal)[rand]\n",
    "\n",
    "    datadict['x_ppl_box'] = np.array(x_ppl_box)\n",
    "    datadict['y_ppl_box'] = np.array(y_ppl_box)\n",
    "    datadict['frame_ppl_id'] = np.array(frame_ppl_id)\n",
    "    datadict['video_file'] = np.array(video_file)\n",
    "    datadict['abnormal'] = np.array(abnormal)\n",
    "        \n",
    "    return  datadict"
   ]
  },
  {
   "cell_type": "markdown",
   "metadata": {},
   "source": [
    "# Video Plot Function"
   ]
  },
  {
   "cell_type": "markdown",
   "metadata": {},
   "source": [
    "# Metrics"
   ]
  },
  {
   "cell_type": "code",
   "execution_count": 8,
   "metadata": {},
   "outputs": [],
   "source": [
    "def bb_intersection_over_union(y, x):\n",
    "    xA = kb.max((x[:,0:1],y[:,0:1]), axis=0,keepdims=True)\n",
    "    yA = kb.max((x[:,1:2],y[:,1:2]), axis=0,keepdims=True)\n",
    "    xB = kb.min((x[:,2:3],y[:,2:3]), axis=0,keepdims=True)\n",
    "    yB = kb.min((x[:,3:4],y[:,3:4]), axis=0,keepdims=True)\n",
    "\n",
    "    interArea1 = kb.max((kb.zeros_like(xB), (xB-xA +1) ), axis=0, keepdims=True)\n",
    "    interArea2 = kb.max((kb.zeros_like(xB), (yB-yA +1) ), axis=0, keepdims=True)\n",
    "    interArea = interArea1*interArea2\n",
    "    boxAArea = (x[:,2:3] - x[:,0:1] + 1) * (x[:,3:4] - x[:,1:2] + 1)\n",
    "    boxBArea = (y[:,2:3] - y[:,0:1] + 1) * (y[:,3:4] - y[:,1:2] + 1)\n",
    "\n",
    "    iou = interArea / (boxAArea + boxBArea - interArea)\n",
    "    iou_mean = -kb.mean(iou)\n",
    "    return iou_mean"
   ]
  },
  {
   "cell_type": "markdown",
   "metadata": {},
   "source": [
    "# Loading with 20 frames"
   ]
  },
  {
   "cell_type": "code",
   "execution_count": 257,
   "metadata": {},
   "outputs": [
    {
     "name": "stdout",
     "output_type": "stream",
     "text": [
      "3.0685737133026123\n"
     ]
    }
   ],
   "source": [
    "loc_files_train, loc_files_test, box_train_txt, box_test_txt = Files_Load()\n",
    "start = time.time()\n",
    "# x_ppl_box, y_ppl_box, frame_ppl_id, video_file,trialdict = Boxes(loc_files_train, box_train_txt, 20, pad ='pre')\n",
    "traindict = Boxes(loc_files_train, box_train_txt, 20, pad ='pre')\n",
    "end = time.time()\n",
    "print(end -start)"
   ]
  },
  {
   "cell_type": "code",
   "execution_count": 414,
   "metadata": {},
   "outputs": [
    {
     "name": "stdout",
     "output_type": "stream",
     "text": [
      "0.2543485164642334\n"
     ]
    }
   ],
   "source": [
    "start = time.time()\n",
    "\n",
    "testdict = Boxes(loc_files_test[0:1], box_test_txt[0:1], 20, pad ='pre')\n",
    "end = time.time()\n",
    "print(end -start)"
   ]
  },
  {
   "cell_type": "code",
   "execution_count": 415,
   "metadata": {},
   "outputs": [
    {
     "data": {
      "text/plain": [
       "array(['01.txt', '01.txt', '01.txt', ..., '16.txt', '16.txt', '16.txt'],\n",
       "      dtype='<U6')"
      ]
     },
     "execution_count": 415,
     "metadata": {},
     "output_type": "execute_result"
    }
   ],
   "source": [
    "traindict['video_file']"
   ]
  },
  {
   "cell_type": "code",
   "execution_count": 304,
   "metadata": {},
   "outputs": [
    {
     "data": {
      "text/plain": [
       "['/home/akanu/Dataset/Anomaly/Avenue_Dataset/bounding_box_tlbr/Txt_Data/Test_Box/01.txt',\n",
       " '/home/akanu/Dataset/Anomaly/Avenue_Dataset/bounding_box_tlbr/Txt_Data/Test_Box/02.txt',\n",
       " '/home/akanu/Dataset/Anomaly/Avenue_Dataset/bounding_box_tlbr/Txt_Data/Test_Box/03.txt',\n",
       " '/home/akanu/Dataset/Anomaly/Avenue_Dataset/bounding_box_tlbr/Txt_Data/Test_Box/04.txt',\n",
       " '/home/akanu/Dataset/Anomaly/Avenue_Dataset/bounding_box_tlbr/Txt_Data/Test_Box/05.txt',\n",
       " '/home/akanu/Dataset/Anomaly/Avenue_Dataset/bounding_box_tlbr/Txt_Data/Test_Box/06.txt',\n",
       " '/home/akanu/Dataset/Anomaly/Avenue_Dataset/bounding_box_tlbr/Txt_Data/Test_Box/07.txt',\n",
       " '/home/akanu/Dataset/Anomaly/Avenue_Dataset/bounding_box_tlbr/Txt_Data/Test_Box/08.txt',\n",
       " '/home/akanu/Dataset/Anomaly/Avenue_Dataset/bounding_box_tlbr/Txt_Data/Test_Box/09.txt',\n",
       " '/home/akanu/Dataset/Anomaly/Avenue_Dataset/bounding_box_tlbr/Txt_Data/Test_Box/10.txt',\n",
       " '/home/akanu/Dataset/Anomaly/Avenue_Dataset/bounding_box_tlbr/Txt_Data/Test_Box/11.txt',\n",
       " '/home/akanu/Dataset/Anomaly/Avenue_Dataset/bounding_box_tlbr/Txt_Data/Test_Box/12.txt',\n",
       " '/home/akanu/Dataset/Anomaly/Avenue_Dataset/bounding_box_tlbr/Txt_Data/Test_Box/13.txt',\n",
       " '/home/akanu/Dataset/Anomaly/Avenue_Dataset/bounding_box_tlbr/Txt_Data/Test_Box/14.txt',\n",
       " '/home/akanu/Dataset/Anomaly/Avenue_Dataset/bounding_box_tlbr/Txt_Data/Test_Box/15.txt',\n",
       " '/home/akanu/Dataset/Anomaly/Avenue_Dataset/bounding_box_tlbr/Txt_Data/Test_Box/16.txt',\n",
       " '/home/akanu/Dataset/Anomaly/Avenue_Dataset/bounding_box_tlbr/Txt_Data/Test_Box/17.txt',\n",
       " '/home/akanu/Dataset/Anomaly/Avenue_Dataset/bounding_box_tlbr/Txt_Data/Test_Box/18.txt',\n",
       " '/home/akanu/Dataset/Anomaly/Avenue_Dataset/bounding_box_tlbr/Txt_Data/Test_Box/19.txt',\n",
       " '/home/akanu/Dataset/Anomaly/Avenue_Dataset/bounding_box_tlbr/Txt_Data/Test_Box/20.txt',\n",
       " '/home/akanu/Dataset/Anomaly/Avenue_Dataset/bounding_box_tlbr/Txt_Data/Test_Box/21.txt']"
      ]
     },
     "execution_count": 304,
     "metadata": {},
     "output_type": "execute_result"
    }
   ],
   "source": [
    "loc_files_test[0:23]"
   ]
  },
  {
   "cell_type": "code",
   "execution_count": 305,
   "metadata": {},
   "outputs": [],
   "source": [
    "def getDict(frames =20, startvid=0,endvid=1 ):\n",
    "    loc_files_train, loc_files_test, box_train_txt, box_test_txt = Files_Load()\n",
    "    traindict = Boxes(loc_files_train, box_train_txt, frames, pad ='pre')\n",
    "    testdict = Boxes(loc_files_test[startvid:endvid], box_test_txt[startvid:endvid], frames, pad ='pre')\n",
    "    return traindict,testdict\n",
    "\n",
    "\n",
    "    "
   ]
  },
  {
   "cell_type": "code",
   "execution_count": 259,
   "metadata": {},
   "outputs": [],
   "source": [
    "def test_sepearate_norm_abnorm(testdict):\n",
    "    abnormal_index = np.nonzero(testdict['abnormal'])\n",
    "    normal_index = np.where(testdict['abnormal'] == 0)\n",
    "    normal_dict = {}\n",
    "    abnormal_dict = {}\n",
    "    \n",
    "    for key in testdict.keys():\n",
    "        normal_dict[key] = testdict[key][normal_index]\n",
    "        abnormal_dict[key] = testdict[key][abnormal_index]\n",
    "    \n",
    "\n",
    "    return abnormal_dict, normal_dict\n",
    "    "
   ]
  },
  {
   "cell_type": "code",
   "execution_count": 260,
   "metadata": {},
   "outputs": [],
   "source": [
    "def normalize_train_max_min(traindict = None, testdict = None, unnorm_data = None, unorm=False):\n",
    "    \n",
    "    max1 = traindict['x_ppl_box'].max()\n",
    "    min1 = traindict['x_ppl_box'].min()\n",
    "    if unorm:\n",
    "        data = unnorm_data*(max1-min1) + min1\n",
    "        return data\n",
    "    \n",
    "    else:\n",
    "        abnormal_dict, normal_dict = test_sepearate_norm_abnorm(testdict)\n",
    "\n",
    "        abnormal_test_x = abnormal_dict['x_ppl_box']\n",
    "        abnormal_test_y = abnormal_dict['y_ppl_box']\n",
    "        test_x = normal_dict['x_ppl_box']\n",
    "        test_y = normal_dict['y_ppl_box']\n",
    "\n",
    "\n",
    "        xx = (traindict['x_ppl_box'] - min1)/(max1 - min1)\n",
    "        xx_test_abnorm = (abnormal_test_x - min1)/(max1-min1)\n",
    "        xx_test_norm = (test_x - min1)/(max1-min1)\n",
    "        \n",
    "        yy = (traindict['y_ppl_box'] - min1)/(max1-min1)\n",
    "        yy_test_abnorm = (abnormal_test_y - min1)/(max1-min1)\n",
    "        yy_test_norm = (test_y - min1)/(max1-min1)\n",
    "        \n",
    "        return xx,yy, xx_test_abnorm, yy_test_abnorm, xx_test_norm, yy_test_norm"
   ]
  },
  {
   "cell_type": "code",
   "execution_count": 261,
   "metadata": {},
   "outputs": [],
   "source": [
    "# abnorm_dict,norm_dict = test_sepearate_norm_abnorm(testdict)"
   ]
  },
  {
   "cell_type": "code",
   "execution_count": 262,
   "metadata": {},
   "outputs": [],
   "source": [
    "# abnormal_test_x = abnormal_dict['x_ppl_box']\n",
    "# abnormal_test_y = abnormal_dict['y_ppl_box']\n",
    "# test_x = normal_dict['x_ppl_box']\n",
    "# test_y = normal_dict['y_ppl_box']"
   ]
  },
  {
   "cell_type": "code",
   "execution_count": 263,
   "metadata": {},
   "outputs": [],
   "source": [
    "# xx = (traindict['x_ppl_box'] - traindict['x_ppl_box'].mean())/traindict['x_ppl_box'].std()\n",
    "# xx_test_abnorm = (abnormal_test_x - traindict['x_ppl_box'].mean())/traindict['x_ppl_box'].std()\n",
    "# xx_test = (test_x - traindict['x_ppl_box'].mean())/traindict['x_ppl_box'].std()\n"
   ]
  },
  {
   "cell_type": "code",
   "execution_count": 249,
   "metadata": {},
   "outputs": [],
   "source": [
    "# yy = (traindict['y_ppl_box'] - traindict['x_ppl_box'].mean())/traindict['x_ppl_box'].std()\n",
    "# yy_test_abnorm = (abnormal_test_y - traindict['x_ppl_box'].mean())/traindict['x_ppl_box'].std()\n",
    "# yy_test = (test_y - traindict['x_ppl_box'].mean())/traindict['x_ppl_box'].std()"
   ]
  },
  {
   "cell_type": "code",
   "execution_count": 250,
   "metadata": {},
   "outputs": [],
   "source": [
    "# max1 = traindict['x_ppl_box'].max()\n",
    "# min1 = traindict['x_ppl_box'].min()\n",
    "# xx = (traindict['x_ppl_box'] - min1)/(max1 - min1)\n",
    "# xx_test_abnorm = (abnormal_test_x - min1)/(max1-min1)\n",
    "# xx_test = (test_x - min1)/(max1-min1)"
   ]
  },
  {
   "cell_type": "code",
   "execution_count": 251,
   "metadata": {},
   "outputs": [],
   "source": [
    "# yy = (traindict['y_ppl_box'] - min1)/(max1-min1)\n",
    "# yy_test_abnorm = (abnormal_test_y - min1)/(max1-min1)\n",
    "# yy_test = (test_y - min1)/(max1-min1)"
   ]
  },
  {
   "cell_type": "code",
   "execution_count": 306,
   "metadata": {},
   "outputs": [],
   "source": [
    "traindict,testdict = getDict()\n",
    "xx,yy, xx_test_abnorm, yy_test_abnorm, xx_test_norm, yy_test_norm = normalize_train_max_min(traindict=traindict, testdict=testdict)"
   ]
  },
  {
   "cell_type": "code",
   "execution_count": 253,
   "metadata": {},
   "outputs": [
    {
     "name": "stdout",
     "output_type": "stream",
     "text": [
      "0.7958993476234856\n",
      "-0.022367194780987885\n",
      "0.739049394221808\n",
      "0.1342031686859273\n"
     ]
    }
   ],
   "source": [
    "print(yy_test.max())\n",
    "print(yy_test.min())\n",
    "print(yy_test_abnorm.max())\n",
    "print(yy_test_abnorm.min())"
   ]
  },
  {
   "cell_type": "code",
   "execution_count": 270,
   "metadata": {},
   "outputs": [
    {
     "data": {
      "text/plain": [
       "(325, 20, 4)"
      ]
     },
     "execution_count": 270,
     "metadata": {},
     "output_type": "execute_result"
    }
   ],
   "source": [
    "normalize_train_max_min(traindict=traindict,unnorm_data=xx_test_abnorm,unorm=True).shape"
   ]
  },
  {
   "cell_type": "code",
   "execution_count": null,
   "metadata": {},
   "outputs": [],
   "source": []
  },
  {
   "cell_type": "code",
   "execution_count": 265,
   "metadata": {},
   "outputs": [],
   "source": [
    "BUFFER_SIZE = 10000\n",
    "BATCH_SIZE = 32\n",
    "xx_train, xx_val,yy_train,yy_val = train_test_split(xx,yy, test_size = 0.1)\n",
    "train_univariate = tf.data.Dataset.from_tensor_slices((xx_train,yy_train))\n",
    "train_univariate = train_univariate.cache().shuffle(BUFFER_SIZE).batch(BATCH_SIZE)\n",
    "val_univariate = tf.data.Dataset.from_tensor_slices((xx_val,yy_val))\n",
    "val_univariate = val_univariate.cache().shuffle(BUFFER_SIZE).batch(BATCH_SIZE)"
   ]
  },
  {
   "cell_type": "markdown",
   "metadata": {},
   "source": [
    "# Files Loaded with 5 Frames"
   ]
  },
  {
   "cell_type": "code",
   "execution_count": 23,
   "metadata": {},
   "outputs": [],
   "source": [
    "# loc_files_train, loc_files_test, box_train_txt, box_test_txt = Files_Load()\n",
    "# start = time.time()\n",
    "# x_ppl_box_5, y_ppl_box_5, frame_ppl_id_5, video_file_5 = Boxes(loc_files_train, box_train_txt, 5, pad ='pre')\n",
    "# end = time.time()\n",
    "# print(end -start)"
   ]
  },
  {
   "cell_type": "code",
   "execution_count": 24,
   "metadata": {},
   "outputs": [],
   "source": [
    "# start = time.time()\n",
    "\n",
    "# x_ppl_box_test_5, y_ppl_box_test_5, frame_ppl_id_test_5, video_file_test_5 = Boxes(loc_files_test, box_test_txt, 5, pad ='pre')\n",
    "# end = time.time()\n",
    "# print(end -start)"
   ]
  },
  {
   "cell_type": "code",
   "execution_count": 25,
   "metadata": {},
   "outputs": [],
   "source": [
    "# xx_5 = (x_ppl_box_5 - x_ppl_box_5.mean())/x_ppl_box_5.std()\n",
    "# xx_test_5 = (x_ppl_box_test_5 - x_ppl_box_test_5.mean())/x_ppl_box_test_5.std()"
   ]
  },
  {
   "cell_type": "code",
   "execution_count": 26,
   "metadata": {},
   "outputs": [],
   "source": [
    "# yy_5 = (y_ppl_box_5 - x_ppl_box_5.mean())/x_ppl_box_5.std()\n",
    "# yy_test_5 = (y_ppl_box_test_5 - x_ppl_box_5.mean())/x_ppl_box_5.std()"
   ]
  },
  {
   "cell_type": "code",
   "execution_count": null,
   "metadata": {},
   "outputs": [],
   "source": []
  },
  {
   "cell_type": "markdown",
   "metadata": {},
   "source": [
    "\n",
    "\n",
    "\n",
    "\n",
    "\n",
    "\n",
    "\n",
    "\n",
    "\n",
    "\n",
    "\n",
    "\n",
    "\n",
    "\n",
    "\n",
    "\n",
    "\n",
    "\n",
    "\n",
    "\n",
    "# LSTM 20 Frames"
   ]
  },
  {
   "cell_type": "code",
   "execution_count": 27,
   "metadata": {},
   "outputs": [
    {
     "name": "stdout",
     "output_type": "stream",
     "text": [
      "Epoch 1/100\n",
      "3902/3902 [==============================] - 91s 23ms/step - loss: -0.4045 - mse: 0.0979 - val_loss: -0.5305 - val_mse: 0.0551\n",
      "Epoch 2/100\n",
      "3902/3902 [==============================] - 89s 23ms/step - loss: -0.6095 - mse: 0.0386 - val_loss: -0.6762 - val_mse: 0.0312\n",
      "Epoch 3/100\n",
      "3902/3902 [==============================] - 89s 23ms/step - loss: -0.7006 - mse: 0.0268 - val_loss: -0.7166 - val_mse: 0.0226\n",
      "Epoch 4/100\n",
      "3902/3902 [==============================] - 89s 23ms/step - loss: -0.7294 - mse: 0.0188 - val_loss: -0.7395 - val_mse: 0.0154\n",
      "Epoch 5/100\n",
      "3902/3902 [==============================] - 89s 23ms/step - loss: -0.7601 - mse: 0.0116 - val_loss: -0.7891 - val_mse: 0.0087\n",
      "Epoch 6/100\n",
      "3902/3902 [==============================] - 89s 23ms/step - loss: -0.8071 - mse: 0.0078 - val_loss: -0.8186 - val_mse: 0.0071\n",
      "Epoch 7/100\n",
      "3902/3902 [==============================] - 89s 23ms/step - loss: -0.8320 - mse: 0.0062 - val_loss: -0.8434 - val_mse: 0.0055\n",
      "Epoch 8/100\n",
      "3902/3902 [==============================] - 89s 23ms/step - loss: -0.8585 - mse: 0.0046 - val_loss: -0.8714 - val_mse: 0.0038\n",
      "Epoch 9/100\n",
      "3902/3902 [==============================] - 89s 23ms/step - loss: -0.8875 - mse: 0.0027 - val_loss: -0.9036 - val_mse: 0.0017\n",
      "Epoch 10/100\n",
      "3902/3902 [==============================] - 89s 23ms/step - loss: -0.9234 - mse: 0.0011 - val_loss: -0.9340 - val_mse: 9.0954e-04\n",
      "Epoch 11/100\n",
      "3902/3902 [==============================] - 89s 23ms/step - loss: -0.9372 - mse: 7.9255e-04 - val_loss: -0.9378 - val_mse: 8.2917e-04\n",
      "Epoch 12/100\n",
      "3902/3902 [==============================] - 89s 23ms/step - loss: -0.9400 - mse: 7.4138e-04 - val_loss: -0.9398 - val_mse: 8.0082e-04\n",
      "Epoch 13/100\n",
      "3902/3902 [==============================] - 89s 23ms/step - loss: -0.9417 - mse: 7.1262e-04 - val_loss: -0.9414 - val_mse: 7.7286e-04\n",
      "Epoch 14/100\n",
      "3902/3902 [==============================] - 89s 23ms/step - loss: -0.9430 - mse: 6.9355e-04 - val_loss: -0.9424 - val_mse: 7.6316e-04\n",
      "Epoch 15/100\n",
      "3902/3902 [==============================] - 89s 23ms/step - loss: -0.9439 - mse: 6.8026e-04 - val_loss: -0.9433 - val_mse: 7.4903e-04\n",
      "Epoch 16/100\n",
      "3902/3902 [==============================] - 89s 23ms/step - loss: -0.9447 - mse: 6.7027e-04 - val_loss: -0.9440 - val_mse: 7.4060e-04\n",
      "Epoch 17/100\n",
      "3902/3902 [==============================] - 89s 23ms/step - loss: -0.9453 - mse: 6.6218e-04 - val_loss: -0.9445 - val_mse: 7.3523e-04\n",
      "Epoch 18/100\n",
      "3902/3902 [==============================] - 89s 23ms/step - loss: -0.9458 - mse: 6.5569e-04 - val_loss: -0.9448 - val_mse: 7.3042e-04\n",
      "Epoch 19/100\n",
      "3902/3902 [==============================] - 89s 23ms/step - loss: -0.9462 - mse: 6.5023e-04 - val_loss: -0.9454 - val_mse: 7.2458e-04\n",
      "Epoch 20/100\n",
      "3902/3902 [==============================] - 89s 23ms/step - loss: -0.9466 - mse: 6.4534e-04 - val_loss: -0.9457 - val_mse: 7.2029e-04\n",
      "Epoch 21/100\n",
      "3902/3902 [==============================] - 89s 23ms/step - loss: -0.9469 - mse: 6.4111e-04 - val_loss: -0.9460 - val_mse: 7.1615e-04\n",
      "Epoch 22/100\n",
      "3902/3902 [==============================] - 89s 23ms/step - loss: -0.9472 - mse: 6.3722e-04 - val_loss: -0.9463 - val_mse: 7.1332e-04\n",
      "Epoch 23/100\n",
      "3902/3902 [==============================] - 89s 23ms/step - loss: -0.9475 - mse: 6.3350e-04 - val_loss: -0.9466 - val_mse: 7.1013e-04\n",
      "Epoch 24/100\n",
      "3902/3902 [==============================] - 89s 23ms/step - loss: -0.9477 - mse: 6.3013e-04 - val_loss: -0.9468 - val_mse: 7.0645e-04\n",
      "Epoch 25/100\n",
      "3902/3902 [==============================] - 89s 23ms/step - loss: -0.9479 - mse: 6.2704e-04 - val_loss: -0.9468 - val_mse: 7.0643e-04\n",
      "Epoch 26/100\n",
      "3902/3902 [==============================] - 89s 23ms/step - loss: -0.9482 - mse: 6.2400e-04 - val_loss: -0.9472 - val_mse: 7.0072e-04\n",
      "Epoch 27/100\n",
      "3902/3902 [==============================] - 89s 23ms/step - loss: -0.9484 - mse: 6.2083e-04 - val_loss: -0.9475 - val_mse: 6.9757e-04\n",
      "Epoch 28/100\n",
      "3902/3902 [==============================] - 89s 23ms/step - loss: -0.9486 - mse: 6.1791e-04 - val_loss: -0.9476 - val_mse: 6.9585e-04\n",
      "Epoch 29/100\n",
      "3902/3902 [==============================] - 89s 23ms/step - loss: -0.9488 - mse: 6.1523e-04 - val_loss: -0.9478 - val_mse: 6.9330e-04\n",
      "Epoch 30/100\n",
      "3902/3902 [==============================] - 89s 23ms/step - loss: -0.9489 - mse: 6.1278e-04 - val_loss: -0.9480 - val_mse: 6.9059e-04\n",
      "Epoch 31/100\n",
      "3902/3902 [==============================] - 89s 23ms/step - loss: -0.9491 - mse: 6.1014e-04 - val_loss: -0.9481 - val_mse: 6.8784e-04\n",
      "Epoch 32/100\n",
      "3902/3902 [==============================] - 89s 23ms/step - loss: -0.9493 - mse: 6.0754e-04 - val_loss: -0.9484 - val_mse: 6.8532e-04\n",
      "Epoch 33/100\n",
      "3902/3902 [==============================] - 89s 23ms/step - loss: -0.9495 - mse: 6.0527e-04 - val_loss: -0.9485 - val_mse: 6.8380e-04\n",
      "Epoch 34/100\n",
      "3902/3902 [==============================] - 88s 23ms/step - loss: -0.9496 - mse: 6.0291e-04 - val_loss: -0.9486 - val_mse: 6.8060e-04\n",
      "Epoch 35/100\n",
      "3902/3902 [==============================] - 88s 23ms/step - loss: -0.9498 - mse: 6.0049e-04 - val_loss: -0.9489 - val_mse: 6.7841e-04\n",
      "Epoch 36/100\n",
      "3902/3902 [==============================] - 89s 23ms/step - loss: -0.9499 - mse: 5.9841e-04 - val_loss: -0.9490 - val_mse: 6.7580e-04\n",
      "Epoch 37/100\n",
      "3902/3902 [==============================] - 89s 23ms/step - loss: -0.9501 - mse: 5.9617e-04 - val_loss: -0.9492 - val_mse: 6.7349e-04\n",
      "Epoch 38/100\n",
      "3902/3902 [==============================] - 89s 23ms/step - loss: -0.9502 - mse: 5.9397e-04 - val_loss: -0.9493 - val_mse: 6.7128e-04\n",
      "Epoch 39/100\n",
      "3902/3902 [==============================] - 89s 23ms/step - loss: -0.9504 - mse: 5.9209e-04 - val_loss: -0.9495 - val_mse: 6.6894e-04\n",
      "Epoch 40/100\n",
      "3902/3902 [==============================] - 89s 23ms/step - loss: -0.9505 - mse: 5.9013e-04 - val_loss: -0.9495 - val_mse: 6.6700e-04\n",
      "Epoch 41/100\n",
      "3902/3902 [==============================] - 89s 23ms/step - loss: -0.9506 - mse: 5.8818e-04 - val_loss: -0.9497 - val_mse: 6.6452e-04\n",
      "Epoch 42/100\n",
      "3902/3902 [==============================] - 89s 23ms/step - loss: -0.9508 - mse: 5.8616e-04 - val_loss: -0.9499 - val_mse: 6.6314e-04\n",
      "Epoch 43/100\n",
      "3902/3902 [==============================] - 89s 23ms/step - loss: -0.9509 - mse: 5.8451e-04 - val_loss: -0.9499 - val_mse: 6.6109e-04\n",
      "Epoch 44/100\n",
      "3902/3902 [==============================] - 89s 23ms/step - loss: -0.9510 - mse: 5.8260e-04 - val_loss: -0.9501 - val_mse: 6.5943e-04\n",
      "Epoch 45/100\n",
      "3902/3902 [==============================] - 89s 23ms/step - loss: -0.9511 - mse: 5.8084e-04 - val_loss: -0.9502 - val_mse: 6.5704e-04\n",
      "Epoch 46/100\n",
      "3902/3902 [==============================] - 89s 23ms/step - loss: -0.9513 - mse: 5.7894e-04 - val_loss: -0.9504 - val_mse: 6.5623e-04\n",
      "Epoch 47/100\n",
      "3902/3902 [==============================] - 89s 23ms/step - loss: -0.9514 - mse: 5.7728e-04 - val_loss: -0.9503 - val_mse: 6.5631e-04\n",
      "Epoch 48/100\n",
      "3902/3902 [==============================] - 89s 23ms/step - loss: -0.9515 - mse: 5.7578e-04 - val_loss: -0.9506 - val_mse: 6.5271e-04\n",
      "Epoch 49/100\n",
      "3902/3902 [==============================] - 89s 23ms/step - loss: -0.9516 - mse: 5.7406e-04 - val_loss: -0.9507 - val_mse: 6.5078e-04\n",
      "Epoch 50/100\n",
      "3902/3902 [==============================] - 89s 23ms/step - loss: -0.9517 - mse: 5.7230e-04 - val_loss: -0.9507 - val_mse: 6.4806e-04\n",
      "Epoch 51/100\n",
      "3902/3902 [==============================] - 89s 23ms/step - loss: -0.9518 - mse: 5.7080e-04 - val_loss: -0.9509 - val_mse: 6.4707e-04\n",
      "Epoch 52/100\n",
      "3902/3902 [==============================] - 89s 23ms/step - loss: -0.9519 - mse: 5.6922e-04 - val_loss: -0.9509 - val_mse: 6.4748e-04\n",
      "Epoch 53/100\n",
      "3902/3902 [==============================] - 89s 23ms/step - loss: -0.9520 - mse: 5.6743e-04 - val_loss: -0.9510 - val_mse: 6.4341e-04\n",
      "Epoch 54/100\n",
      "3902/3902 [==============================] - 89s 23ms/step - loss: -0.9521 - mse: 5.6616e-04 - val_loss: -0.9512 - val_mse: 6.4168e-04\n"
     ]
    }
   ],
   "source": [
    "with tf.device('/device:GPU:1'):\n",
    "    lstm_20 = keras.Sequential()\n",
    "    lstm_20.add(keras.layers.InputLayer(input_shape=xx.shape[-2:]))\n",
    "    lstm_20.add(keras.layers.LSTM(4,return_sequences =True ))\n",
    "    lstm_20.add(keras.layers.LSTM(3,return_sequences =True ))\n",
    "    lstm_20.add(keras.layers.LSTM(6,return_sequences =True ))\n",
    "    lstm_20.add(keras.layers.LSTM(4,return_sequences =True ))\n",
    "    lstm_20.add(keras.layers.LSTM(4,return_sequences =True ))\n",
    "    lstm_20.add(keras.layers.LSTM(4) )\n",
    "    lstm_20.add(keras.layers.Dense(4) )\n",
    "    opt = tf.keras.optimizers.Adam(learning_rate=8.726e-06)\n",
    "    checkpoint_cb = keras.callbacks.ModelCheckpoint(\"lstm_5_arc_model.h5\", \n",
    "                                                       save_best_only = True)\n",
    "    early_stopping = tf.keras.callbacks.EarlyStopping(monitor='val_loss', min_delta=0.0005, patience=5)\n",
    "    lstm_20.compile(optimizer=opt, loss=bb_intersection_over_union, metrics='mse')\n",
    "    \n",
    "    lstm_20_history_1= lstm_20.fit(train_univariate,\n",
    "                               validation_data = val_univariate,\n",
    "                               epochs=100, \n",
    "                               callbacks = [early_stopping])"
   ]
  },
  {
   "cell_type": "code",
   "execution_count": 288,
   "metadata": {},
   "outputs": [
    {
     "name": "stdout",
     "output_type": "stream",
     "text": [
      "Model: \"sequential\"\n",
      "_________________________________________________________________\n",
      "Layer (type)                 Output Shape              Param #   \n",
      "=================================================================\n",
      "lstm (LSTM)                  (None, 20, 4)             144       \n",
      "_________________________________________________________________\n",
      "lstm_1 (LSTM)                (None, 20, 3)             96        \n",
      "_________________________________________________________________\n",
      "lstm_2 (LSTM)                (None, 20, 6)             240       \n",
      "_________________________________________________________________\n",
      "lstm_3 (LSTM)                (None, 20, 4)             176       \n",
      "_________________________________________________________________\n",
      "lstm_4 (LSTM)                (None, 20, 4)             144       \n",
      "_________________________________________________________________\n",
      "lstm_5 (LSTM)                (None, 4)                 144       \n",
      "_________________________________________________________________\n",
      "dense (Dense)                (None, 4)                 20        \n",
      "=================================================================\n",
      "Total params: 964\n",
      "Trainable params: 964\n",
      "Non-trainable params: 0\n",
      "_________________________________________________________________\n"
     ]
    }
   ],
   "source": [
    "lstm_20.summary()"
   ]
  },
  {
   "cell_type": "code",
   "execution_count": 319,
   "metadata": {},
   "outputs": [
    {
     "data": {
      "text/plain": [
       "array([[0.3863308 , 0.2545565 , 0.42001975, 0.35493624]], dtype=float32)"
      ]
     },
     "execution_count": 319,
     "metadata": {},
     "output_type": "execute_result"
    }
   ],
   "source": [
    "lstm_20.predict(xx_test_abnorm[0:1])"
   ]
  },
  {
   "cell_type": "code",
   "execution_count": 58,
   "metadata": {},
   "outputs": [],
   "source": [
    "l =[]\n",
    "for los,val in zip(lstm_20_history_1.history['loss'], lstm_20_history_1.history['val_loss']):\n",
    "    l.append(np.array([los -val ]))\n",
    "                 "
   ]
  },
  {
   "cell_type": "code",
   "execution_count": 50,
   "metadata": {},
   "outputs": [
    {
     "data": {
      "text/plain": [
       "[<matplotlib.lines.Line2D at 0x7f64c833b080>]"
      ]
     },
     "execution_count": 50,
     "metadata": {},
     "output_type": "execute_result"
    },
    {
     "data": {
      "image/png": "[encoded data removed]",
      "text/plain": [
       "<Figure size 432x288 with 1 Axes>"
      ]
     },
     "metadata": {
      "needs_background": "light"
     },
     "output_type": "display_data"
    }
   ],
   "source": [
    "plt.plot(l)"
   ]
  },
  {
   "cell_type": "code",
   "execution_count": 56,
   "metadata": {
    "scrolled": true
   },
   "outputs": [
    {
     "data": {
      "text/plain": [
       "Text(0.5, 1.0, 'LSTM, 20 Frames')"
      ]
     },
     "execution_count": 56,
     "metadata": {},
     "output_type": "execute_result"
    },
    {
     "data": {
      "image/png": "[encoded data removed]",
      "text/plain": [
       "<Figure size 432x288 with 1 Axes>"
      ]
     },
     "metadata": {
      "needs_background": "light"
     },
     "output_type": "display_data"
    }
   ],
   "source": [
    "i =10\n",
    "j=20\n",
    "plt.plot(np.arange(i,j), lstm_20_history_1.history['loss'][i:j],'b+', label='loss')\n",
    "plt.plot(np.arange(i,j), lstm_20_history_1.history['val_loss'][i:j],'r-+', label='val loss')\n",
    "\n",
    "plt.legend()\n",
    "plt.title('LSTM, 20 Frames')"
   ]
  },
  {
   "cell_type": "code",
   "execution_count": 60,
   "metadata": {},
   "outputs": [
    {
     "name": "stdout",
     "output_type": "stream",
     "text": [
      "11/11 [==============================] - 0s 10ms/step - loss: -0.8018 - mse: 0.0063\n"
     ]
    },
    {
     "data": {
      "text/plain": [
       "[-0.8018190264701843, 0.006331674288958311]"
      ]
     },
     "execution_count": 60,
     "metadata": {},
     "output_type": "execute_result"
    }
   ],
   "source": [
    "lstm_20.evaluate(xx_test_abnorm,yy_test_abnorm)\n"
   ]
  },
  {
   "cell_type": "markdown",
   "metadata": {},
   "source": [
    "# Dense Network"
   ]
  },
  {
   "cell_type": "code",
   "execution_count": null,
   "metadata": {},
   "outputs": [],
   "source": [
    "# Iou metric. Should probably scale back to normal. Might not matter if not scaled back to normal\n",
    "class IouMetric(keras.metrics.Metric):\n",
    "    def __init__(self, **kwargs):\n",
    "        super().__init__(**kwargs)\n",
    "        self.iou_avg = self.add_weight(\"iou_avg\", initializer=\"zeros\")\n",
    "        self.bb_intersection_over_union = iou_function()\n",
    "        self.count = self.add_weight(\"count\", initializer=\"zeros\")\n",
    "    def update_state(self, y_true,y_pred):\n",
    "        print('Here1')\n",
    "        y_true = math_ops.cast(y_true, tf.float32)\n",
    "        y_pred = math_ops.cast(y_pred, tf.float32)\n",
    "        print('here')\n",
    "        iou_calc =  self.bb_intersection_over_union(y_true,y_pred)\n",
    "        self.iou_avg.assign_add(iou_calc)\n",
    "        self.count.assign_add(1)\n",
    "    def result(self):\n",
    "        return self.iou_avg"
   ]
  },
  {
   "cell_type": "code",
   "execution_count": null,
   "metadata": {},
   "outputs": [],
   "source": [
    "def custom_loss(y_actual,y_pred):\n",
    "#     print(y_actual)\n",
    "    kb.print_tensor(y_actual.shape)\n",
    "    kb.print_tensor(y_pred)\n",
    "    custom_loss=kb.square(y_actual-y_pred)\n",
    "    return custom_loss"
   ]
  },
  {
   "cell_type": "code",
   "execution_count": null,
   "metadata": {
    "scrolled": false
   },
   "outputs": [],
   "source": [
    "learning_rate = 0.0000005\n",
    "dense_model = keras.models.Sequential([\n",
    "    keras.layers.Flatten(input_shape=xx.shape[-2:]),\n",
    "    keras.layers.Dense(4)\n",
    "])\n",
    "opt = tf.keras.optimizers.Adam(learning_rate=learning_rate)\n",
    "dense_model.compile(loss=\"mse\", optimizer=opt, metrics=bb_intersection_over_union)\n",
    "# dense_model.compile(loss=custom_loss, optimizer=opt)\n",
    "dense_model.compile(loss=bb_intersection_over_union, optimizer=opt, metrics = bb_intersection_over_union)\n",
    "\n",
    "# history1 = dense_model.fit(xx, yy,validation_split=.1, \n",
    "#                     epochs=15)\n",
    "# dense_history = dense_model.fit(train_univariate, epochs=5, validation_data =val_univariate  )\n",
    "dense_history = dense_model.fit(xx,yy, epochs=6 )\n",
    "\n",
    "            "
   ]
  },
  {
   "cell_type": "code",
   "execution_count": null,
   "metadata": {},
   "outputs": [],
   "source": [
    "dense_model.summary()"
   ]
  },
  {
   "cell_type": "code",
   "execution_count": null,
   "metadata": {},
   "outputs": [],
   "source": [
    "dense_history.history.keys()"
   ]
  },
  {
   "cell_type": "code",
   "execution_count": null,
   "metadata": {},
   "outputs": [],
   "source": [
    "dense_model.evaluate(xx_test,yy_test)"
   ]
  },
  {
   "cell_type": "code",
   "execution_count": null,
   "metadata": {},
   "outputs": [],
   "source": [
    "dense_model.evaluate(xx_test_abnorm,yy_test_abnorm)"
   ]
  },
  {
   "cell_type": "code",
   "execution_count": null,
   "metadata": {},
   "outputs": [],
   "source": [
    "print(x_ppl_box.shape)\n",
    "print(yy[:6])"
   ]
  },
  {
   "cell_type": "code",
   "execution_count": null,
   "metadata": {},
   "outputs": [],
   "source": [
    "plt.plot(np.arange(1,51), dense_history.history['loss'],'b+', label='loss')\n",
    "plt.plot(np.arange(1,51),dense_history.history['val_loss'], 'r+', label ='val loss')\n",
    "plt.legend()\n",
    "plt.title('Baseline Dense Network')"
   ]
  },
  {
   "cell_type": "code",
   "execution_count": null,
   "metadata": {},
   "outputs": [],
   "source": [
    "plt.plot(np.arange(1,7), dense_history.history['loss'],'b+', label='loss')\n",
    "plt.plot(np.arange(1,7), dense_history.history['val_loss'], 'r+', label ='val loss')\n",
    "plt.legend()\n",
    "plt.title('Baseline Dense Network Data Shuffled, lr = {}'.format(learning_rate))"
   ]
  },
  {
   "cell_type": "code",
   "execution_count": null,
   "metadata": {},
   "outputs": [],
   "source": [
    "len(dense_history.history['loss'][30:51])"
   ]
  },
  {
   "cell_type": "markdown",
   "metadata": {},
   "source": [
    "# Results creation"
   ]
  },
  {
   "cell_type": "code",
   "execution_count": 456,
   "metadata": {},
   "outputs": [],
   "source": [
    "def videoPlot(y_ppl_box,y_pred, frame_ppl_id, video_file, vid_type ='test'):\n",
    "    \"\"\"\n",
    "    Function is plotting the ground truth and predicted \n",
    "    \n",
    "    y_ppl_box: Actual Label for bounding box locations\n",
    "    y_ppl_box_pred: Prediction from Model of bounding box locations\n",
    "    frame_person_id: Contains frame Number and person_Id of entire sequence, \n",
    "                     Last element is prediction frame. For visulization process\n",
    "    video_file: Points to video file used. For visulization process\n",
    "    \"\"\"\n",
    "    # Need a way to save images\n",
    "    file = {}\n",
    "    file['train'] = '/home/akanu/Dataset/Anomaly/Avenue_Dataset/training_videos/'\n",
    "    file['test'] = \"/home/akanu/Dataset/Anomaly/Avenue_Dataset/testing_videos/\"\n",
    "    loc_videos = file[vid_type] + video_file[:2] + '.avi'\n",
    "    ###\n",
    "    \n",
    "    video_capture = cv2.VideoCapture(loc_videos)\n",
    "    \n",
    "#     for i in range(-1, frame_ppl_id[0,-1,0] + 1):\n",
    "        #Assune sequences are connected and don't skip cuz of occlusions \n",
    "    for i in range(0,frame_ppl_id[0,-1,0]+1):\n",
    "        print(i)\n",
    "        ret, frame = video_capture.read()\n",
    "        if i == frame_ppl_id[0,-1,0]:\n",
    "            vid = int(video_file[:2])\n",
    "            pred_frame = frame.copy()\n",
    "            cv2.rectangle(frame, (int(y_ppl_box[0,0]), int(y_ppl_box[0,1])), (int(y_ppl_box[0,2]), int(y_ppl_box[0,3])),(255,255,255), 2)\n",
    "            cv2.putText(frame, str(frame_ppl_id[0,-1,1]),(int(y_ppl_box[0,0]), int(y_ppl_box[0,1])),0, 5e-3 * 200, (0,255,0),2)\n",
    "\n",
    "            cv2.rectangle(pred_frame, (int(y_pred[0,0]), int(y_pred[0,1])), (int(y_pred[0,2]), int(y_pred[0,3])),(255,255,0), 2)\n",
    "            cv2.putText(pred_frame, str(frame_ppl_id[0,-1,1]),(int(y_pred[0,0]), int(y_pred[0,1])),0, 5e-3 * 200, (0,255,0),2)\n",
    "            \n",
    "            cv2.imwrite('/home/akanu/git/deep_sort_yolov3/Images_saved/{:02d}_{:02d}_pred.jpg'.format(vid,i), pred_frame)\n",
    "            cv2.imwrite(\"/home/akanu/git/deep_sort_yolov3/Images_saved/{:02d}_{:02d}_gt.jpg\".format(vid,i), frame)\n",
    "            \n",
    "            print('saved')\n"
   ]
  },
  {
   "cell_type": "code",
   "execution_count": 457,
   "metadata": {},
   "outputs": [
    {
     "data": {
      "text/plain": [
       "'/home/akanu/git/deep_sort_yolov3/Images_saved/01_20_900_pred.jpg'"
      ]
     },
     "execution_count": 457,
     "metadata": {},
     "output_type": "execute_result"
    }
   ],
   "source": [
    "'/home/akanu/git/deep_sort_yolov3/Images_saved/{:02d}_{:02d}_{:02d}_pred.jpg'.format(1,20,900)"
   ]
  },
  {
   "cell_type": "code",
   "execution_count": 464,
   "metadata": {},
   "outputs": [],
   "source": [
    "def plot_single_videos(model,traindict,testdict):\n",
    "    #Might need to go back and make normalize function more robust\n",
    "    xx,yy, xx_test_abnorm, yy_test_abnorm, xx_test_norm, yy_test_norm = normalize_train_max_min(traindict=traindict, testdict=testdict)\n",
    "    abnormal_dict, normal_dict = test_sepearate_norm_abnorm(testdict)\n",
    "\n",
    "    \n",
    "    vid_file,frame_ppl= abnorm_dict['video_file'], abnorm_dict['frame_ppl_id']\n",
    "    y = abnorm_dict['y_ppl_box'] # not normailized\n",
    "    \n",
    "    for x,y_actual,frame_ppl_id, video_file,  in zip(xx_test_abnorm,y,frame_ppl,vid_file  ):  \n",
    "        \n",
    "        y_actual = np.expand_dims(y_actual,axis=0)\n",
    "        frame_ppl_id =np.expand_dims(frame_ppl_id, axis=0)\n",
    "        print(x)\n",
    "        print(\" {}  {} {}\".format(y_actual, frame_ppl_id, frame_ppl_id[0,-1,0]))\n",
    "        x = np.expand_dims(x,axis=0)\n",
    "        y_pred = model.predict(x)\n",
    "        y_pred = normalize_train_max_min(traindict=traindict, unnorm_data=y_pred, unorm=True)\n",
    "\n",
    "        # if x,y,c,h change to right coordinates\n",
    "        videoPlot(y_actual,y_pred, frame_ppl_id, video_file, vid_type ='test')\n",
    "#         print(y_actual)\n",
    "#         print(y_pred)\n",
    "        \n",
    "        "
   ]
  },
  {
   "cell_type": "code",
   "execution_count": 468,
   "metadata": {},
   "outputs": [
    {
     "data": {
      "text/plain": [
       "(1, 4)"
      ]
     },
     "execution_count": 468,
     "metadata": {},
     "output_type": "execute_result"
    }
   ],
   "source": [
    "yy_test_abnorm[0:1].shape"
   ]
  },
  {
   "cell_type": "code",
   "execution_count": 461,
   "metadata": {},
   "outputs": [
    {
     "name": "stdout",
     "output_type": "stream",
     "text": [
      "292/292 [==============================] - 3s 12ms/step - loss: 0.0000e+00 - mse: 104943.7656\n"
     ]
    },
    {
     "data": {
      "text/plain": [
       "[0.0, 104943.765625]"
      ]
     },
     "execution_count": 461,
     "metadata": {},
     "output_type": "execute_result"
    }
   ],
   "source": [
    "lstm_20.evaluate(testdict['x_ppl_box'],testdict['y_ppl_box'])"
   ]
  },
  {
   "cell_type": "code",
   "execution_count": null,
   "metadata": {},
   "outputs": [],
   "source": []
  }
 ],
 "metadata": {
  "kernelspec": {
   "display_name": "Python 3",
   "language": "python",
   "name": "python3"
  },
  "language_info": {
   "codemirror_mode": {
    "name": "ipython",
    "version": 3
   },
   "file_extension": ".py",
   "mimetype": "text/x-python",
   "name": "python",
   "nbconvert_exporter": "python",
   "pygments_lexer": "ipython3",
   "version": "3.6.9"
  }
 },
 "nbformat": 4,
 "nbformat_minor": 4
}
