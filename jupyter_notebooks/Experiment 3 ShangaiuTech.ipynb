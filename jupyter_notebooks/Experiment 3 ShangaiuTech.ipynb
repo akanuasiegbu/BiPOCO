{
 "cells": [
  {
   "cell_type": "markdown",
   "metadata": {},
   "source": [
    "# Use experiment 3 method used in experiment 1 over here"
   ]
  },
  {
   "cell_type": "code",
   "execution_count": 1,
   "metadata": {},
   "outputs": [],
   "source": [
    "import os, sys, time\n",
    "from math import floor\n",
    "import pandas as pd\n",
    "import seaborn as sns\n",
    "import cv2\n",
    "import numpy as np\n",
    "\n",
    "from matplotlib import pyplot as plt\n",
    "import matplotlib\n",
    "%matplotlib inline\n",
    "\n",
    "import tensorflow as tf\n",
    "# # import tensorflow.compat.v1 as tf\n",
    "# from tensorflow import keras\n",
    "# from tensorflow.keras.layers import Lambda\n",
    "# from keras.preprocessing.sequence import pad_sequences\n",
    "\n",
    "from sklearn.preprocessing import MinMaxScaler\n",
    "from sklearn.model_selection import train_test_split\n",
    "# from collections import OrderedDict\n",
    "# from tensorflow.python.ops import math_ops\n",
    "# import tensorflow.keras.backend as kb\n",
    "from tensorflow_addons.utils.ensure_tf_install import _check_tf_version\n",
    "_check_tf_version()\n",
    "from tensorflow_addons import losses\n",
    "\n",
    "\n",
    "# Custom Functions\n",
    "from load_data import Files_Load, Boxes, test_split_norm_abnorm, norm_train_max_min\n",
    "from custom_metrics import bb_intersection_over_union, bb_intersection_over_union_np\n",
    "from coordinate_change import xywh_tlbr, tlbr_xywh\n",
    "from pedsort import pedsort\n",
    "from load_data_binary_class import return_indices, binary_data_split, same_ratio_split_train_val\n",
    "from load_data_binary_class import one_weight_ratio_train\n",
    "from TP_TN_FP_FN import seperate_misclassifed_examples, sort_TP_TN_FP_FN_by_vid_n_frame\n",
    "from plot_all_videos import cycle_through_videos\n",
    "\n",
    "# Kmeans\n",
    "from sklearn.cluster import KMeans\n",
    "\n",
    "# Need to figue out why this is not working\n",
    "# from persistence1d import RunPersistence\n",
    "\n",
    "\n",
    "# from keras.wrappers.scikit_learn import KerasClassifier\n",
    "# from sklearn.model_selection import cross_val_score\n",
    "# from sklearn.preprocessing import LabelEncoder\n",
    "# from sklearn.model_selection import StratifiedKFold\n",
    "# from sklearn.preprocessing import StandardScaler\n",
    "# from sklearn.pipeline import Pipeline\n",
    "# from sklearn.metrics import roc_curve, precision_recall_curve\n",
    "# from sklearn.metrics import plot_confusion_matrix"
   ]
  },
  {
   "cell_type": "markdown",
   "metadata": {},
   "source": [
    "# GPU Check\n",
    "### All I'm doing here is limiting memory growth. Could probably delete this now that I can use numerous gpus"
   ]
  },
  {
   "cell_type": "code",
   "execution_count": 2,
   "metadata": {},
   "outputs": [
    {
     "data": {
      "text/plain": [
       "[PhysicalDevice(name='/physical_device:GPU:0', device_type='GPU'),\n",
       " PhysicalDevice(name='/physical_device:GPU:1', device_type='GPU')]"
      ]
     },
     "execution_count": 2,
     "metadata": {},
     "output_type": "execute_result"
    }
   ],
   "source": [
    "tf.config.list_physical_devices('GPU')"
   ]
  },
  {
   "cell_type": "code",
   "execution_count": 3,
   "metadata": {},
   "outputs": [
    {
     "name": "stdout",
     "output_type": "stream",
     "text": [
      "2 Physical GPUs, 2 Logical GPUs\n"
     ]
    }
   ],
   "source": [
    "gpus = tf.config.experimental.list_physical_devices('GPU')\n",
    "if gpus:\n",
    "  try:\n",
    "    # Currently, memory growth needs to be the same across GPUs\n",
    "    for gpu in gpus:\n",
    "      tf.config.experimental.set_memory_growth(gpu, True)\n",
    "    logical_gpus = tf.config.experimental.list_logical_devices('GPU')\n",
    "    print(len(gpus), \"Physical GPUs,\", len(logical_gpus), \"Logical GPUs\")\n",
    "  except RuntimeError as e:\n",
    "    # Memory growth must be set before GPUs have been initialized\n",
    "        print(e)"
   ]
  },
  {
   "cell_type": "markdown",
   "metadata": {},
   "source": [
    "\n",
    "# Load Data\n",
    "### Constants to change: Frames, Normization factor"
   ]
  },
  {
   "cell_type": "code",
   "execution_count": 12,
   "metadata": {},
   "outputs": [],
   "source": [
    "FRAMES =20\n",
    "BUFFER_SIZE = 100000\n",
    "BATCH_SIZE = 32\n",
    "TEST_SIZE = 0.3"
   ]
  },
  {
   "cell_type": "code",
   "execution_count": 13,
   "metadata": {},
   "outputs": [],
   "source": [
    "train_file = '/mnt/roahm/users/akanu/dataset/Anomaly/ShangaiuTech/Txt_Data/Train_Box/'\n",
    "test_file =  '/mnt/roahm/users/akanu/dataset/Anomaly/ShangaiuTech/Txt_Data/Test_Box/'\n",
    "\n",
    "loc_files_train, loc_files_test, box_train_txt, box_test_txt = Files_Load(train_file, test_file)\n",
    "\n",
    "# Don't forget to change to xywh \n",
    "traindict = Boxes(loc_files_train, box_train_txt, FRAMES, pad ='pre', to_xywh=True)\n",
    "testdict = Boxes(loc_files_test, box_test_txt, FRAMES, pad ='pre', to_xywh = True)\n",
    "abnormal_dict, normal_dict = test_split_norm_abnorm(testdict) #splits by which predicted frames are normal or not\n",
    "\n",
    "# Normilize data\n",
    "max1 = traindict['x_ppl_box'].max()\n",
    "min1 = traindict['x_ppl_box'].min()\n",
    "xx,yy = norm_train_max_min(data_dict = traindict, max1=max1,min1=min1)\n",
    "# xx_norm,yy_norm = norm_train_max_min(data_dict = normal_dict, max1=max1,min1=min1)\n",
    "# xx_abnorm,yy_abnorm = norm_train_max_min(data_dict = abnormal_dict, max1=max1,min1=min1)\n",
    "\n"
   ]
  },
  {
   "cell_type": "code",
   "execution_count": 14,
   "metadata": {},
   "outputs": [],
   "source": [
    "xx_train, xx_val,yy_train,yy_val = train_test_split(xx,yy, test_size = TEST_SIZE)\n",
    "train_univariate = tf.data.Dataset.from_tensor_slices((xx_train,yy_train))\n",
    "train_univariate = train_univariate.cache().shuffle(BUFFER_SIZE).batch(BATCH_SIZE)\n",
    "val_univariate = tf.data.Dataset.from_tensor_slices((xx_val,yy_val))\n",
    "val_univariate = val_univariate.cache().shuffle(BUFFER_SIZE).batch(BATCH_SIZE)"
   ]
  },
  {
   "cell_type": "code",
   "execution_count": 15,
   "metadata": {},
   "outputs": [
    {
     "data": {
      "text/plain": [
       "(1002287, 20, 4)"
      ]
     },
     "execution_count": 15,
     "metadata": {},
     "output_type": "execute_result"
    }
   ],
   "source": [
    "traindict['x_ppl_box'].shape"
   ]
  },
  {
   "cell_type": "markdown",
   "metadata": {},
   "source": [
    "# Load or Train Model\n"
   ]
  },
  {
   "cell_type": "markdown",
   "metadata": {},
   "source": [
    "### Naming convention of saved models\n",
    "\n",
    "model: lstm\n",
    "\n",
    "type: xywh, tlbr\n",
    "\n",
    "dataset: ped1,ped2,st, avenue\n",
    "\n",
    "seq: size of sequence, 20, 5 etc int of sequence\n",
    "\n",
    "model_type_dataset_seq.h5\n",
    "\n",
    "example: lstm_xywh_ped1_20.h5\n"
   ]
  },
  {
   "cell_type": "markdown",
   "metadata": {},
   "source": [
    "## Need to fix that path that I need to inset the path to load model Right Now to load model I would need to insert the model path. Could I put it in PYTHONPATH or is there a better way to do it.. Actually Probably best to move file into PYTHONPATH location. That makes more sense.\n",
    "\n",
    "1) I moved binary classifaction and lstm model py files into custom functions\n",
    "\n",
    "2) I just changed name from lstm_xywh_avenue_20 to lstm_xywh_20 because I can still use same archieture for a different dataset\n",
    "    \n",
    "    a) I want to remove 20 possibly and make generic to other                timelengths\n",
    "    "
   ]
  },
  {
   "cell_type": "code",
   "execution_count": 16,
   "metadata": {},
   "outputs": [],
   "source": [
    "nc=['lstm', 'xywh', 'st', FRAMES] # This corresponds to standard to save models "
   ]
  },
  {
   "cell_type": "code",
   "execution_count": 17,
   "metadata": {},
   "outputs": [],
   "source": [
    "from lstm_models import lstm_xywh_20 \n",
    "# I should change this name to be more genric "
   ]
  },
  {
   "cell_type": "code",
   "execution_count": 18,
   "metadata": {},
   "outputs": [],
   "source": [
    "# This can be a static play because its location is \"fixed\"\n",
    "model_loc = '/mnt/roahm/users/akanu/projects/anomalous_pred/results_all_datasets/shtech/saved_models/exp3'"
   ]
  },
  {
   "cell_type": "code",
   "execution_count": 19,
   "metadata": {},
   "outputs": [
    {
     "name": "stdout",
     "output_type": "stream",
     "text": [
      "Epoch 1/300\n",
      "21925/21925 [==============================] - 154s 7ms/step - loss: 0.0215 - val_loss: 0.0013\n",
      "Epoch 2/300\n",
      "21925/21925 [==============================] - 163s 7ms/step - loss: 9.2395e-04 - val_loss: 7.1676e-04\n",
      "Epoch 3/300\n",
      "21925/21925 [==============================] - 155s 7ms/step - loss: 5.9143e-04 - val_loss: 4.6799e-04\n",
      "Epoch 4/300\n",
      "21925/21925 [==============================] - 153s 7ms/step - loss: 3.9218e-04 - val_loss: 3.2925e-04\n",
      "Epoch 5/300\n",
      "21925/21925 [==============================] - 153s 7ms/step - loss: 2.8231e-04 - val_loss: 2.4996e-04\n",
      "Epoch 6/300\n",
      "21925/21925 [==============================] - 153s 7ms/step - loss: 2.3232e-04 - val_loss: 2.2039e-04\n",
      "Epoch 7/300\n",
      "21925/21925 [==============================] - 154s 7ms/step - loss: 2.0969e-04 - val_loss: 2.0178e-04\n",
      "Epoch 8/300\n",
      "21925/21925 [==============================] - 153s 7ms/step - loss: 1.9399e-04 - val_loss: 1.8853e-04\n",
      "Epoch 9/300\n",
      "21925/21925 [==============================] - 154s 7ms/step - loss: 1.8262e-04 - val_loss: 1.7880e-04\n",
      "Epoch 10/300\n",
      "21925/21925 [==============================] - 154s 7ms/step - loss: 1.7378e-04 - val_loss: 1.7055e-04\n",
      "Epoch 11/300\n",
      "21925/21925 [==============================] - 154s 7ms/step - loss: 1.6617e-04 - val_loss: 1.6438e-04\n",
      "Epoch 12/300\n",
      "21925/21925 [==============================] - 154s 7ms/step - loss: 1.5921e-04 - val_loss: 1.5650e-04\n",
      "Epoch 13/300\n",
      "21925/21925 [==============================] - 154s 7ms/step - loss: 1.5255e-04 - val_loss: 1.4986e-04\n",
      "Epoch 14/300\n",
      "21925/21925 [==============================] - 154s 7ms/step - loss: 1.4630e-04 - val_loss: 1.4439e-04\n",
      "Epoch 15/300\n",
      "21925/21925 [==============================] - 154s 7ms/step - loss: 1.4079e-04 - val_loss: 1.3886e-04\n",
      "Epoch 16/300\n",
      "21925/21925 [==============================] - 153s 7ms/step - loss: 1.3623e-04 - val_loss: 1.3481e-04\n",
      "Epoch 17/300\n",
      "21925/21925 [==============================] - 153s 7ms/step - loss: 1.3260e-04 - val_loss: 1.3180e-04\n"
     ]
    }
   ],
   "source": [
    "model = lstm_xywh_20(train_univariate, val_univariate, model_loc, nc)"
   ]
  },
  {
   "cell_type": "code",
   "execution_count": null,
   "metadata": {},
   "outputs": [],
   "source": [
    "fig, ax = plt.subplots(nrows=1, ncols=1)\n",
    "ax.plot(model.history['loss'], '-', color='black', label='loss')\n",
    "ax.plot(model.history['val_loss'], '-', color='red', label='Validation loss')\n",
    "ax.legend()\n",
    "plt.xlabel('Epochs')\n",
    "plt.ylabel('Loss')\n"
   ]
  },
  {
   "cell_type": "markdown",
   "metadata": {},
   "source": [
    "#### Think I probably need to go back and play with the weights. This model is appears to converge quickly. How does converage compare to when I looked at Avenue dataset? Avenue Dataset appears to converge quickly for bounding box predictions . Also note that the way I defined the models in lstm_models the history is returned which allows me to make plots etc. However to acess the model and do predictions I need to load the model that was saved during the training process."
   ]
  },
  {
   "cell_type": "markdown",
   "metadata": {},
   "source": [
    "# Loading Model"
   ]
  },
  {
   "cell_type": "code",
   "execution_count": 51,
   "metadata": {},
   "outputs": [
    {
     "data": {
      "text/plain": [
       "'/mnt/roahm/users/akanu/projects/anomalous_pred/results_all_datasets/shtech/saved_models/exp3'"
      ]
     },
     "execution_count": 51,
     "metadata": {},
     "output_type": "execute_result"
    }
   ],
   "source": [
    "model_loc"
   ]
  },
  {
   "cell_type": "code",
   "execution_count": 52,
   "metadata": {},
   "outputs": [],
   "source": [
    "loaded_model = os.path.join(model_loc,\n",
    "                            '{}_{}_{}_{}.h5'.format(nc[0], nc[1],nc[2], nc[3]))\n",
    "lstm_20 = tf.keras.models.load_model(loaded_model,  \n",
    "                                   custom_objects = {'loss':'mse'} , \n",
    "                                   compile=True)\n"
   ]
  },
  {
   "cell_type": "markdown",
   "metadata": {},
   "source": [
    "# Weighted Loss"
   ]
  },
  {
   "cell_type": "code",
   "execution_count": 26,
   "metadata": {},
   "outputs": [],
   "source": [
    "WEIGHT_RATIO =1\n",
    "INITIAL_BIAS = np.log([WEIGHT_RATIO])"
   ]
  },
  {
   "cell_type": "markdown",
   "metadata": {},
   "source": [
    "## 1) Go back through why didn't use weighted_cross_entropy_loss builtin"
   ]
  },
  {
   "cell_type": "code",
   "execution_count": 27,
   "metadata": {},
   "outputs": [],
   "source": [
    "# SHOULD CHANGE HOW INPUTTED WEIGHT_RATIO INTO LOSS\n",
    "# FUNCTION TO MAKE MORE MODULAR\n",
    "def loss(y_true, y_pred):\n",
    "    when_y_1 = y_true*tf.keras.backend.log(y_pred)*(1/WEIGHT_RATIO)\n",
    "    neg_y_pred = Lambda(lambda x: -x)(y_pred)\n",
    "    when_y_0 = ( 1+Lambda(lambda x: -x)(y_true))*tf.keras.backend.log(1+neg_y_pred )\n",
    "    \n",
    "    weighted_cross_entr = Lambda(lambda x: -x)(when_y_0+when_y_1)\n",
    "    return weighted_cross_entr"
   ]
  },
  {
   "cell_type": "markdown",
   "metadata": {},
   "source": [
    "# Seed information and other constants"
   ]
  },
  {
   "cell_type": "code",
   "execution_count": 70,
   "metadata": {},
   "outputs": [],
   "source": [
    "seed_exp_1 = [23,24,35,81]\n",
    "ABNORMAL_SPLIT =0.5\n",
    "VAL_RATIO = 0.3"
   ]
  },
  {
   "cell_type": "code",
   "execution_count": 71,
   "metadata": {},
   "outputs": [],
   "source": [
    "indices_exp_1 = return_indices(testdict['abnormal'], \n",
    "                               abnormal_split = ABNORMAL_SPLIT, \n",
    "                               seed=seed_exp_1[0])\n"
   ]
  },
  {
   "cell_type": "code",
   "execution_count": 72,
   "metadata": {},
   "outputs": [],
   "source": [
    "x_exp_1,y_exp_1 = norm_train_max_min(data_dict=testdict, max1 = max1, min1=min1 )"
   ]
  },
  {
   "cell_type": "markdown",
   "metadata": {},
   "source": [
    "this function takes normed data and returns data with IOU and return_indices. Indices can be used to track back to location in unshuffled testdict.So that visulzations of what can be given as to what happened."
   ]
  },
  {
   "cell_type": "markdown",
   "metadata": {},
   "source": [
    "1) GO BACK AND CHANGE THE BINARY_DATA_SPLIT FUNCTION TO MAKE CLEARER"
   ]
  },
  {
   "cell_type": "code",
   "execution_count": 73,
   "metadata": {},
   "outputs": [],
   "source": [
    "train_full_x_exp_1,train_full_y_exp_1, test_x_exp_1, test_y_exp_1 = binary_data_split(x_exp_1,\n",
    "                                                                          y_exp_1,\n",
    "                                                                          lstm_20,\n",
    "                                                                          indices_exp_1)"
   ]
  },
  {
   "cell_type": "code",
   "execution_count": 74,
   "metadata": {},
   "outputs": [
    {
     "name": "stdout",
     "output_type": "stream",
     "text": [
      "Comparing shape length of train_full_x and test_x \n",
      "train_full_x: (2, 152147), test_x:(2, 14780)\n"
     ]
    }
   ],
   "source": [
    "print('Comparing shape length of train_full_x and test_x \\n' +\n",
    "     'train_full_x: {}, test_x:{}'.format(train_full_x_exp_1.shape,\n",
    "                                         test_x_exp_1.shape))"
   ]
  },
  {
   "cell_type": "code",
   "execution_count": 75,
   "metadata": {},
   "outputs": [],
   "source": [
    "# Change name from one_weight_ratio_split to equal_binary_train_split"
   ]
  },
  {
   "cell_type": "code",
   "execution_count": 76,
   "metadata": {},
   "outputs": [],
   "source": [
    "train_x_even_split_exp_1, train_y_even_split_exp_1 = one_weight_ratio_train(\n",
    "                                        train_full_x_exp_1,\n",
    "                                        train_full_y_exp_1)"
   ]
  },
  {
   "cell_type": "code",
   "execution_count": 77,
   "metadata": {},
   "outputs": [],
   "source": [
    "val_x_exp_1, val_y_exp_1, train_x_exp_1, train_y_exp_1 = same_ratio_split_train_val(\n",
    "    train_x_even_split_exp_1,train_y_even_split_exp_1, val_ratio = VAL_RATIO)\n",
    "# weight_ratio = len(indices_exp_1[0])/len(indices_exp_1[1])"
   ]
  },
  {
   "cell_type": "code",
   "execution_count": 78,
   "metadata": {},
   "outputs": [],
   "source": [
    "# Note that I need to index into correct column as one is IOU\n",
    "# and last column is index values to map back into datadicg\n",
    "train_bm_exp_1 = tf.data.Dataset.from_tensor_slices((train_x_exp_1[0,:],train_y_exp_1))\n",
    "train_bm_exp_1 = train_bm_exp_1.cache().shuffle(BUFFER_SIZE).batch(BATCH_SIZE)\n",
    "val_bm_exp_1 = tf.data.Dataset.from_tensor_slices((val_x_exp_1[0,:],val_y_exp_1))\n",
    "val_bm_exp_1 = val_bm_exp_1.cache().shuffle(BUFFER_SIZE).batch(BATCH_SIZE)"
   ]
  },
  {
   "cell_type": "code",
   "execution_count": 94,
   "metadata": {},
   "outputs": [],
   "source": [
    "from binary_classification import Dense_5_Drop_2"
   ]
  },
  {
   "cell_type": "code",
   "execution_count": 90,
   "metadata": {},
   "outputs": [],
   "source": [
    "nc_bin_exp_1 = ['seed{}_Dense_5_Drop_5_exp_1', 'xywh','avenue', FRAMES, 0.500]"
   ]
  },
  {
   "cell_type": "code",
   "execution_count": 91,
   "metadata": {},
   "outputs": [],
   "source": [
    "nc_bin_exp_1[0] = nc_bin_exp_1[0].format(seed_exp_1[0])"
   ]
  },
  {
   "cell_type": "code",
   "execution_count": 92,
   "metadata": {},
   "outputs": [
    {
     "data": {
      "text/plain": [
       "['seed23_Dense_5_Drop_5_exp_1', 'xywh', 'avenue', 20, 0.5]"
      ]
     },
     "execution_count": 92,
     "metadata": {},
     "output_type": "execute_result"
    }
   ],
   "source": [
    "nc_bin_exp_1"
   ]
  },
  {
   "cell_type": "code",
   "execution_count": 95,
   "metadata": {},
   "outputs": [
    {
     "data": {
      "text/plain": [
       "'/mnt/roahm/users/akanu/projects/anomalous_pred/results_all_datasets/shtech/saved_models/exp3/Experiment_3'"
      ]
     },
     "execution_count": 95,
     "metadata": {},
     "output_type": "execute_result"
    }
   ],
   "source": [
    "model_loc_exp = os.path.join(model_loc, 'Experiment_3')\n",
    "model_loc_exp"
   ]
  },
  {
   "cell_type": "markdown",
   "metadata": {},
   "source": [
    "# Train Data Experiment 1 Data"
   ]
  },
  {
   "cell_type": "code",
   "execution_count": 97,
   "metadata": {},
   "outputs": [
    {
     "name": "stdout",
     "output_type": "stream",
     "text": [
      "Epoch 1/1000\n",
      "324/324 [==============================] - 1s 2ms/step - loss: 0.6938 - accuracy: 0.4931 - val_loss: 0.6927 - val_accuracy: 0.5000\n",
      "Epoch 2/1000\n",
      "324/324 [==============================] - 1s 2ms/step - loss: 0.6938 - accuracy: 0.4914 - val_loss: 0.6926 - val_accuracy: 0.5000\n",
      "Epoch 3/1000\n",
      "324/324 [==============================] - 1s 2ms/step - loss: 0.6928 - accuracy: 0.5090 - val_loss: 0.6926 - val_accuracy: 0.5000\n",
      "Epoch 4/1000\n",
      "324/324 [==============================] - 1s 2ms/step - loss: 0.6939 - accuracy: 0.4924 - val_loss: 0.6925 - val_accuracy: 0.5000\n",
      "Epoch 5/1000\n",
      "324/324 [==============================] - 1s 2ms/step - loss: 0.6931 - accuracy: 0.5033 - val_loss: 0.6924 - val_accuracy: 0.5000\n",
      "Epoch 6/1000\n",
      "324/324 [==============================] - 1s 2ms/step - loss: 0.6928 - accuracy: 0.5015 - val_loss: 0.6924 - val_accuracy: 0.5000\n",
      "Epoch 7/1000\n",
      "324/324 [==============================] - 0s 2ms/step - loss: 0.6929 - accuracy: 0.5082 - val_loss: 0.6923 - val_accuracy: 0.5000\n",
      "Epoch 8/1000\n",
      "324/324 [==============================] - 1s 2ms/step - loss: 0.6930 - accuracy: 0.5056 - val_loss: 0.6923 - val_accuracy: 0.5000\n",
      "Epoch 9/1000\n",
      "324/324 [==============================] - 1s 2ms/step - loss: 0.6930 - accuracy: 0.5018 - val_loss: 0.6922 - val_accuracy: 0.4998\n",
      "Epoch 10/1000\n",
      "324/324 [==============================] - 0s 2ms/step - loss: 0.6933 - accuracy: 0.4945 - val_loss: 0.6922 - val_accuracy: 0.4998\n",
      "Epoch 11/1000\n",
      "324/324 [==============================] - 0s 2ms/step - loss: 0.6927 - accuracy: 0.5036 - val_loss: 0.6922 - val_accuracy: 0.4998\n",
      "Epoch 12/1000\n",
      "324/324 [==============================] - 0s 2ms/step - loss: 0.6928 - accuracy: 0.5054 - val_loss: 0.6921 - val_accuracy: 0.5000\n",
      "Epoch 13/1000\n",
      "324/324 [==============================] - 1s 2ms/step - loss: 0.6929 - accuracy: 0.5002 - val_loss: 0.6921 - val_accuracy: 0.5005\n",
      "Epoch 14/1000\n",
      "324/324 [==============================] - 1s 2ms/step - loss: 0.6925 - accuracy: 0.5072 - val_loss: 0.6921 - val_accuracy: 0.5005\n",
      "Epoch 15/1000\n",
      "324/324 [==============================] - 1s 2ms/step - loss: 0.6925 - accuracy: 0.5101 - val_loss: 0.6920 - val_accuracy: 0.5002\n",
      "Epoch 16/1000\n",
      "324/324 [==============================] - 1s 2ms/step - loss: 0.6924 - accuracy: 0.5048 - val_loss: 0.6920 - val_accuracy: 0.5005\n",
      "Epoch 17/1000\n",
      "324/324 [==============================] - 0s 2ms/step - loss: 0.6923 - accuracy: 0.5072 - val_loss: 0.6919 - val_accuracy: 0.5007\n",
      "Epoch 18/1000\n",
      "324/324 [==============================] - 1s 2ms/step - loss: 0.6928 - accuracy: 0.4963 - val_loss: 0.6919 - val_accuracy: 0.5009\n",
      "Epoch 19/1000\n",
      "324/324 [==============================] - 1s 2ms/step - loss: 0.6931 - accuracy: 0.5013 - val_loss: 0.6918 - val_accuracy: 0.5011\n",
      "Epoch 20/1000\n",
      "324/324 [==============================] - 1s 2ms/step - loss: 0.6923 - accuracy: 0.5156 - val_loss: 0.6918 - val_accuracy: 0.5011\n",
      "Epoch 21/1000\n",
      "324/324 [==============================] - 0s 2ms/step - loss: 0.6924 - accuracy: 0.5110 - val_loss: 0.6917 - val_accuracy: 0.5020\n",
      "Epoch 22/1000\n",
      "324/324 [==============================] - 0s 2ms/step - loss: 0.6925 - accuracy: 0.5112 - val_loss: 0.6917 - val_accuracy: 0.5023\n",
      "Epoch 23/1000\n",
      "324/324 [==============================] - 1s 2ms/step - loss: 0.6920 - accuracy: 0.5153 - val_loss: 0.6916 - val_accuracy: 0.5023\n",
      "Epoch 24/1000\n",
      "324/324 [==============================] - 1s 2ms/step - loss: 0.6927 - accuracy: 0.5071 - val_loss: 0.6916 - val_accuracy: 0.5020\n",
      "Epoch 25/1000\n",
      "324/324 [==============================] - 1s 2ms/step - loss: 0.6920 - accuracy: 0.5111 - val_loss: 0.6916 - val_accuracy: 0.5023\n",
      "Epoch 26/1000\n",
      "324/324 [==============================] - 0s 2ms/step - loss: 0.6921 - accuracy: 0.5139 - val_loss: 0.6915 - val_accuracy: 0.5025\n",
      "Epoch 27/1000\n",
      "324/324 [==============================] - 1s 2ms/step - loss: 0.6926 - accuracy: 0.5063 - val_loss: 0.6914 - val_accuracy: 0.5043\n",
      "Epoch 28/1000\n",
      "324/324 [==============================] - 0s 2ms/step - loss: 0.6921 - accuracy: 0.5155 - val_loss: 0.6914 - val_accuracy: 0.5047\n",
      "Epoch 29/1000\n",
      "324/324 [==============================] - 1s 2ms/step - loss: 0.6921 - accuracy: 0.5158 - val_loss: 0.6913 - val_accuracy: 0.5054\n",
      "Epoch 30/1000\n",
      "324/324 [==============================] - 0s 2ms/step - loss: 0.6920 - accuracy: 0.5174 - val_loss: 0.6913 - val_accuracy: 0.5059\n",
      "Epoch 31/1000\n",
      "324/324 [==============================] - 0s 2ms/step - loss: 0.6923 - accuracy: 0.5185 - val_loss: 0.6912 - val_accuracy: 0.5077\n",
      "Epoch 32/1000\n",
      "324/324 [==============================] - 1s 2ms/step - loss: 0.6920 - accuracy: 0.5136 - val_loss: 0.6911 - val_accuracy: 0.5077\n",
      "Epoch 33/1000\n",
      "324/324 [==============================] - 1s 2ms/step - loss: 0.6919 - accuracy: 0.5175 - val_loss: 0.6910 - val_accuracy: 0.5074\n",
      "Epoch 34/1000\n",
      "324/324 [==============================] - 1s 2ms/step - loss: 0.6918 - accuracy: 0.5172 - val_loss: 0.6909 - val_accuracy: 0.5083\n",
      "Epoch 35/1000\n",
      "324/324 [==============================] - 0s 2ms/step - loss: 0.6917 - accuracy: 0.5202 - val_loss: 0.6908 - val_accuracy: 0.5101\n",
      "Epoch 36/1000\n",
      "324/324 [==============================] - 0s 2ms/step - loss: 0.6909 - accuracy: 0.5262 - val_loss: 0.6907 - val_accuracy: 0.5095\n",
      "Epoch 37/1000\n",
      "324/324 [==============================] - 0s 2ms/step - loss: 0.6915 - accuracy: 0.5299 - val_loss: 0.6906 - val_accuracy: 0.5126\n",
      "Epoch 38/1000\n",
      "324/324 [==============================] - 0s 2ms/step - loss: 0.6914 - accuracy: 0.5252 - val_loss: 0.6905 - val_accuracy: 0.5156\n",
      "Epoch 39/1000\n",
      "324/324 [==============================] - 0s 2ms/step - loss: 0.6912 - accuracy: 0.5256 - val_loss: 0.6904 - val_accuracy: 0.5174\n",
      "Epoch 40/1000\n",
      "324/324 [==============================] - 0s 2ms/step - loss: 0.6911 - accuracy: 0.5287 - val_loss: 0.6903 - val_accuracy: 0.5178\n",
      "Epoch 41/1000\n",
      "324/324 [==============================] - 1s 2ms/step - loss: 0.6911 - accuracy: 0.5317 - val_loss: 0.6903 - val_accuracy: 0.5189\n",
      "Epoch 42/1000\n",
      "324/324 [==============================] - 1s 2ms/step - loss: 0.6911 - accuracy: 0.5307 - val_loss: 0.6901 - val_accuracy: 0.5223\n",
      "Epoch 43/1000\n",
      "324/324 [==============================] - 1s 2ms/step - loss: 0.6908 - accuracy: 0.5355 - val_loss: 0.6900 - val_accuracy: 0.5257\n",
      "Epoch 44/1000\n",
      "324/324 [==============================] - 1s 2ms/step - loss: 0.6907 - accuracy: 0.5387 - val_loss: 0.6899 - val_accuracy: 0.5286\n",
      "Epoch 45/1000\n",
      "324/324 [==============================] - 1s 2ms/step - loss: 0.6906 - accuracy: 0.5397 - val_loss: 0.6898 - val_accuracy: 0.5323\n",
      "Epoch 46/1000\n",
      "324/324 [==============================] - 0s 2ms/step - loss: 0.6905 - accuracy: 0.5410 - val_loss: 0.6897 - val_accuracy: 0.5334\n",
      "Epoch 47/1000\n",
      "324/324 [==============================] - 0s 2ms/step - loss: 0.6902 - accuracy: 0.5385 - val_loss: 0.6895 - val_accuracy: 0.5381\n",
      "Epoch 48/1000\n",
      "324/324 [==============================] - 1s 2ms/step - loss: 0.6906 - accuracy: 0.5357 - val_loss: 0.6893 - val_accuracy: 0.5426\n",
      "Epoch 49/1000\n",
      "324/324 [==============================] - 1s 2ms/step - loss: 0.6905 - accuracy: 0.5352 - val_loss: 0.6891 - val_accuracy: 0.5530\n",
      "Epoch 50/1000\n",
      "324/324 [==============================] - 0s 2ms/step - loss: 0.6897 - accuracy: 0.5523 - val_loss: 0.6889 - val_accuracy: 0.5668\n",
      "Epoch 51/1000\n",
      "324/324 [==============================] - 1s 2ms/step - loss: 0.6899 - accuracy: 0.5497 - val_loss: 0.6887 - val_accuracy: 0.5796\n",
      "Epoch 52/1000\n",
      "324/324 [==============================] - 1s 2ms/step - loss: 0.6898 - accuracy: 0.5522 - val_loss: 0.6885 - val_accuracy: 0.5907\n",
      "Epoch 53/1000\n",
      "324/324 [==============================] - 0s 2ms/step - loss: 0.6903 - accuracy: 0.5401 - val_loss: 0.6884 - val_accuracy: 0.6008\n",
      "Epoch 54/1000\n",
      "324/324 [==============================] - 0s 2ms/step - loss: 0.6894 - accuracy: 0.5549 - val_loss: 0.6882 - val_accuracy: 0.6015\n",
      "Epoch 55/1000\n",
      "324/324 [==============================] - 0s 2ms/step - loss: 0.6898 - accuracy: 0.5447 - val_loss: 0.6881 - val_accuracy: 0.6051\n",
      "Epoch 56/1000\n",
      "324/324 [==============================] - 1s 2ms/step - loss: 0.6887 - accuracy: 0.5629 - val_loss: 0.6879 - val_accuracy: 0.6042\n",
      "Epoch 57/1000\n",
      "324/324 [==============================] - 1s 2ms/step - loss: 0.6893 - accuracy: 0.5575 - val_loss: 0.6877 - val_accuracy: 0.6067\n",
      "Epoch 58/1000\n",
      "324/324 [==============================] - 0s 2ms/step - loss: 0.6893 - accuracy: 0.5530 - val_loss: 0.6876 - val_accuracy: 0.6128\n",
      "Epoch 59/1000\n",
      "324/324 [==============================] - 1s 2ms/step - loss: 0.6893 - accuracy: 0.5492 - val_loss: 0.6874 - val_accuracy: 0.6207\n",
      "Epoch 60/1000\n",
      "324/324 [==============================] - 1s 2ms/step - loss: 0.6886 - accuracy: 0.5585 - val_loss: 0.6872 - val_accuracy: 0.6236\n",
      "Epoch 61/1000\n",
      "324/324 [==============================] - 0s 2ms/step - loss: 0.6889 - accuracy: 0.5537 - val_loss: 0.6871 - val_accuracy: 0.6290\n",
      "Epoch 62/1000\n",
      "324/324 [==============================] - 0s 2ms/step - loss: 0.6883 - accuracy: 0.5611 - val_loss: 0.6868 - val_accuracy: 0.6258\n",
      "Epoch 63/1000\n",
      "324/324 [==============================] - 1s 2ms/step - loss: 0.6880 - accuracy: 0.5610 - val_loss: 0.6866 - val_accuracy: 0.6286\n",
      "Epoch 64/1000\n",
      "324/324 [==============================] - 0s 2ms/step - loss: 0.6892 - accuracy: 0.5541 - val_loss: 0.6865 - val_accuracy: 0.6328\n",
      "Epoch 65/1000\n",
      "324/324 [==============================] - 1s 2ms/step - loss: 0.6884 - accuracy: 0.5647 - val_loss: 0.6863 - val_accuracy: 0.6373\n",
      "Epoch 66/1000\n",
      "324/324 [==============================] - 1s 2ms/step - loss: 0.6873 - accuracy: 0.5705 - val_loss: 0.6860 - val_accuracy: 0.6396\n",
      "Epoch 67/1000\n",
      "324/324 [==============================] - 0s 2ms/step - loss: 0.6879 - accuracy: 0.5680 - val_loss: 0.6858 - val_accuracy: 0.6351\n",
      "Epoch 68/1000\n",
      "324/324 [==============================] - 1s 2ms/step - loss: 0.6875 - accuracy: 0.5644 - val_loss: 0.6856 - val_accuracy: 0.6378\n",
      "Epoch 69/1000\n",
      "324/324 [==============================] - 0s 2ms/step - loss: 0.6870 - accuracy: 0.5720 - val_loss: 0.6853 - val_accuracy: 0.6410\n",
      "Epoch 70/1000\n",
      "324/324 [==============================] - 0s 2ms/step - loss: 0.6866 - accuracy: 0.5769 - val_loss: 0.6851 - val_accuracy: 0.6407\n",
      "Epoch 71/1000\n",
      "324/324 [==============================] - 1s 2ms/step - loss: 0.6865 - accuracy: 0.5741 - val_loss: 0.6848 - val_accuracy: 0.6439\n",
      "Epoch 72/1000\n",
      "324/324 [==============================] - 0s 2ms/step - loss: 0.6864 - accuracy: 0.5710 - val_loss: 0.6845 - val_accuracy: 0.6432\n",
      "Epoch 73/1000\n",
      "324/324 [==============================] - 1s 2ms/step - loss: 0.6870 - accuracy: 0.5652 - val_loss: 0.6843 - val_accuracy: 0.6441\n",
      "Epoch 74/1000\n",
      "324/324 [==============================] - 1s 2ms/step - loss: 0.6866 - accuracy: 0.5692 - val_loss: 0.6840 - val_accuracy: 0.6466\n",
      "Epoch 75/1000\n",
      "324/324 [==============================] - 0s 2ms/step - loss: 0.6854 - accuracy: 0.5813 - val_loss: 0.6836 - val_accuracy: 0.6468\n",
      "Epoch 76/1000\n",
      "324/324 [==============================] - 0s 2ms/step - loss: 0.6862 - accuracy: 0.5752 - val_loss: 0.6834 - val_accuracy: 0.6470\n",
      "Epoch 77/1000\n",
      "324/324 [==============================] - 1s 2ms/step - loss: 0.6848 - accuracy: 0.5816 - val_loss: 0.6830 - val_accuracy: 0.6473\n",
      "Epoch 78/1000\n",
      "324/324 [==============================] - 1s 2ms/step - loss: 0.6856 - accuracy: 0.5721 - val_loss: 0.6828 - val_accuracy: 0.6477\n",
      "Epoch 79/1000\n",
      "324/324 [==============================] - 0s 2ms/step - loss: 0.6852 - accuracy: 0.5780 - val_loss: 0.6825 - val_accuracy: 0.6482\n",
      "Epoch 80/1000\n",
      "324/324 [==============================] - 1s 2ms/step - loss: 0.6852 - accuracy: 0.5759 - val_loss: 0.6822 - val_accuracy: 0.6507\n",
      "Epoch 81/1000\n",
      "324/324 [==============================] - 0s 2ms/step - loss: 0.6845 - accuracy: 0.5791 - val_loss: 0.6819 - val_accuracy: 0.6527\n",
      "Epoch 82/1000\n",
      "324/324 [==============================] - 1s 2ms/step - loss: 0.6844 - accuracy: 0.5828 - val_loss: 0.6817 - val_accuracy: 0.6545\n",
      "Epoch 83/1000\n",
      "324/324 [==============================] - 1s 2ms/step - loss: 0.6842 - accuracy: 0.5806 - val_loss: 0.6814 - val_accuracy: 0.6540\n",
      "Epoch 84/1000\n",
      "324/324 [==============================] - 1s 2ms/step - loss: 0.6828 - accuracy: 0.5863 - val_loss: 0.6810 - val_accuracy: 0.6543\n",
      "Epoch 85/1000\n",
      "324/324 [==============================] - 0s 2ms/step - loss: 0.6845 - accuracy: 0.5762 - val_loss: 0.6808 - val_accuracy: 0.6543\n",
      "Epoch 86/1000\n",
      "324/324 [==============================] - 1s 2ms/step - loss: 0.6822 - accuracy: 0.5967 - val_loss: 0.6804 - val_accuracy: 0.6545\n",
      "Epoch 87/1000\n",
      "324/324 [==============================] - 1s 2ms/step - loss: 0.6828 - accuracy: 0.5878 - val_loss: 0.6801 - val_accuracy: 0.6545\n",
      "Epoch 88/1000\n",
      "324/324 [==============================] - 1s 2ms/step - loss: 0.6827 - accuracy: 0.5837 - val_loss: 0.6798 - val_accuracy: 0.6547\n",
      "Epoch 89/1000\n",
      "324/324 [==============================] - 1s 2ms/step - loss: 0.6823 - accuracy: 0.5884 - val_loss: 0.6795 - val_accuracy: 0.6601\n",
      "Epoch 90/1000\n",
      "324/324 [==============================] - 1s 2ms/step - loss: 0.6832 - accuracy: 0.5790 - val_loss: 0.6793 - val_accuracy: 0.6588\n",
      "Epoch 91/1000\n",
      "324/324 [==============================] - 1s 2ms/step - loss: 0.6821 - accuracy: 0.5884 - val_loss: 0.6790 - val_accuracy: 0.6594\n",
      "Epoch 92/1000\n",
      "324/324 [==============================] - 1s 2ms/step - loss: 0.6809 - accuracy: 0.5997 - val_loss: 0.6786 - val_accuracy: 0.6594\n",
      "Epoch 93/1000\n",
      "324/324 [==============================] - 1s 2ms/step - loss: 0.6813 - accuracy: 0.5894 - val_loss: 0.6783 - val_accuracy: 0.6583\n",
      "Epoch 94/1000\n",
      "324/324 [==============================] - 0s 2ms/step - loss: 0.6807 - accuracy: 0.5960 - val_loss: 0.6779 - val_accuracy: 0.6592\n",
      "Epoch 95/1000\n",
      "324/324 [==============================] - 1s 2ms/step - loss: 0.6811 - accuracy: 0.5891 - val_loss: 0.6776 - val_accuracy: 0.6574\n",
      "Epoch 96/1000\n",
      "324/324 [==============================] - 1s 2ms/step - loss: 0.6798 - accuracy: 0.5994 - val_loss: 0.6773 - val_accuracy: 0.6567\n",
      "Epoch 97/1000\n",
      "324/324 [==============================] - 1s 2ms/step - loss: 0.6786 - accuracy: 0.6023 - val_loss: 0.6768 - val_accuracy: 0.6579\n",
      "Epoch 98/1000\n",
      "324/324 [==============================] - 1s 2ms/step - loss: 0.6800 - accuracy: 0.5913 - val_loss: 0.6764 - val_accuracy: 0.6592\n",
      "Epoch 99/1000\n",
      "324/324 [==============================] - 1s 2ms/step - loss: 0.6790 - accuracy: 0.5993 - val_loss: 0.6761 - val_accuracy: 0.6585\n",
      "Epoch 100/1000\n",
      "324/324 [==============================] - 1s 2ms/step - loss: 0.6794 - accuracy: 0.5952 - val_loss: 0.6757 - val_accuracy: 0.6583\n",
      "Epoch 101/1000\n",
      "324/324 [==============================] - 1s 2ms/step - loss: 0.6785 - accuracy: 0.5965 - val_loss: 0.6753 - val_accuracy: 0.6572\n",
      "Epoch 102/1000\n",
      "324/324 [==============================] - 1s 2ms/step - loss: 0.6785 - accuracy: 0.5961 - val_loss: 0.6749 - val_accuracy: 0.6574\n",
      "Epoch 103/1000\n",
      "324/324 [==============================] - 1s 2ms/step - loss: 0.6789 - accuracy: 0.5875 - val_loss: 0.6746 - val_accuracy: 0.6500\n",
      "Epoch 104/1000\n",
      "324/324 [==============================] - 1s 2ms/step - loss: 0.6770 - accuracy: 0.6008 - val_loss: 0.6742 - val_accuracy: 0.6475\n",
      "Epoch 105/1000\n",
      "324/324 [==============================] - 0s 2ms/step - loss: 0.6772 - accuracy: 0.5979 - val_loss: 0.6737 - val_accuracy: 0.6484\n",
      "Epoch 106/1000\n",
      "324/324 [==============================] - 1s 2ms/step - loss: 0.6768 - accuracy: 0.6024 - val_loss: 0.6733 - val_accuracy: 0.6484\n",
      "Epoch 107/1000\n",
      "324/324 [==============================] - 1s 2ms/step - loss: 0.6761 - accuracy: 0.6039 - val_loss: 0.6728 - val_accuracy: 0.6581\n",
      "Epoch 108/1000\n",
      "324/324 [==============================] - 1s 2ms/step - loss: 0.6756 - accuracy: 0.6049 - val_loss: 0.6724 - val_accuracy: 0.6534\n",
      "Epoch 109/1000\n",
      "324/324 [==============================] - 0s 2ms/step - loss: 0.6761 - accuracy: 0.6038 - val_loss: 0.6720 - val_accuracy: 0.6538\n",
      "Epoch 110/1000\n",
      "324/324 [==============================] - 0s 2ms/step - loss: 0.6768 - accuracy: 0.5977 - val_loss: 0.6715 - val_accuracy: 0.6547\n",
      "Epoch 111/1000\n",
      "324/324 [==============================] - 1s 2ms/step - loss: 0.6746 - accuracy: 0.6061 - val_loss: 0.6711 - val_accuracy: 0.6495\n",
      "Epoch 112/1000\n",
      "324/324 [==============================] - 1s 2ms/step - loss: 0.6738 - accuracy: 0.6091 - val_loss: 0.6707 - val_accuracy: 0.6475\n",
      "Epoch 113/1000\n"
     ]
    },
    {
     "name": "stdout",
     "output_type": "stream",
     "text": [
      "324/324 [==============================] - 1s 2ms/step - loss: 0.6743 - accuracy: 0.6046 - val_loss: 0.6701 - val_accuracy: 0.6500\n",
      "Epoch 114/1000\n",
      "324/324 [==============================] - 1s 2ms/step - loss: 0.6746 - accuracy: 0.6053 - val_loss: 0.6697 - val_accuracy: 0.6473\n",
      "Epoch 115/1000\n",
      "324/324 [==============================] - 1s 2ms/step - loss: 0.6731 - accuracy: 0.6052 - val_loss: 0.6692 - val_accuracy: 0.6475\n",
      "Epoch 116/1000\n",
      "324/324 [==============================] - 1s 2ms/step - loss: 0.6731 - accuracy: 0.6043 - val_loss: 0.6687 - val_accuracy: 0.6498\n",
      "Epoch 117/1000\n",
      "324/324 [==============================] - 0s 2ms/step - loss: 0.6726 - accuracy: 0.6048 - val_loss: 0.6682 - val_accuracy: 0.6477\n",
      "Epoch 118/1000\n",
      "324/324 [==============================] - 1s 2ms/step - loss: 0.6737 - accuracy: 0.6063 - val_loss: 0.6678 - val_accuracy: 0.6464\n",
      "Epoch 119/1000\n",
      "324/324 [==============================] - 0s 2ms/step - loss: 0.6719 - accuracy: 0.6096 - val_loss: 0.6674 - val_accuracy: 0.6464\n",
      "Epoch 120/1000\n",
      "324/324 [==============================] - 1s 2ms/step - loss: 0.6733 - accuracy: 0.5998 - val_loss: 0.6669 - val_accuracy: 0.6457\n",
      "Epoch 121/1000\n",
      "324/324 [==============================] - 1s 2ms/step - loss: 0.6713 - accuracy: 0.6113 - val_loss: 0.6665 - val_accuracy: 0.6457\n",
      "Epoch 122/1000\n",
      "324/324 [==============================] - 0s 2ms/step - loss: 0.6714 - accuracy: 0.6071 - val_loss: 0.6659 - val_accuracy: 0.6482\n",
      "Epoch 123/1000\n",
      "324/324 [==============================] - 1s 2ms/step - loss: 0.6697 - accuracy: 0.6118 - val_loss: 0.6652 - val_accuracy: 0.6534\n",
      "Epoch 124/1000\n",
      "324/324 [==============================] - 1s 2ms/step - loss: 0.6704 - accuracy: 0.6079 - val_loss: 0.6647 - val_accuracy: 0.6482\n",
      "Epoch 125/1000\n",
      "324/324 [==============================] - 1s 2ms/step - loss: 0.6684 - accuracy: 0.6097 - val_loss: 0.6641 - val_accuracy: 0.6552\n",
      "Epoch 126/1000\n",
      "324/324 [==============================] - 1s 2ms/step - loss: 0.6710 - accuracy: 0.6008 - val_loss: 0.6636 - val_accuracy: 0.6500\n",
      "Epoch 127/1000\n",
      "324/324 [==============================] - 0s 2ms/step - loss: 0.6698 - accuracy: 0.6067 - val_loss: 0.6632 - val_accuracy: 0.6457\n",
      "Epoch 128/1000\n",
      "324/324 [==============================] - 1s 2ms/step - loss: 0.6684 - accuracy: 0.6098 - val_loss: 0.6627 - val_accuracy: 0.6482\n",
      "Epoch 129/1000\n",
      "324/324 [==============================] - 0s 2ms/step - loss: 0.6688 - accuracy: 0.6128 - val_loss: 0.6622 - val_accuracy: 0.6457\n",
      "Epoch 130/1000\n",
      "324/324 [==============================] - 0s 2ms/step - loss: 0.6681 - accuracy: 0.6120 - val_loss: 0.6616 - val_accuracy: 0.6470\n",
      "Epoch 131/1000\n",
      "324/324 [==============================] - 1s 2ms/step - loss: 0.6675 - accuracy: 0.6142 - val_loss: 0.6612 - val_accuracy: 0.6459\n",
      "Epoch 132/1000\n",
      "324/324 [==============================] - 1s 2ms/step - loss: 0.6668 - accuracy: 0.6194 - val_loss: 0.6607 - val_accuracy: 0.6457\n",
      "Epoch 133/1000\n",
      "324/324 [==============================] - 1s 2ms/step - loss: 0.6670 - accuracy: 0.6141 - val_loss: 0.6602 - val_accuracy: 0.6448\n",
      "Epoch 134/1000\n",
      "324/324 [==============================] - 1s 2ms/step - loss: 0.6651 - accuracy: 0.6141 - val_loss: 0.6595 - val_accuracy: 0.6459\n",
      "Epoch 135/1000\n",
      "324/324 [==============================] - 1s 2ms/step - loss: 0.6655 - accuracy: 0.6143 - val_loss: 0.6589 - val_accuracy: 0.6468\n",
      "Epoch 136/1000\n",
      "324/324 [==============================] - 0s 2ms/step - loss: 0.6645 - accuracy: 0.6205 - val_loss: 0.6584 - val_accuracy: 0.6459\n",
      "Epoch 137/1000\n",
      "324/324 [==============================] - 1s 2ms/step - loss: 0.6651 - accuracy: 0.6148 - val_loss: 0.6580 - val_accuracy: 0.6466\n",
      "Epoch 138/1000\n",
      "324/324 [==============================] - 0s 2ms/step - loss: 0.6626 - accuracy: 0.6182 - val_loss: 0.6573 - val_accuracy: 0.6459\n",
      "Epoch 139/1000\n",
      "324/324 [==============================] - 0s 2ms/step - loss: 0.6649 - accuracy: 0.6148 - val_loss: 0.6568 - val_accuracy: 0.6475\n",
      "Epoch 140/1000\n",
      "324/324 [==============================] - 1s 2ms/step - loss: 0.6643 - accuracy: 0.6118 - val_loss: 0.6564 - val_accuracy: 0.6475\n",
      "Epoch 141/1000\n",
      "324/324 [==============================] - 0s 2ms/step - loss: 0.6630 - accuracy: 0.6160 - val_loss: 0.6558 - val_accuracy: 0.6457\n",
      "Epoch 142/1000\n",
      "324/324 [==============================] - 1s 2ms/step - loss: 0.6630 - accuracy: 0.6186 - val_loss: 0.6555 - val_accuracy: 0.6434\n",
      "Epoch 143/1000\n",
      "324/324 [==============================] - 0s 2ms/step - loss: 0.6624 - accuracy: 0.6161 - val_loss: 0.6547 - val_accuracy: 0.6470\n",
      "Epoch 144/1000\n",
      "324/324 [==============================] - 1s 2ms/step - loss: 0.6611 - accuracy: 0.6141 - val_loss: 0.6542 - val_accuracy: 0.6466\n",
      "Epoch 145/1000\n",
      "324/324 [==============================] - 1s 2ms/step - loss: 0.6623 - accuracy: 0.6186 - val_loss: 0.6537 - val_accuracy: 0.6459\n",
      "Epoch 146/1000\n",
      "324/324 [==============================] - 1s 2ms/step - loss: 0.6607 - accuracy: 0.6186 - val_loss: 0.6531 - val_accuracy: 0.6484\n",
      "Epoch 147/1000\n",
      "324/324 [==============================] - 1s 2ms/step - loss: 0.6620 - accuracy: 0.6135 - val_loss: 0.6527 - val_accuracy: 0.6457\n",
      "Epoch 148/1000\n",
      "324/324 [==============================] - 1s 2ms/step - loss: 0.6600 - accuracy: 0.6208 - val_loss: 0.6522 - val_accuracy: 0.6455\n",
      "Epoch 149/1000\n",
      "324/324 [==============================] - 1s 2ms/step - loss: 0.6600 - accuracy: 0.6212 - val_loss: 0.6515 - val_accuracy: 0.6477\n",
      "Epoch 150/1000\n",
      "324/324 [==============================] - 1s 2ms/step - loss: 0.6618 - accuracy: 0.6198 - val_loss: 0.6510 - val_accuracy: 0.6486\n",
      "Epoch 151/1000\n",
      "324/324 [==============================] - 1s 2ms/step - loss: 0.6617 - accuracy: 0.6143 - val_loss: 0.6507 - val_accuracy: 0.6473\n",
      "Epoch 152/1000\n",
      "324/324 [==============================] - 1s 2ms/step - loss: 0.6612 - accuracy: 0.6175 - val_loss: 0.6502 - val_accuracy: 0.6466\n",
      "Epoch 153/1000\n",
      "324/324 [==============================] - 0s 2ms/step - loss: 0.6582 - accuracy: 0.6251 - val_loss: 0.6496 - val_accuracy: 0.6473\n",
      "Epoch 154/1000\n",
      "324/324 [==============================] - 1s 2ms/step - loss: 0.6584 - accuracy: 0.6212 - val_loss: 0.6493 - val_accuracy: 0.6459\n",
      "Epoch 155/1000\n",
      "324/324 [==============================] - 1s 2ms/step - loss: 0.6581 - accuracy: 0.6185 - val_loss: 0.6487 - val_accuracy: 0.6484\n",
      "Epoch 156/1000\n",
      "324/324 [==============================] - 1s 2ms/step - loss: 0.6571 - accuracy: 0.6179 - val_loss: 0.6483 - val_accuracy: 0.6457\n",
      "Epoch 157/1000\n",
      "324/324 [==============================] - 0s 2ms/step - loss: 0.6590 - accuracy: 0.6149 - val_loss: 0.6479 - val_accuracy: 0.6464\n",
      "Epoch 158/1000\n",
      "324/324 [==============================] - 0s 2ms/step - loss: 0.6567 - accuracy: 0.6249 - val_loss: 0.6475 - val_accuracy: 0.6457\n",
      "Epoch 159/1000\n",
      "324/324 [==============================] - 1s 2ms/step - loss: 0.6574 - accuracy: 0.6202 - val_loss: 0.6471 - val_accuracy: 0.6473\n",
      "Epoch 160/1000\n",
      "324/324 [==============================] - 1s 2ms/step - loss: 0.6573 - accuracy: 0.6134 - val_loss: 0.6466 - val_accuracy: 0.6473\n",
      "Epoch 161/1000\n",
      "324/324 [==============================] - 1s 2ms/step - loss: 0.6553 - accuracy: 0.6250 - val_loss: 0.6462 - val_accuracy: 0.6468\n",
      "Epoch 162/1000\n",
      "324/324 [==============================] - 1s 2ms/step - loss: 0.6549 - accuracy: 0.6272 - val_loss: 0.6457 - val_accuracy: 0.6461\n",
      "Epoch 163/1000\n",
      "324/324 [==============================] - 1s 2ms/step - loss: 0.6572 - accuracy: 0.6203 - val_loss: 0.6454 - val_accuracy: 0.6468\n",
      "Epoch 164/1000\n",
      "324/324 [==============================] - 0s 2ms/step - loss: 0.6568 - accuracy: 0.6164 - val_loss: 0.6451 - val_accuracy: 0.6461\n",
      "Epoch 165/1000\n",
      "324/324 [==============================] - 0s 2ms/step - loss: 0.6545 - accuracy: 0.6256 - val_loss: 0.6447 - val_accuracy: 0.6470\n",
      "Epoch 166/1000\n",
      "324/324 [==============================] - 1s 2ms/step - loss: 0.6544 - accuracy: 0.6253 - val_loss: 0.6443 - val_accuracy: 0.6459\n",
      "Epoch 167/1000\n",
      "324/324 [==============================] - 0s 2ms/step - loss: 0.6567 - accuracy: 0.6156 - val_loss: 0.6440 - val_accuracy: 0.6468\n",
      "Epoch 168/1000\n",
      "324/324 [==============================] - 0s 2ms/step - loss: 0.6537 - accuracy: 0.6245 - val_loss: 0.6437 - val_accuracy: 0.6464\n",
      "Epoch 169/1000\n",
      "324/324 [==============================] - 1s 2ms/step - loss: 0.6546 - accuracy: 0.6221 - val_loss: 0.6433 - val_accuracy: 0.6484\n",
      "Epoch 170/1000\n",
      "324/324 [==============================] - 0s 2ms/step - loss: 0.6559 - accuracy: 0.6215 - val_loss: 0.6431 - val_accuracy: 0.6459\n",
      "Epoch 171/1000\n",
      "324/324 [==============================] - 0s 2ms/step - loss: 0.6534 - accuracy: 0.6218 - val_loss: 0.6427 - val_accuracy: 0.6459\n",
      "Epoch 172/1000\n",
      "324/324 [==============================] - 1s 2ms/step - loss: 0.6540 - accuracy: 0.6182 - val_loss: 0.6424 - val_accuracy: 0.6459\n",
      "Epoch 173/1000\n",
      "324/324 [==============================] - 1s 2ms/step - loss: 0.6527 - accuracy: 0.6280 - val_loss: 0.6422 - val_accuracy: 0.6457\n",
      "Epoch 174/1000\n",
      "324/324 [==============================] - 1s 2ms/step - loss: 0.6528 - accuracy: 0.6235 - val_loss: 0.6418 - val_accuracy: 0.6457\n",
      "Epoch 175/1000\n",
      "324/324 [==============================] - 0s 2ms/step - loss: 0.6528 - accuracy: 0.6247 - val_loss: 0.6415 - val_accuracy: 0.6473\n",
      "Epoch 176/1000\n",
      "324/324 [==============================] - 1s 2ms/step - loss: 0.6526 - accuracy: 0.6248 - val_loss: 0.6412 - val_accuracy: 0.6479\n",
      "Epoch 177/1000\n",
      "324/324 [==============================] - 0s 2ms/step - loss: 0.6498 - accuracy: 0.6283 - val_loss: 0.6409 - val_accuracy: 0.6477\n",
      "Epoch 178/1000\n",
      "324/324 [==============================] - 1s 2ms/step - loss: 0.6517 - accuracy: 0.6255 - val_loss: 0.6406 - val_accuracy: 0.6477\n",
      "Epoch 179/1000\n",
      "324/324 [==============================] - 1s 2ms/step - loss: 0.6526 - accuracy: 0.6241 - val_loss: 0.6403 - val_accuracy: 0.6482\n",
      "Epoch 180/1000\n",
      "324/324 [==============================] - 1s 2ms/step - loss: 0.6496 - accuracy: 0.6295 - val_loss: 0.6401 - val_accuracy: 0.6468\n",
      "Epoch 181/1000\n",
      "324/324 [==============================] - 1s 2ms/step - loss: 0.6527 - accuracy: 0.6208 - val_loss: 0.6399 - val_accuracy: 0.6470\n",
      "Epoch 182/1000\n",
      "324/324 [==============================] - 1s 2ms/step - loss: 0.6516 - accuracy: 0.6271 - val_loss: 0.6396 - val_accuracy: 0.6468\n",
      "Epoch 183/1000\n",
      "324/324 [==============================] - 1s 2ms/step - loss: 0.6497 - accuracy: 0.6286 - val_loss: 0.6393 - val_accuracy: 0.6482\n",
      "Epoch 184/1000\n",
      "324/324 [==============================] - 1s 2ms/step - loss: 0.6506 - accuracy: 0.6246 - val_loss: 0.6391 - val_accuracy: 0.6500\n",
      "Epoch 185/1000\n",
      "324/324 [==============================] - 1s 2ms/step - loss: 0.6496 - accuracy: 0.6298 - val_loss: 0.6389 - val_accuracy: 0.6459\n",
      "Epoch 186/1000\n",
      "324/324 [==============================] - 0s 2ms/step - loss: 0.6515 - accuracy: 0.6247 - val_loss: 0.6388 - val_accuracy: 0.6527\n",
      "Epoch 187/1000\n",
      "324/324 [==============================] - 1s 2ms/step - loss: 0.6508 - accuracy: 0.6275 - val_loss: 0.6385 - val_accuracy: 0.6457\n",
      "Epoch 188/1000\n",
      "324/324 [==============================] - 0s 2ms/step - loss: 0.6516 - accuracy: 0.6229 - val_loss: 0.6383 - val_accuracy: 0.6473\n",
      "Epoch 189/1000\n",
      "324/324 [==============================] - 1s 2ms/step - loss: 0.6507 - accuracy: 0.6219 - val_loss: 0.6382 - val_accuracy: 0.6461\n",
      "Epoch 190/1000\n",
      "324/324 [==============================] - 1s 2ms/step - loss: 0.6511 - accuracy: 0.6239 - val_loss: 0.6380 - val_accuracy: 0.6475\n",
      "Epoch 191/1000\n",
      "324/324 [==============================] - 1s 2ms/step - loss: 0.6509 - accuracy: 0.6233 - val_loss: 0.6378 - val_accuracy: 0.6473\n",
      "Epoch 192/1000\n",
      "324/324 [==============================] - 0s 2ms/step - loss: 0.6492 - accuracy: 0.6283 - val_loss: 0.6376 - val_accuracy: 0.6498\n",
      "Epoch 193/1000\n",
      "324/324 [==============================] - 0s 2ms/step - loss: 0.6493 - accuracy: 0.6275 - val_loss: 0.6374 - val_accuracy: 0.6475\n",
      "Epoch 194/1000\n",
      "324/324 [==============================] - 1s 2ms/step - loss: 0.6497 - accuracy: 0.6239 - val_loss: 0.6373 - val_accuracy: 0.6500\n",
      "Epoch 195/1000\n",
      "324/324 [==============================] - 1s 2ms/step - loss: 0.6509 - accuracy: 0.6267 - val_loss: 0.6372 - val_accuracy: 0.6475\n",
      "Epoch 196/1000\n",
      "324/324 [==============================] - 1s 2ms/step - loss: 0.6471 - accuracy: 0.6301 - val_loss: 0.6370 - val_accuracy: 0.6486\n",
      "Epoch 197/1000\n",
      "324/324 [==============================] - 1s 2ms/step - loss: 0.6492 - accuracy: 0.6239 - val_loss: 0.6368 - val_accuracy: 0.6484\n",
      "Epoch 198/1000\n",
      "324/324 [==============================] - 1s 2ms/step - loss: 0.6488 - accuracy: 0.6265 - val_loss: 0.6367 - val_accuracy: 0.6468\n",
      "Epoch 199/1000\n",
      "324/324 [==============================] - 1s 2ms/step - loss: 0.6489 - accuracy: 0.6291 - val_loss: 0.6365 - val_accuracy: 0.6468\n",
      "Epoch 200/1000\n",
      "324/324 [==============================] - 1s 2ms/step - loss: 0.6483 - accuracy: 0.6290 - val_loss: 0.6363 - val_accuracy: 0.6484\n",
      "Epoch 201/1000\n",
      "324/324 [==============================] - 0s 2ms/step - loss: 0.6468 - accuracy: 0.6282 - val_loss: 0.6361 - val_accuracy: 0.6498\n",
      "Epoch 202/1000\n",
      "324/324 [==============================] - 0s 2ms/step - loss: 0.6491 - accuracy: 0.6298 - val_loss: 0.6360 - val_accuracy: 0.6547\n",
      "Epoch 203/1000\n",
      "324/324 [==============================] - 1s 2ms/step - loss: 0.6481 - accuracy: 0.6273 - val_loss: 0.6359 - val_accuracy: 0.6459\n",
      "Epoch 204/1000\n",
      "324/324 [==============================] - 1s 2ms/step - loss: 0.6485 - accuracy: 0.6307 - val_loss: 0.6357 - val_accuracy: 0.6502\n",
      "Epoch 205/1000\n",
      "324/324 [==============================] - 0s 2ms/step - loss: 0.6467 - accuracy: 0.6278 - val_loss: 0.6356 - val_accuracy: 0.6468\n",
      "Epoch 206/1000\n",
      "324/324 [==============================] - 1s 2ms/step - loss: 0.6464 - accuracy: 0.6301 - val_loss: 0.6355 - val_accuracy: 0.6556\n",
      "Epoch 207/1000\n",
      "324/324 [==============================] - 1s 2ms/step - loss: 0.6479 - accuracy: 0.6256 - val_loss: 0.6353 - val_accuracy: 0.6531\n",
      "Epoch 208/1000\n",
      "324/324 [==============================] - 0s 2ms/step - loss: 0.6459 - accuracy: 0.6314 - val_loss: 0.6351 - val_accuracy: 0.6461\n",
      "Epoch 209/1000\n",
      "324/324 [==============================] - 0s 2ms/step - loss: 0.6470 - accuracy: 0.6288 - val_loss: 0.6350 - val_accuracy: 0.6534\n",
      "Epoch 210/1000\n",
      "324/324 [==============================] - 1s 2ms/step - loss: 0.6476 - accuracy: 0.6285 - val_loss: 0.6349 - val_accuracy: 0.6538\n",
      "Epoch 211/1000\n",
      "324/324 [==============================] - 0s 2ms/step - loss: 0.6462 - accuracy: 0.6292 - val_loss: 0.6347 - val_accuracy: 0.6473\n",
      "Epoch 212/1000\n",
      "324/324 [==============================] - 1s 2ms/step - loss: 0.6458 - accuracy: 0.6304 - val_loss: 0.6345 - val_accuracy: 0.6475\n",
      "Epoch 213/1000\n",
      "324/324 [==============================] - 0s 2ms/step - loss: 0.6467 - accuracy: 0.6278 - val_loss: 0.6345 - val_accuracy: 0.6552\n",
      "Epoch 214/1000\n",
      "324/324 [==============================] - 0s 2ms/step - loss: 0.6452 - accuracy: 0.6325 - val_loss: 0.6343 - val_accuracy: 0.6484\n",
      "Epoch 215/1000\n",
      "324/324 [==============================] - 0s 2ms/step - loss: 0.6470 - accuracy: 0.6325 - val_loss: 0.6342 - val_accuracy: 0.6500\n",
      "Epoch 216/1000\n",
      "324/324 [==============================] - 1s 2ms/step - loss: 0.6477 - accuracy: 0.6304 - val_loss: 0.6342 - val_accuracy: 0.6534\n",
      "Epoch 217/1000\n",
      "324/324 [==============================] - 0s 2ms/step - loss: 0.6471 - accuracy: 0.6316 - val_loss: 0.6342 - val_accuracy: 0.6581\n",
      "Epoch 218/1000\n",
      "324/324 [==============================] - 1s 2ms/step - loss: 0.6461 - accuracy: 0.6293 - val_loss: 0.6340 - val_accuracy: 0.6498\n",
      "Epoch 219/1000\n",
      "324/324 [==============================] - 1s 2ms/step - loss: 0.6479 - accuracy: 0.6331 - val_loss: 0.6340 - val_accuracy: 0.6531\n",
      "Epoch 220/1000\n",
      "324/324 [==============================] - 1s 2ms/step - loss: 0.6452 - accuracy: 0.6328 - val_loss: 0.6339 - val_accuracy: 0.6538\n",
      "Epoch 221/1000\n",
      "324/324 [==============================] - 0s 2ms/step - loss: 0.6455 - accuracy: 0.6326 - val_loss: 0.6338 - val_accuracy: 0.6473\n",
      "Epoch 222/1000\n",
      "324/324 [==============================] - 0s 2ms/step - loss: 0.6467 - accuracy: 0.6305 - val_loss: 0.6337 - val_accuracy: 0.6511\n",
      "Epoch 223/1000\n",
      "324/324 [==============================] - 1s 2ms/step - loss: 0.6441 - accuracy: 0.6355 - val_loss: 0.6336 - val_accuracy: 0.6534\n",
      "Epoch 224/1000\n",
      "324/324 [==============================] - 1s 2ms/step - loss: 0.6446 - accuracy: 0.6350 - val_loss: 0.6335 - val_accuracy: 0.6529\n",
      "Epoch 225/1000\n"
     ]
    },
    {
     "name": "stdout",
     "output_type": "stream",
     "text": [
      "324/324 [==============================] - 1s 2ms/step - loss: 0.6454 - accuracy: 0.6311 - val_loss: 0.6334 - val_accuracy: 0.6531\n",
      "Epoch 226/1000\n",
      "324/324 [==============================] - 1s 2ms/step - loss: 0.6444 - accuracy: 0.6327 - val_loss: 0.6333 - val_accuracy: 0.6547\n",
      "Epoch 227/1000\n",
      "324/324 [==============================] - 0s 2ms/step - loss: 0.6454 - accuracy: 0.6300 - val_loss: 0.6333 - val_accuracy: 0.6572\n",
      "Epoch 228/1000\n",
      "324/324 [==============================] - 0s 2ms/step - loss: 0.6464 - accuracy: 0.6307 - val_loss: 0.6333 - val_accuracy: 0.6583\n",
      "Epoch 229/1000\n",
      "324/324 [==============================] - 0s 2ms/step - loss: 0.6460 - accuracy: 0.6324 - val_loss: 0.6332 - val_accuracy: 0.6540\n",
      "Epoch 230/1000\n",
      "324/324 [==============================] - 0s 2ms/step - loss: 0.6447 - accuracy: 0.6378 - val_loss: 0.6331 - val_accuracy: 0.6574\n",
      "Epoch 231/1000\n",
      "324/324 [==============================] - 0s 2ms/step - loss: 0.6449 - accuracy: 0.6382 - val_loss: 0.6331 - val_accuracy: 0.6583\n",
      "Epoch 232/1000\n",
      "324/324 [==============================] - 1s 2ms/step - loss: 0.6432 - accuracy: 0.6370 - val_loss: 0.6329 - val_accuracy: 0.6574\n",
      "Epoch 233/1000\n",
      "324/324 [==============================] - 0s 2ms/step - loss: 0.6454 - accuracy: 0.6335 - val_loss: 0.6328 - val_accuracy: 0.6554\n",
      "Epoch 234/1000\n",
      "324/324 [==============================] - 1s 2ms/step - loss: 0.6438 - accuracy: 0.6373 - val_loss: 0.6327 - val_accuracy: 0.6484\n",
      "Epoch 235/1000\n",
      "324/324 [==============================] - 0s 2ms/step - loss: 0.6432 - accuracy: 0.6366 - val_loss: 0.6327 - val_accuracy: 0.6574\n",
      "Epoch 236/1000\n",
      "324/324 [==============================] - 1s 2ms/step - loss: 0.6444 - accuracy: 0.6355 - val_loss: 0.6326 - val_accuracy: 0.6554\n",
      "Epoch 237/1000\n",
      "324/324 [==============================] - 0s 2ms/step - loss: 0.6462 - accuracy: 0.6321 - val_loss: 0.6325 - val_accuracy: 0.6538\n",
      "Epoch 238/1000\n",
      "324/324 [==============================] - 1s 2ms/step - loss: 0.6424 - accuracy: 0.6347 - val_loss: 0.6324 - val_accuracy: 0.6552\n",
      "Epoch 239/1000\n",
      "324/324 [==============================] - 0s 2ms/step - loss: 0.6428 - accuracy: 0.6388 - val_loss: 0.6324 - val_accuracy: 0.6583\n",
      "Epoch 240/1000\n",
      "324/324 [==============================] - 0s 2ms/step - loss: 0.6443 - accuracy: 0.6336 - val_loss: 0.6325 - val_accuracy: 0.6588\n",
      "Epoch 241/1000\n",
      "324/324 [==============================] - 1s 2ms/step - loss: 0.6450 - accuracy: 0.6365 - val_loss: 0.6324 - val_accuracy: 0.6583\n",
      "Epoch 242/1000\n",
      "324/324 [==============================] - 1s 2ms/step - loss: 0.6440 - accuracy: 0.6370 - val_loss: 0.6323 - val_accuracy: 0.6567\n",
      "Epoch 243/1000\n",
      "324/324 [==============================] - 1s 2ms/step - loss: 0.6439 - accuracy: 0.6338 - val_loss: 0.6322 - val_accuracy: 0.6554\n",
      "Epoch 244/1000\n",
      "324/324 [==============================] - 0s 2ms/step - loss: 0.6438 - accuracy: 0.6347 - val_loss: 0.6322 - val_accuracy: 0.6554\n",
      "Epoch 245/1000\n",
      "324/324 [==============================] - 1s 2ms/step - loss: 0.6457 - accuracy: 0.6344 - val_loss: 0.6322 - val_accuracy: 0.6567\n",
      "Epoch 246/1000\n",
      "324/324 [==============================] - 1s 2ms/step - loss: 0.6443 - accuracy: 0.6334 - val_loss: 0.6321 - val_accuracy: 0.6567\n",
      "Epoch 247/1000\n",
      "324/324 [==============================] - 0s 2ms/step - loss: 0.6443 - accuracy: 0.6362 - val_loss: 0.6321 - val_accuracy: 0.6547\n",
      "Epoch 248/1000\n",
      "324/324 [==============================] - 0s 2ms/step - loss: 0.6425 - accuracy: 0.6387 - val_loss: 0.6320 - val_accuracy: 0.6579\n",
      "Epoch 249/1000\n",
      "324/324 [==============================] - 1s 2ms/step - loss: 0.6442 - accuracy: 0.6402 - val_loss: 0.6321 - val_accuracy: 0.6583\n",
      "Epoch 250/1000\n",
      "324/324 [==============================] - 0s 2ms/step - loss: 0.6442 - accuracy: 0.6381 - val_loss: 0.6320 - val_accuracy: 0.6588\n",
      "Epoch 251/1000\n",
      "324/324 [==============================] - 1s 2ms/step - loss: 0.6431 - accuracy: 0.6336 - val_loss: 0.6319 - val_accuracy: 0.6572\n",
      "Epoch 252/1000\n",
      "324/324 [==============================] - 0s 2ms/step - loss: 0.6431 - accuracy: 0.6384 - val_loss: 0.6319 - val_accuracy: 0.6570\n",
      "Epoch 253/1000\n",
      "324/324 [==============================] - 0s 2ms/step - loss: 0.6434 - accuracy: 0.6352 - val_loss: 0.6318 - val_accuracy: 0.6579\n",
      "Epoch 254/1000\n",
      "324/324 [==============================] - 1s 2ms/step - loss: 0.6440 - accuracy: 0.6326 - val_loss: 0.6317 - val_accuracy: 0.6579\n",
      "Epoch 255/1000\n",
      "324/324 [==============================] - 1s 2ms/step - loss: 0.6418 - accuracy: 0.6314 - val_loss: 0.6317 - val_accuracy: 0.6583\n",
      "Epoch 256/1000\n",
      "324/324 [==============================] - 0s 2ms/step - loss: 0.6442 - accuracy: 0.6332 - val_loss: 0.6317 - val_accuracy: 0.6567\n",
      "Epoch 257/1000\n",
      "324/324 [==============================] - 0s 2ms/step - loss: 0.6437 - accuracy: 0.6339 - val_loss: 0.6317 - val_accuracy: 0.6572\n",
      "Epoch 258/1000\n",
      "324/324 [==============================] - 0s 2ms/step - loss: 0.6431 - accuracy: 0.6348 - val_loss: 0.6317 - val_accuracy: 0.6583\n",
      "Epoch 259/1000\n",
      "324/324 [==============================] - 1s 2ms/step - loss: 0.6454 - accuracy: 0.6336 - val_loss: 0.6316 - val_accuracy: 0.6581\n",
      "Epoch 260/1000\n",
      "324/324 [==============================] - 1s 2ms/step - loss: 0.6413 - accuracy: 0.6375 - val_loss: 0.6315 - val_accuracy: 0.6585\n",
      "Epoch 261/1000\n",
      "324/324 [==============================] - 0s 2ms/step - loss: 0.6416 - accuracy: 0.6381 - val_loss: 0.6314 - val_accuracy: 0.6581\n",
      "Epoch 262/1000\n",
      "324/324 [==============================] - 1s 2ms/step - loss: 0.6424 - accuracy: 0.6369 - val_loss: 0.6314 - val_accuracy: 0.6554\n",
      "Epoch 263/1000\n",
      "324/324 [==============================] - 1s 2ms/step - loss: 0.6438 - accuracy: 0.6342 - val_loss: 0.6314 - val_accuracy: 0.6579\n",
      "Epoch 264/1000\n",
      "324/324 [==============================] - 1s 2ms/step - loss: 0.6432 - accuracy: 0.6361 - val_loss: 0.6314 - val_accuracy: 0.6570\n",
      "Epoch 265/1000\n",
      "324/324 [==============================] - 0s 2ms/step - loss: 0.6434 - accuracy: 0.6341 - val_loss: 0.6315 - val_accuracy: 0.6592\n",
      "Epoch 266/1000\n",
      "324/324 [==============================] - 0s 2ms/step - loss: 0.6414 - accuracy: 0.6360 - val_loss: 0.6313 - val_accuracy: 0.6585\n",
      "Epoch 267/1000\n",
      "324/324 [==============================] - 1s 2ms/step - loss: 0.6410 - accuracy: 0.6424 - val_loss: 0.6313 - val_accuracy: 0.6581\n",
      "Epoch 268/1000\n",
      "324/324 [==============================] - 1s 2ms/step - loss: 0.6420 - accuracy: 0.6349 - val_loss: 0.6312 - val_accuracy: 0.6583\n",
      "Epoch 269/1000\n",
      "324/324 [==============================] - 1s 2ms/step - loss: 0.6424 - accuracy: 0.6350 - val_loss: 0.6312 - val_accuracy: 0.6572\n",
      "Epoch 270/1000\n",
      "324/324 [==============================] - 1s 2ms/step - loss: 0.6442 - accuracy: 0.6311 - val_loss: 0.6313 - val_accuracy: 0.6592\n",
      "Epoch 271/1000\n",
      "324/324 [==============================] - 1s 2ms/step - loss: 0.6439 - accuracy: 0.6372 - val_loss: 0.6312 - val_accuracy: 0.6572\n",
      "Epoch 272/1000\n",
      "324/324 [==============================] - 1s 2ms/step - loss: 0.6424 - accuracy: 0.6392 - val_loss: 0.6312 - val_accuracy: 0.6592\n",
      "Epoch 273/1000\n",
      "324/324 [==============================] - 0s 2ms/step - loss: 0.6429 - accuracy: 0.6385 - val_loss: 0.6312 - val_accuracy: 0.6585\n",
      "Epoch 274/1000\n",
      "324/324 [==============================] - 0s 2ms/step - loss: 0.6422 - accuracy: 0.6398 - val_loss: 0.6312 - val_accuracy: 0.6579\n",
      "Epoch 275/1000\n",
      "324/324 [==============================] - 1s 2ms/step - loss: 0.6406 - accuracy: 0.6416 - val_loss: 0.6311 - val_accuracy: 0.6574\n",
      "Epoch 276/1000\n",
      "324/324 [==============================] - 0s 2ms/step - loss: 0.6432 - accuracy: 0.6364 - val_loss: 0.6312 - val_accuracy: 0.6585\n",
      "Epoch 277/1000\n",
      "324/324 [==============================] - 1s 2ms/step - loss: 0.6401 - accuracy: 0.6390 - val_loss: 0.6311 - val_accuracy: 0.6588\n",
      "Epoch 278/1000\n",
      "324/324 [==============================] - 0s 2ms/step - loss: 0.6401 - accuracy: 0.6413 - val_loss: 0.6310 - val_accuracy: 0.6570\n",
      "Epoch 279/1000\n",
      "324/324 [==============================] - 1s 2ms/step - loss: 0.6425 - accuracy: 0.6359 - val_loss: 0.6310 - val_accuracy: 0.6570\n",
      "Epoch 280/1000\n",
      "324/324 [==============================] - 0s 2ms/step - loss: 0.6450 - accuracy: 0.6360 - val_loss: 0.6310 - val_accuracy: 0.6574\n",
      "Epoch 281/1000\n",
      "324/324 [==============================] - 1s 2ms/step - loss: 0.6429 - accuracy: 0.6389 - val_loss: 0.6311 - val_accuracy: 0.6592\n",
      "Epoch 282/1000\n",
      "324/324 [==============================] - 1s 2ms/step - loss: 0.6423 - accuracy: 0.6374 - val_loss: 0.6310 - val_accuracy: 0.6572\n",
      "Epoch 283/1000\n",
      "324/324 [==============================] - 1s 2ms/step - loss: 0.6422 - accuracy: 0.6425 - val_loss: 0.6311 - val_accuracy: 0.6588\n",
      "Epoch 284/1000\n",
      "324/324 [==============================] - 1s 2ms/step - loss: 0.6420 - accuracy: 0.6368 - val_loss: 0.6310 - val_accuracy: 0.6588\n",
      "Epoch 285/1000\n",
      "324/324 [==============================] - 0s 2ms/step - loss: 0.6415 - accuracy: 0.6393 - val_loss: 0.6309 - val_accuracy: 0.6581\n",
      "Epoch 286/1000\n",
      "324/324 [==============================] - 0s 2ms/step - loss: 0.6430 - accuracy: 0.6387 - val_loss: 0.6310 - val_accuracy: 0.6592\n",
      "Epoch 287/1000\n",
      "324/324 [==============================] - 1s 2ms/step - loss: 0.6422 - accuracy: 0.6360 - val_loss: 0.6309 - val_accuracy: 0.6581\n",
      "Epoch 288/1000\n",
      "324/324 [==============================] - 1s 2ms/step - loss: 0.6403 - accuracy: 0.6399 - val_loss: 0.6309 - val_accuracy: 0.6579\n",
      "Epoch 289/1000\n",
      "324/324 [==============================] - 1s 2ms/step - loss: 0.6416 - accuracy: 0.6393 - val_loss: 0.6310 - val_accuracy: 0.6588\n",
      "Epoch 290/1000\n",
      "324/324 [==============================] - 1s 2ms/step - loss: 0.6425 - accuracy: 0.6383 - val_loss: 0.6309 - val_accuracy: 0.6588\n",
      "Epoch 291/1000\n",
      "324/324 [==============================] - 1s 2ms/step - loss: 0.6431 - accuracy: 0.6361 - val_loss: 0.6309 - val_accuracy: 0.6588\n",
      "Epoch 292/1000\n",
      "324/324 [==============================] - 1s 2ms/step - loss: 0.6414 - accuracy: 0.6360 - val_loss: 0.6311 - val_accuracy: 0.6599\n",
      "Epoch 293/1000\n",
      "324/324 [==============================] - 0s 2ms/step - loss: 0.6418 - accuracy: 0.6362 - val_loss: 0.6309 - val_accuracy: 0.6590\n",
      "Epoch 294/1000\n",
      "324/324 [==============================] - 0s 2ms/step - loss: 0.6408 - accuracy: 0.6400 - val_loss: 0.6308 - val_accuracy: 0.6565\n",
      "Epoch 295/1000\n",
      "324/324 [==============================] - 1s 2ms/step - loss: 0.6412 - accuracy: 0.6413 - val_loss: 0.6309 - val_accuracy: 0.6592\n",
      "Epoch 296/1000\n",
      "324/324 [==============================] - 0s 2ms/step - loss: 0.6408 - accuracy: 0.6382 - val_loss: 0.6308 - val_accuracy: 0.6592\n",
      "Epoch 297/1000\n",
      "324/324 [==============================] - 1s 2ms/step - loss: 0.6424 - accuracy: 0.6352 - val_loss: 0.6307 - val_accuracy: 0.6588\n",
      "Epoch 298/1000\n",
      "324/324 [==============================] - 1s 2ms/step - loss: 0.6425 - accuracy: 0.6377 - val_loss: 0.6308 - val_accuracy: 0.6588\n",
      "Epoch 299/1000\n",
      "324/324 [==============================] - 1s 2ms/step - loss: 0.6412 - accuracy: 0.6377 - val_loss: 0.6307 - val_accuracy: 0.6588\n",
      "Epoch 300/1000\n",
      "324/324 [==============================] - 0s 2ms/step - loss: 0.6404 - accuracy: 0.6391 - val_loss: 0.6308 - val_accuracy: 0.6604\n",
      "Epoch 301/1000\n",
      "324/324 [==============================] - 0s 2ms/step - loss: 0.6400 - accuracy: 0.6409 - val_loss: 0.6306 - val_accuracy: 0.6583\n",
      "Epoch 302/1000\n",
      "324/324 [==============================] - 1s 2ms/step - loss: 0.6412 - accuracy: 0.6389 - val_loss: 0.6306 - val_accuracy: 0.6585\n",
      "Epoch 303/1000\n",
      "324/324 [==============================] - 0s 2ms/step - loss: 0.6402 - accuracy: 0.6377 - val_loss: 0.6306 - val_accuracy: 0.6588\n",
      "Epoch 304/1000\n",
      "324/324 [==============================] - 1s 2ms/step - loss: 0.6403 - accuracy: 0.6394 - val_loss: 0.6305 - val_accuracy: 0.6592\n",
      "Epoch 305/1000\n",
      "324/324 [==============================] - 1s 2ms/step - loss: 0.6412 - accuracy: 0.6379 - val_loss: 0.6306 - val_accuracy: 0.6594\n",
      "Epoch 306/1000\n",
      "324/324 [==============================] - 1s 2ms/step - loss: 0.6416 - accuracy: 0.6394 - val_loss: 0.6306 - val_accuracy: 0.6583\n",
      "Epoch 307/1000\n",
      "324/324 [==============================] - 1s 2ms/step - loss: 0.6416 - accuracy: 0.6396 - val_loss: 0.6306 - val_accuracy: 0.6592\n",
      "Epoch 308/1000\n",
      "324/324 [==============================] - 1s 2ms/step - loss: 0.6406 - accuracy: 0.6382 - val_loss: 0.6306 - val_accuracy: 0.6594\n",
      "Epoch 309/1000\n",
      "324/324 [==============================] - 1s 2ms/step - loss: 0.6419 - accuracy: 0.6400 - val_loss: 0.6306 - val_accuracy: 0.6588\n",
      "Epoch 310/1000\n",
      "324/324 [==============================] - 1s 2ms/step - loss: 0.6410 - accuracy: 0.6402 - val_loss: 0.6305 - val_accuracy: 0.6585\n",
      "Epoch 311/1000\n",
      "324/324 [==============================] - 0s 2ms/step - loss: 0.6420 - accuracy: 0.6393 - val_loss: 0.6305 - val_accuracy: 0.6574\n",
      "Epoch 312/1000\n",
      "324/324 [==============================] - 1s 2ms/step - loss: 0.6410 - accuracy: 0.6411 - val_loss: 0.6305 - val_accuracy: 0.6588\n",
      "Epoch 313/1000\n",
      "324/324 [==============================] - 1s 2ms/step - loss: 0.6421 - accuracy: 0.6418 - val_loss: 0.6305 - val_accuracy: 0.6570\n",
      "Epoch 314/1000\n",
      "324/324 [==============================] - 0s 2ms/step - loss: 0.6416 - accuracy: 0.6385 - val_loss: 0.6305 - val_accuracy: 0.6588\n",
      "Epoch 315/1000\n",
      "324/324 [==============================] - 0s 2ms/step - loss: 0.6404 - accuracy: 0.6394 - val_loss: 0.6305 - val_accuracy: 0.6592\n",
      "Epoch 316/1000\n",
      "324/324 [==============================] - 1s 2ms/step - loss: 0.6420 - accuracy: 0.6413 - val_loss: 0.6307 - val_accuracy: 0.6576\n",
      "Epoch 317/1000\n",
      "324/324 [==============================] - 1s 2ms/step - loss: 0.6401 - accuracy: 0.6423 - val_loss: 0.6305 - val_accuracy: 0.6588\n",
      "Epoch 318/1000\n",
      "324/324 [==============================] - 1s 2ms/step - loss: 0.6408 - accuracy: 0.6431 - val_loss: 0.6305 - val_accuracy: 0.6594\n",
      "Epoch 319/1000\n",
      "324/324 [==============================] - 1s 2ms/step - loss: 0.6412 - accuracy: 0.6395 - val_loss: 0.6305 - val_accuracy: 0.6592\n",
      "Epoch 320/1000\n",
      "324/324 [==============================] - 0s 2ms/step - loss: 0.6409 - accuracy: 0.6384 - val_loss: 0.6305 - val_accuracy: 0.6594\n",
      "Epoch 321/1000\n",
      "324/324 [==============================] - 1s 2ms/step - loss: 0.6416 - accuracy: 0.6401 - val_loss: 0.6304 - val_accuracy: 0.6592\n",
      "Epoch 322/1000\n",
      "324/324 [==============================] - 0s 2ms/step - loss: 0.6407 - accuracy: 0.6404 - val_loss: 0.6304 - val_accuracy: 0.6592\n",
      "Epoch 323/1000\n",
      "324/324 [==============================] - 1s 2ms/step - loss: 0.6408 - accuracy: 0.6401 - val_loss: 0.6304 - val_accuracy: 0.6594\n",
      "Epoch 324/1000\n",
      "324/324 [==============================] - 1s 2ms/step - loss: 0.6417 - accuracy: 0.6372 - val_loss: 0.6304 - val_accuracy: 0.6583\n",
      "Epoch 325/1000\n",
      "324/324 [==============================] - 0s 2ms/step - loss: 0.6413 - accuracy: 0.6393 - val_loss: 0.6304 - val_accuracy: 0.6588\n",
      "Epoch 326/1000\n",
      "324/324 [==============================] - 1s 2ms/step - loss: 0.6393 - accuracy: 0.6421 - val_loss: 0.6304 - val_accuracy: 0.6597\n",
      "Epoch 327/1000\n",
      "324/324 [==============================] - 1s 2ms/step - loss: 0.6407 - accuracy: 0.6393 - val_loss: 0.6305 - val_accuracy: 0.6590\n",
      "Epoch 328/1000\n",
      "324/324 [==============================] - 1s 2ms/step - loss: 0.6407 - accuracy: 0.6415 - val_loss: 0.6303 - val_accuracy: 0.6592\n",
      "Epoch 329/1000\n",
      "324/324 [==============================] - 1s 2ms/step - loss: 0.6426 - accuracy: 0.6357 - val_loss: 0.6304 - val_accuracy: 0.6597\n",
      "Epoch 330/1000\n",
      "324/324 [==============================] - 0s 2ms/step - loss: 0.6411 - accuracy: 0.6391 - val_loss: 0.6304 - val_accuracy: 0.6604\n",
      "Epoch 331/1000\n",
      "324/324 [==============================] - 0s 2ms/step - loss: 0.6421 - accuracy: 0.6409 - val_loss: 0.6305 - val_accuracy: 0.6592\n",
      "Epoch 332/1000\n",
      "324/324 [==============================] - 0s 2ms/step - loss: 0.6395 - accuracy: 0.6411 - val_loss: 0.6303 - val_accuracy: 0.6592\n",
      "Epoch 333/1000\n",
      "324/324 [==============================] - 1s 2ms/step - loss: 0.6400 - accuracy: 0.6415 - val_loss: 0.6303 - val_accuracy: 0.6579\n",
      "Epoch 334/1000\n",
      "324/324 [==============================] - 1s 2ms/step - loss: 0.6414 - accuracy: 0.6397 - val_loss: 0.6303 - val_accuracy: 0.6606\n",
      "Epoch 335/1000\n",
      "324/324 [==============================] - 1s 2ms/step - loss: 0.6404 - accuracy: 0.6408 - val_loss: 0.6303 - val_accuracy: 0.6594\n",
      "Epoch 336/1000\n",
      "324/324 [==============================] - 0s 2ms/step - loss: 0.6406 - accuracy: 0.6383 - val_loss: 0.6303 - val_accuracy: 0.6604\n",
      "Epoch 337/1000\n"
     ]
    },
    {
     "name": "stdout",
     "output_type": "stream",
     "text": [
      "324/324 [==============================] - 1s 2ms/step - loss: 0.6408 - accuracy: 0.6386 - val_loss: 0.6303 - val_accuracy: 0.6601\n",
      "Epoch 338/1000\n",
      "324/324 [==============================] - 0s 2ms/step - loss: 0.6391 - accuracy: 0.6406 - val_loss: 0.6302 - val_accuracy: 0.6599\n",
      "Epoch 339/1000\n",
      "324/324 [==============================] - 1s 2ms/step - loss: 0.6402 - accuracy: 0.6402 - val_loss: 0.6304 - val_accuracy: 0.6570\n",
      "Epoch 340/1000\n",
      "324/324 [==============================] - 1s 2ms/step - loss: 0.6412 - accuracy: 0.6399 - val_loss: 0.6303 - val_accuracy: 0.6604\n",
      "Epoch 341/1000\n",
      "324/324 [==============================] - 1s 2ms/step - loss: 0.6418 - accuracy: 0.6393 - val_loss: 0.6302 - val_accuracy: 0.6585\n",
      "Epoch 342/1000\n",
      "324/324 [==============================] - 0s 2ms/step - loss: 0.6406 - accuracy: 0.6400 - val_loss: 0.6303 - val_accuracy: 0.6601\n",
      "Epoch 343/1000\n",
      "324/324 [==============================] - 1s 2ms/step - loss: 0.6425 - accuracy: 0.6398 - val_loss: 0.6303 - val_accuracy: 0.6604\n",
      "Epoch 344/1000\n",
      "324/324 [==============================] - 0s 2ms/step - loss: 0.6423 - accuracy: 0.6409 - val_loss: 0.6303 - val_accuracy: 0.6604\n",
      "Epoch 345/1000\n",
      "324/324 [==============================] - 1s 2ms/step - loss: 0.6401 - accuracy: 0.6436 - val_loss: 0.6303 - val_accuracy: 0.6604\n",
      "Epoch 346/1000\n",
      "324/324 [==============================] - 0s 2ms/step - loss: 0.6407 - accuracy: 0.6394 - val_loss: 0.6303 - val_accuracy: 0.6604\n",
      "Epoch 347/1000\n",
      "324/324 [==============================] - 0s 2ms/step - loss: 0.6421 - accuracy: 0.6353 - val_loss: 0.6304 - val_accuracy: 0.6576\n",
      "Epoch 348/1000\n",
      "324/324 [==============================] - 1s 2ms/step - loss: 0.6408 - accuracy: 0.6433 - val_loss: 0.6303 - val_accuracy: 0.6604\n",
      "Epoch 349/1000\n",
      "324/324 [==============================] - 1s 2ms/step - loss: 0.6416 - accuracy: 0.6372 - val_loss: 0.6304 - val_accuracy: 0.6576\n",
      "Epoch 350/1000\n",
      "324/324 [==============================] - 1s 2ms/step - loss: 0.6417 - accuracy: 0.6372 - val_loss: 0.6305 - val_accuracy: 0.6563\n",
      "Epoch 351/1000\n",
      "324/324 [==============================] - 1s 2ms/step - loss: 0.6415 - accuracy: 0.6381 - val_loss: 0.6303 - val_accuracy: 0.6597\n",
      "Epoch 352/1000\n",
      "324/324 [==============================] - 0s 2ms/step - loss: 0.6414 - accuracy: 0.6394 - val_loss: 0.6303 - val_accuracy: 0.6592\n",
      "Epoch 353/1000\n",
      "324/324 [==============================] - 0s 2ms/step - loss: 0.6404 - accuracy: 0.6391 - val_loss: 0.6304 - val_accuracy: 0.6576\n",
      "Epoch 354/1000\n",
      "324/324 [==============================] - 1s 2ms/step - loss: 0.6400 - accuracy: 0.6407 - val_loss: 0.6304 - val_accuracy: 0.6563\n",
      "Epoch 355/1000\n",
      "324/324 [==============================] - 1s 2ms/step - loss: 0.6413 - accuracy: 0.6397 - val_loss: 0.6304 - val_accuracy: 0.6576\n",
      "Epoch 356/1000\n",
      "324/324 [==============================] - 1s 2ms/step - loss: 0.6398 - accuracy: 0.6409 - val_loss: 0.6304 - val_accuracy: 0.6565\n",
      "Epoch 357/1000\n",
      "324/324 [==============================] - 1s 2ms/step - loss: 0.6413 - accuracy: 0.6407 - val_loss: 0.6302 - val_accuracy: 0.6599\n",
      "Epoch 358/1000\n",
      "324/324 [==============================] - 1s 2ms/step - loss: 0.6405 - accuracy: 0.6416 - val_loss: 0.6303 - val_accuracy: 0.6581\n",
      "Epoch 359/1000\n",
      "324/324 [==============================] - 1s 2ms/step - loss: 0.6421 - accuracy: 0.6379 - val_loss: 0.6303 - val_accuracy: 0.6590\n",
      "Epoch 360/1000\n",
      "324/324 [==============================] - 0s 2ms/step - loss: 0.6426 - accuracy: 0.6385 - val_loss: 0.6302 - val_accuracy: 0.6592\n",
      "Epoch 361/1000\n",
      "324/324 [==============================] - 0s 2ms/step - loss: 0.6429 - accuracy: 0.6397 - val_loss: 0.6302 - val_accuracy: 0.6601\n",
      "Epoch 362/1000\n",
      "324/324 [==============================] - 1s 2ms/step - loss: 0.6413 - accuracy: 0.6424 - val_loss: 0.6304 - val_accuracy: 0.6561\n",
      "Epoch 363/1000\n",
      "324/324 [==============================] - 1s 2ms/step - loss: 0.6392 - accuracy: 0.6413 - val_loss: 0.6302 - val_accuracy: 0.6594\n",
      "Epoch 364/1000\n",
      "324/324 [==============================] - 0s 2ms/step - loss: 0.6409 - accuracy: 0.6419 - val_loss: 0.6302 - val_accuracy: 0.6597\n",
      "Epoch 365/1000\n",
      "324/324 [==============================] - 0s 2ms/step - loss: 0.6407 - accuracy: 0.6392 - val_loss: 0.6301 - val_accuracy: 0.6601\n",
      "Epoch 366/1000\n",
      "324/324 [==============================] - 1s 2ms/step - loss: 0.6413 - accuracy: 0.6395 - val_loss: 0.6303 - val_accuracy: 0.6565\n",
      "Epoch 367/1000\n",
      "324/324 [==============================] - 1s 2ms/step - loss: 0.6393 - accuracy: 0.6403 - val_loss: 0.6302 - val_accuracy: 0.6563\n",
      "Epoch 368/1000\n",
      "324/324 [==============================] - 1s 2ms/step - loss: 0.6396 - accuracy: 0.6402 - val_loss: 0.6301 - val_accuracy: 0.6604\n",
      "Epoch 369/1000\n",
      "324/324 [==============================] - 1s 2ms/step - loss: 0.6403 - accuracy: 0.6425 - val_loss: 0.6301 - val_accuracy: 0.6590\n",
      "Epoch 370/1000\n",
      "324/324 [==============================] - 1s 2ms/step - loss: 0.6403 - accuracy: 0.6418 - val_loss: 0.6301 - val_accuracy: 0.6588\n",
      "Epoch 371/1000\n",
      "324/324 [==============================] - 0s 2ms/step - loss: 0.6396 - accuracy: 0.6393 - val_loss: 0.6300 - val_accuracy: 0.6604\n",
      "Epoch 372/1000\n",
      "324/324 [==============================] - 1s 2ms/step - loss: 0.6394 - accuracy: 0.6429 - val_loss: 0.6300 - val_accuracy: 0.6599\n",
      "Epoch 373/1000\n",
      "324/324 [==============================] - 0s 2ms/step - loss: 0.6397 - accuracy: 0.6408 - val_loss: 0.6300 - val_accuracy: 0.6601\n",
      "Epoch 374/1000\n",
      "324/324 [==============================] - 1s 2ms/step - loss: 0.6407 - accuracy: 0.6397 - val_loss: 0.6300 - val_accuracy: 0.6588\n",
      "Epoch 375/1000\n",
      "324/324 [==============================] - 1s 2ms/step - loss: 0.6401 - accuracy: 0.6440 - val_loss: 0.6300 - val_accuracy: 0.6590\n",
      "Epoch 376/1000\n",
      "324/324 [==============================] - 1s 2ms/step - loss: 0.6414 - accuracy: 0.6419 - val_loss: 0.6301 - val_accuracy: 0.6588\n"
     ]
    }
   ],
   "source": [
    "bm_history_exp_1,bm_model_exp_1 = Dense_5_Drop_2(train_bm_exp_1,\n",
    "                              val_bm_exp_1,\n",
    "                              os.path.join(model_loc_exp, \n",
    "                                            'using_exp_1_method'),\n",
    "                              nc_bin_exp_1,\n",
    "                              loss,\n",
    "                              INITIAL_BIAS,\n",
    "                              1000,\n",
    "                              save_model=False,\n",
    "                              patience = 50\n",
    "                             )\n"
   ]
  },
  {
   "cell_type": "markdown",
   "metadata": {},
   "source": [
    "Note difference in models for lstm model I only returned history file but for binary classifer I retuned both the histrory file and model that allows for prediction. The advatange of each one is t"
   ]
  },
  {
   "cell_type": "code",
   "execution_count": 100,
   "metadata": {},
   "outputs": [
    {
     "data": {
      "text/plain": [
       "Text(0, 0.5, 'Loss')"
      ]
     },
     "execution_count": 100,
     "metadata": {},
     "output_type": "execute_result"
    },
    {
     "data": {
      "image/png": "[encoded data removed]",
      "text/plain": [
       "<Figure size 432x288 with 1 Axes>"
      ]
     },
     "metadata": {
      "needs_background": "light"
     },
     "output_type": "display_data"
    }
   ],
   "source": [
    "fig, ax = plt.subplots( nrows=1, ncols=1 )\n",
    "ax.plot(bm_history_exp_1.history['loss'], '-', color='black',label='loss')\n",
    "ax.plot(bm_history_exp_1.history['val_loss'],'-',color='red' ,label ='Validation loss')\n",
    "ax.legend()\n",
    "plt.xlabel('Epochs')\n",
    "plt.ylabel('Loss')\n",
    "# plt.title('Zero Initial Bias Last Layer')"
   ]
  },
  {
   "cell_type": "code",
   "execution_count": 101,
   "metadata": {},
   "outputs": [
    {
     "data": {
      "text/plain": [
       "Text(0, 0.5, 'Accuracy')"
      ]
     },
     "execution_count": 101,
     "metadata": {},
     "output_type": "execute_result"
    },
    {
     "data": {
      "image/png": "[encoded data removed]",
      "text/plain": [
       "<Figure size 432x288 with 1 Axes>"
      ]
     },
     "metadata": {
      "needs_background": "light"
     },
     "output_type": "display_data"
    }
   ],
   "source": [
    "fig, ax = plt.subplots( nrows=1, ncols=1 )\n",
    "ax.plot(bm_history_exp_1.history['accuracy'], '-*', color='black',label='Acc')\n",
    "ax.plot(bm_history_exp_1.history['val_accuracy'],'-o', color='red', label ='Validation Acc')\n",
    "ax.legend(loc='best')\n",
    "plt.xlabel('Epochs')\n",
    "plt.ylabel('Accuracy')\n",
    "# plt.title('Zero Initial Bias Last Layer')"
   ]
  },
  {
   "cell_type": "code",
   "execution_count": 103,
   "metadata": {},
   "outputs": [
    {
     "data": {
      "text/plain": [
       "Text(0.5, 0, 'Count')"
      ]
     },
     "execution_count": 103,
     "metadata": {},
     "output_type": "execute_result"
    },
    {
     "data": {
      "image/png": "[encoded data removed]",
      "text/plain": [
       "<Figure size 432x288 with 1 Axes>"
      ]
     },
     "metadata": {
      "needs_background": "light"
     },
     "output_type": "display_data"
    }
   ],
   "source": [
    "fig,ax = plt.subplots(1,1)\n",
    "ax.plot(bm_model_exp_1.predict(test_x_exp_1[0,:]), '*')\n",
    "# plt.title('Zero Initial Bias Last Layer')\n",
    "plt.ylabel('Predicted Y')\n",
    "plt.xlabel('Count')"
   ]
  },
  {
   "cell_type": "markdown",
   "metadata": {},
   "source": [
    "# Add ROC Curve"
   ]
  },
  {
   "cell_type": "code",
   "execution_count": null,
   "metadata": {},
   "outputs": [],
   "source": []
  }
 ],
 "metadata": {
  "kernelspec": {
   "display_name": "Python 3",
   "language": "python",
   "name": "python3"
  },
  "language_info": {
   "codemirror_mode": {
    "name": "ipython",
    "version": 3
   },
   "file_extension": ".py",
   "mimetype": "text/x-python",
   "name": "python",
   "nbconvert_exporter": "python",
   "pygments_lexer": "ipython3",
   "version": "3.6.9"
  }
 },
 "nbformat": 4,
 "nbformat_minor": 4
}
