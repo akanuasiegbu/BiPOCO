{
 "cells": [
  {
   "cell_type": "code",
   "execution_count": 1,
   "metadata": {},
   "outputs": [
    {
     "name": "stderr",
     "output_type": "stream",
     "text": [
      "Using TensorFlow backend.\n"
     ]
    }
   ],
   "source": [
    "import pandas as pd\n",
    "import cv2\n",
    "%matplotlib inline\n",
    "from matplotlib import pyplot as plt\n",
    "import matplotlib\n",
    "import tensorflow as tf\n",
    "# import tensorflow.compat.v1 as tf\n",
    "from tensorflow import keras\n",
    "import numpy as np\n",
    "from keras.preprocessing.sequence import pad_sequences\n",
    "import os\n",
    "import time\n",
    "from sklearn.preprocessing import MinMaxScaler\n",
    "from sklearn.model_selection import train_test_split\n",
    "from collections import OrderedDict\n",
    "# from tensorflow.python.ops import math_ops\n",
    "import tensorflow.keras.backend as kb\n",
    "from load_data import Files_Load, Boxes, test_split_norm_abnorm, norm_train_max_min\n",
    "from tensorflow_addons.utils.ensure_tf_install import _check_tf_version\n",
    "_check_tf_version()\n",
    "from tensorflow_addons import losses\n",
    "\n",
    "from sklearn.cluster import KMeans\n",
    "from Persistence1D.python.persistence1d import RunPersistence\n",
    "# Note that I needed to move unionfind file for some reason into current directory\n",
    "# Or I could have cd into where file was at and tried to use it \n"
   ]
  },
  {
   "cell_type": "code",
   "execution_count": 2,
   "metadata": {},
   "outputs": [],
   "source": [
    "from Persistence1D.python.persistence1d import RunPersistence\n",
    "# from persistence1d import RunPersistence"
   ]
  },
  {
   "cell_type": "code",
   "execution_count": 3,
   "metadata": {},
   "outputs": [
    {
     "name": "stdout",
     "output_type": "stream",
     "text": [
      "Num GPUs Available:  2\n"
     ]
    }
   ],
   "source": [
    "print(\"Num GPUs Available: \", len(tf.config.experimental.list_physical_devices('GPU')))\n"
   ]
  },
  {
   "cell_type": "code",
   "execution_count": 4,
   "metadata": {},
   "outputs": [
    {
     "data": {
      "text/plain": [
       "[PhysicalDevice(name='/physical_device:GPU:0', device_type='GPU'),\n",
       " PhysicalDevice(name='/physical_device:GPU:1', device_type='GPU')]"
      ]
     },
     "execution_count": 4,
     "metadata": {},
     "output_type": "execute_result"
    }
   ],
   "source": [
    "# tf.test.is_gpu_available()\n",
    "\n",
    "tf.config.list_physical_devices('GPU')"
   ]
  },
  {
   "cell_type": "code",
   "execution_count": 5,
   "metadata": {},
   "outputs": [],
   "source": [
    "# gpus = tf.config.experimental.list_physical_devices('GPU')\n",
    "# if gpus:\n",
    "#   # Restrict TensorFlow to only allocate 1GB of memory on the first GPU\n",
    "#   try:\n",
    "#     tf.config.experimental.set_virtual_device_configuration(\n",
    "#         gpus[0],\n",
    "#         [tf.config.experimental.VirtualDeviceConfiguration(memory_limit=5500)])\n",
    "#     logical_gpus = tf.config.experimental.list_logical_devices('GPU')\n",
    "#     print(len(gpus), \"Physical GPUs,\", len(logical_gpus), \"Logical GPUs\")\n",
    "#   except RuntimeError as e:\n",
    "#     # Virtual devices must be set before GPUs have been initialized\n",
    "#     print(e)"
   ]
  },
  {
   "cell_type": "code",
   "execution_count": 6,
   "metadata": {},
   "outputs": [
    {
     "name": "stdout",
     "output_type": "stream",
     "text": [
      "2 Physical GPUs, 2 Logical GPUs\n"
     ]
    }
   ],
   "source": [
    "gpus = tf.config.experimental.list_physical_devices('GPU')\n",
    "if gpus:\n",
    "  try:\n",
    "    # Currently, memory growth needs to be the same across GPUs\n",
    "    for gpu in gpus:\n",
    "      tf.config.experimental.set_memory_growth(gpu, True)\n",
    "    logical_gpus = tf.config.experimental.list_logical_devices('GPU')\n",
    "    print(len(gpus), \"Physical GPUs,\", len(logical_gpus), \"Logical GPUs\")\n",
    "  except RuntimeError as e:\n",
    "    # Memory growth must be set before GPUs have been initialized\n",
    "    print(e)"
   ]
  },
  {
   "cell_type": "code",
   "execution_count": 7,
   "metadata": {},
   "outputs": [
    {
     "name": "stdout",
     "output_type": "stream",
     "text": [
      "Num GPUs Available:  2\n"
     ]
    }
   ],
   "source": [
    "print(\"Num GPUs Available: \", len(tf.config.experimental.list_physical_devices('GPU')))\n"
   ]
  },
  {
   "cell_type": "markdown",
   "metadata": {},
   "source": [
    "# Load Data"
   ]
  },
  {
   "cell_type": "code",
   "execution_count": 32,
   "metadata": {},
   "outputs": [],
   "source": [
    "frames = 20\n",
    "startvid=0\n",
    "endvid=1\n",
    "\n",
    "train_file = \"/home/akanu/Dataset/Anomaly/Avenue_Dataset/bounding_box_tlbr/Txt_Data/Train_Box/\"\n",
    "test_file = \"/home/akanu/Dataset/Anomaly/Avenue_Dataset/bounding_box_tlbr/Txt_Data/Test_Box/\"\n",
    "\n",
    "loc_files_train, loc_files_test, box_train_txt, box_test_txt = Files_Load(train_file, test_file)\n",
    "\n",
    "traindict = Boxes(loc_files_train, box_train_txt, frames, pad ='pre')\n",
    "testdict = Boxes(loc_files_test[startvid:endvid], box_test_txt[startvid:endvid], frames, pad ='pre')\n",
    "abnormal_dict, normal_dict = test_split_norm_abnorm(testdict)\n",
    "\n",
    "# Normilize data\n",
    "max1 = traindict['x_ppl_box'].max()\n",
    "min1 = traindict['x_ppl_box'].min()\n",
    "xx,yy = norm_train_max_min(data_dict = traindict, max1=max1,min1=min1)\n",
    "xx_norm,yy_norm = norm_train_max_min(data_dict = normal_dict, max1=max1,min1=min1)\n",
    "xx_abnorm,yy_abnorm = norm_train_max_min(data_dict = abnormal_dict, max1=max1,min1=min1)\n",
    "\n",
    "\n",
    "\n"
   ]
  },
  {
   "cell_type": "code",
   "execution_count": 33,
   "metadata": {},
   "outputs": [],
   "source": [
    "BUFFER_SIZE = 10000\n",
    "BATCH_SIZE = 32\n",
    "xx_train, xx_val,yy_train,yy_val = train_test_split(xx,yy, test_size = 0.1)\n",
    "train_univariate = tf.data.Dataset.from_tensor_slices((xx_train,yy_train))\n",
    "train_univariate = train_univariate.cache().shuffle(BUFFER_SIZE).batch(BATCH_SIZE)\n",
    "val_univariate = tf.data.Dataset.from_tensor_slices((xx_val,yy_val))\n",
    "val_univariate = val_univariate.cache().shuffle(BUFFER_SIZE).batch(BATCH_SIZE)"
   ]
  },
  {
   "cell_type": "markdown",
   "metadata": {},
   "source": [
    "# Metrics"
   ]
  },
  {
   "cell_type": "code",
   "execution_count": 34,
   "metadata": {},
   "outputs": [],
   "source": [
    "def bb_intersection_over_union(y, x):\n",
    "    xA = kb.max((x[:,0:1],y[:,0:1]), axis=0,keepdims=True)\n",
    "    yA = kb.max((x[:,1:2],y[:,1:2]), axis=0,keepdims=True)\n",
    "    xB = kb.min((x[:,2:3],y[:,2:3]), axis=0,keepdims=True)\n",
    "    yB = kb.min((x[:,3:4],y[:,3:4]), axis=0,keepdims=True)\n",
    "\n",
    "    interArea1 = kb.max((kb.zeros_like(xB), (xB-xA) ), axis=0, keepdims=True)\n",
    "    interArea2 = kb.max((kb.zeros_like(xB), (yB-yA) ), axis=0, keepdims=True)\n",
    "    interArea = interArea1*interArea2\n",
    "    boxAArea = (x[:,2:3] - x[:,0:1]) * (x[:,3:4] - x[:,1:2])\n",
    "    boxBArea = (y[:,2:3] - y[:,0:1]) * (y[:,3:4] - y[:,1:2])\n",
    "\n",
    "    iou = interArea / (boxAArea + boxBArea - interArea)\n",
    "    iou_mean = -kb.mean(iou)\n",
    "    return iou_mean"
   ]
  },
  {
   "cell_type": "code",
   "execution_count": 35,
   "metadata": {},
   "outputs": [],
   "source": [
    "def bb_intersection_over_union_np(y, x, mean =False):\n",
    "    y = y.astype(float)\n",
    "    x = x.astype(float)\n",
    "    xA = np.max((x[:,0:1],y[:,0:1]), axis=0,keepdims=True)\n",
    "    yA = np.max((x[:,1:2],y[:,1:2]), axis=0,keepdims=True)\n",
    "    xB = np.min((x[:,2:3],y[:,2:3]), axis=0,keepdims=True)\n",
    "    yB = np.min((x[:,3:4],y[:,3:4]), axis=0,keepdims=True)\n",
    "\n",
    "    interArea1 = np.max((np.zeros_like(xB), (xB-xA ) ), axis=0, keepdims=True)\n",
    "    interArea2 = np.max((np.zeros_like(xB), (yB-yA) ), axis=0, keepdims=True)\n",
    "    interArea = interArea1*interArea2\n",
    "    boxAArea = (x[:,2:3] - x[:,0:1] ) * (x[:,3:4] - x[:,1:2] )\n",
    "    boxBArea = (y[:,2:3] - y[:,0:1] ) * (y[:,3:4] - y[:,1:2] )\n",
    "\n",
    "    iou = interArea / (boxAArea + boxBArea - interArea)\n",
    "    \n",
    "    if mean:\n",
    "        iou = -np.mean(iou)\n",
    "    return iou"
   ]
  },
  {
   "cell_type": "markdown",
   "metadata": {},
   "source": [
    "\n",
    "\n",
    "\n",
    "\n",
    "\n",
    "\n",
    "\n",
    "\n",
    "\n",
    "\n",
    "\n",
    "\n",
    "\n",
    "\n",
    "\n",
    "\n",
    "\n",
    "\n",
    "\n",
    "\n",
    "# LSTM 20 Frames"
   ]
  },
  {
   "cell_type": "code",
   "execution_count": 9,
   "metadata": {},
   "outputs": [
    {
     "name": "stdout",
     "output_type": "stream",
     "text": [
      "Epoch 1/100\n",
      "3902/3902 [==============================] - 86s 22ms/step - loss: 0.1385 - bb_intersection_over_union: 0.0000e+00 - val_loss: 0.1082 - val_bb_intersection_over_union: 0.0000e+00\n",
      "Epoch 2/100\n",
      "3902/3902 [==============================] - 84s 22ms/step - loss: 0.0704 - bb_intersection_over_union: 0.0000e+00 - val_loss: 0.0397 - val_bb_intersection_over_union: 0.0000e+00\n",
      "Epoch 3/100\n",
      "3902/3902 [==============================] - 84s 22ms/step - loss: 0.0275 - bb_intersection_over_union: 0.0000e+00 - val_loss: 0.0202 - val_bb_intersection_over_union: 0.0000e+00\n",
      "Epoch 4/100\n",
      "3902/3902 [==============================] - 85s 22ms/step - loss: 0.0178 - bb_intersection_over_union: -0.0032 - val_loss: 0.0169 - val_bb_intersection_over_union: -0.0184\n",
      "Epoch 5/100\n",
      "3902/3902 [==============================] - 84s 22ms/step - loss: 0.0158 - bb_intersection_over_union: -0.0294 - val_loss: 0.0131 - val_bb_intersection_over_union: -0.0319\n",
      "Epoch 6/100\n",
      "3902/3902 [==============================] - 84s 22ms/step - loss: 0.0068 - bb_intersection_over_union: -0.0525 - val_loss: 0.0029 - val_bb_intersection_over_union: -0.0811\n",
      "Epoch 7/100\n",
      "3902/3902 [==============================] - 84s 22ms/step - loss: 0.0021 - bb_intersection_over_union: -0.1276 - val_loss: 0.0016 - val_bb_intersection_over_union: -0.1729\n",
      "Epoch 8/100\n",
      "3902/3902 [==============================] - 84s 22ms/step - loss: 0.0013 - bb_intersection_over_union: -0.1879 - val_loss: 0.0011 - val_bb_intersection_over_union: -0.2075\n",
      "Epoch 9/100\n",
      "3902/3902 [==============================] - 84s 22ms/step - loss: 9.9629e-04 - bb_intersection_over_union: -0.2293 - val_loss: 9.3992e-04 - val_bb_intersection_over_union: -0.2490\n",
      "Epoch 10/100\n",
      "3902/3902 [==============================] - 84s 22ms/step - loss: 8.6275e-04 - bb_intersection_over_union: -0.2642 - val_loss: 8.4813e-04 - val_bb_intersection_over_union: -0.2774\n",
      "Epoch 11/100\n",
      "3902/3902 [==============================] - 84s 22ms/step - loss: 7.9405e-04 - bb_intersection_over_union: -0.2878 - val_loss: 7.9691e-04 - val_bb_intersection_over_union: -0.2947\n",
      "Epoch 12/100\n",
      "3902/3902 [==============================] - 84s 22ms/step - loss: 7.5140e-04 - bb_intersection_over_union: -0.3045 - val_loss: 7.6498e-04 - val_bb_intersection_over_union: -0.3059\n",
      "Epoch 13/100\n",
      "3902/3902 [==============================] - 84s 22ms/step - loss: 7.2038e-04 - bb_intersection_over_union: -0.3174 - val_loss: 7.3083e-04 - val_bb_intersection_over_union: -0.3259\n",
      "Epoch 14/100\n",
      "3902/3902 [==============================] - 83s 21ms/step - loss: 6.9486e-04 - bb_intersection_over_union: -0.3295 - val_loss: 7.0625e-04 - val_bb_intersection_over_union: -0.3386\n",
      "Epoch 15/100\n",
      "3902/3902 [==============================] - 85s 22ms/step - loss: 6.7169e-04 - bb_intersection_over_union: -0.3426 - val_loss: 6.8333e-04 - val_bb_intersection_over_union: -0.3495\n",
      "Epoch 16/100\n",
      "3902/3902 [==============================] - 86s 22ms/step - loss: 6.5322e-04 - bb_intersection_over_union: -0.3550 - val_loss: 6.6714e-04 - val_bb_intersection_over_union: -0.3600\n",
      "Epoch 17/100\n",
      "3902/3902 [==============================] - 86s 22ms/step - loss: 6.3964e-04 - bb_intersection_over_union: -0.3651 - val_loss: 6.5392e-04 - val_bb_intersection_over_union: -0.3720\n",
      "Epoch 18/100\n",
      "3902/3902 [==============================] - 86s 22ms/step - loss: 6.2821e-04 - bb_intersection_over_union: -0.3738 - val_loss: 6.4264e-04 - val_bb_intersection_over_union: -0.3801\n",
      "Epoch 19/100\n",
      "3902/3902 [==============================] - 84s 21ms/step - loss: 6.1825e-04 - bb_intersection_over_union: -0.3813 - val_loss: 6.3421e-04 - val_bb_intersection_over_union: -0.3866\n",
      "Epoch 20/100\n",
      "3902/3902 [==============================] - 85s 22ms/step - loss: 6.0949e-04 - bb_intersection_over_union: -0.3879 - val_loss: 6.2424e-04 - val_bb_intersection_over_union: -0.3910\n",
      "Epoch 21/100\n",
      "3902/3902 [==============================] - 85s 22ms/step - loss: 6.0135e-04 - bb_intersection_over_union: -0.3937 - val_loss: 6.1676e-04 - val_bb_intersection_over_union: -0.3961\n",
      "Epoch 22/100\n",
      "3902/3902 [==============================] - 85s 22ms/step - loss: 5.9372e-04 - bb_intersection_over_union: -0.3988 - val_loss: 6.0783e-04 - val_bb_intersection_over_union: -0.4023\n",
      "Epoch 23/100\n",
      "3902/3902 [==============================] - 83s 21ms/step - loss: 5.8659e-04 - bb_intersection_over_union: -0.4031 - val_loss: 6.0156e-04 - val_bb_intersection_over_union: -0.4085\n",
      "Epoch 24/100\n",
      "3902/3902 [==============================] - 85s 22ms/step - loss: 5.7989e-04 - bb_intersection_over_union: -0.4069 - val_loss: 5.9421e-04 - val_bb_intersection_over_union: -0.4065\n",
      "Epoch 25/100\n",
      "3902/3902 [==============================] - 86s 22ms/step - loss: 5.7314e-04 - bb_intersection_over_union: -0.4101 - val_loss: 5.8730e-04 - val_bb_intersection_over_union: -0.4151\n",
      "Epoch 26/100\n",
      "3902/3902 [==============================] - 86s 22ms/step - loss: 5.6694e-04 - bb_intersection_over_union: -0.4134 - val_loss: 5.8045e-04 - val_bb_intersection_over_union: -0.4202\n"
     ]
    }
   ],
   "source": [
    "with tf.device('/device:GPU:0'):\n",
    "    lstm_20 = keras.Sequential()\n",
    "    lstm_20.add(keras.layers.InputLayer(input_shape=xx.shape[-2:]))\n",
    "    lstm_20.add(keras.layers.LSTM(4,return_sequences =True ))\n",
    "    lstm_20.add(keras.layers.LSTM(3,return_sequences =True ))\n",
    "    lstm_20.add(keras.layers.LSTM(6,return_sequences =True ))\n",
    "    lstm_20.add(keras.layers.LSTM(4,return_sequences =True ))\n",
    "    lstm_20.add(keras.layers.LSTM(4,return_sequences =True ))\n",
    "    lstm_20.add(keras.layers.LSTM(4) )\n",
    "    lstm_20.add(keras.layers.Dense(4) )\n",
    "    opt = tf.keras.optimizers.Adam(learning_rate=8.726e-06)\n",
    "    checkpoint_cb = keras.callbacks.ModelCheckpoint(\"tlbr_20_5_arch.h5\", \n",
    "                                                       save_best_only = True)\n",
    "    early_stopping = tf.keras.callbacks.EarlyStopping(monitor='val_loss', min_delta=0.00005, patience=5)\n",
    "    lstm_20.compile(optimizer=opt, loss='mse', metrics=bb_intersection_over_union)\n",
    "    \n",
    "    lstm_20_history_1= lstm_20.fit(train_univariate,\n",
    "                               validation_data = val_univariate,\n",
    "                               epochs=100, \n",
    "                               callbacks = [early_stopping, checkpoint_cb])"
   ]
  },
  {
   "cell_type": "code",
   "execution_count": 10,
   "metadata": {},
   "outputs": [
    {
     "name": "stdout",
     "output_type": "stream",
     "text": [
      "Model: \"sequential\"\n",
      "_________________________________________________________________\n",
      "Layer (type)                 Output Shape              Param #   \n",
      "=================================================================\n",
      "lstm (LSTM)                  (None, 20, 4)             144       \n",
      "_________________________________________________________________\n",
      "lstm_1 (LSTM)                (None, 20, 3)             96        \n",
      "_________________________________________________________________\n",
      "lstm_2 (LSTM)                (None, 20, 6)             240       \n",
      "_________________________________________________________________\n",
      "lstm_3 (LSTM)                (None, 20, 4)             176       \n",
      "_________________________________________________________________\n",
      "lstm_4 (LSTM)                (None, 20, 4)             144       \n",
      "_________________________________________________________________\n",
      "lstm_5 (LSTM)                (None, 4)                 144       \n",
      "_________________________________________________________________\n",
      "dense (Dense)                (None, 4)                 20        \n",
      "=================================================================\n",
      "Total params: 964\n",
      "Trainable params: 964\n",
      "Non-trainable params: 0\n",
      "_________________________________________________________________\n"
     ]
    }
   ],
   "source": [
    "lstm_20.summary()"
   ]
  },
  {
   "cell_type": "code",
   "execution_count": 17,
   "metadata": {
    "collapsed": true
   },
   "outputs": [
    {
     "ename": "NameError",
     "evalue": "name 'lstm_20_history_1' is not defined",
     "output_type": "error",
     "traceback": [
      "\u001b[0;31m--------------------------------------------\u001b[0m",
      "\u001b[0;31mNameError\u001b[0m  Traceback (most recent call last)",
      "\u001b[0;32m<ipython-input-17-939f82ab57a8>\u001b[0m in \u001b[0;36m<module>\u001b[0;34m\u001b[0m\n\u001b[1;32m      1\u001b[0m \u001b[0mi\u001b[0m \u001b[0;34m=\u001b[0m\u001b[0;36m1\u001b[0m\u001b[0;34m\u001b[0m\u001b[0;34m\u001b[0m\u001b[0m\n\u001b[1;32m      2\u001b[0m \u001b[0mj\u001b[0m\u001b[0;34m=\u001b[0m\u001b[0;36m15\u001b[0m\u001b[0;34m\u001b[0m\u001b[0;34m\u001b[0m\u001b[0m\n\u001b[0;32m----> 3\u001b[0;31m \u001b[0mplt\u001b[0m\u001b[0;34m.\u001b[0m\u001b[0mplot\u001b[0m\u001b[0;34m(\u001b[0m\u001b[0mnp\u001b[0m\u001b[0;34m.\u001b[0m\u001b[0marange\u001b[0m\u001b[0;34m(\u001b[0m\u001b[0mi\u001b[0m\u001b[0;34m,\u001b[0m\u001b[0mj\u001b[0m\u001b[0;34m)\u001b[0m\u001b[0;34m,\u001b[0m \u001b[0mlstm_20_history_1\u001b[0m\u001b[0;34m.\u001b[0m\u001b[0mhistory\u001b[0m\u001b[0;34m[\u001b[0m\u001b[0;34m'loss'\u001b[0m\u001b[0;34m]\u001b[0m\u001b[0;34m[\u001b[0m\u001b[0mi\u001b[0m\u001b[0;34m:\u001b[0m\u001b[0mj\u001b[0m\u001b[0;34m]\u001b[0m\u001b[0;34m,\u001b[0m\u001b[0;34m'b+'\u001b[0m\u001b[0;34m,\u001b[0m \u001b[0mlabel\u001b[0m\u001b[0;34m=\u001b[0m\u001b[0;34m'loss'\u001b[0m\u001b[0;34m)\u001b[0m\u001b[0;34m\u001b[0m\u001b[0;34m\u001b[0m\u001b[0m\n\u001b[0m\u001b[1;32m      4\u001b[0m \u001b[0mplt\u001b[0m\u001b[0;34m.\u001b[0m\u001b[0mplot\u001b[0m\u001b[0;34m(\u001b[0m\u001b[0mnp\u001b[0m\u001b[0;34m.\u001b[0m\u001b[0marange\u001b[0m\u001b[0;34m(\u001b[0m\u001b[0mi\u001b[0m\u001b[0;34m,\u001b[0m\u001b[0mj\u001b[0m\u001b[0;34m)\u001b[0m\u001b[0;34m,\u001b[0m \u001b[0mlstm_20_history_1\u001b[0m\u001b[0;34m.\u001b[0m\u001b[0mhistory\u001b[0m\u001b[0;34m[\u001b[0m\u001b[0;34m'val_loss'\u001b[0m\u001b[0;34m]\u001b[0m\u001b[0;34m[\u001b[0m\u001b[0mi\u001b[0m\u001b[0;34m:\u001b[0m\u001b[0mj\u001b[0m\u001b[0;34m]\u001b[0m\u001b[0;34m,\u001b[0m\u001b[0;34m'r-+'\u001b[0m\u001b[0;34m,\u001b[0m \u001b[0mlabel\u001b[0m\u001b[0;34m=\u001b[0m\u001b[0;34m'val loss'\u001b[0m\u001b[0;34m)\u001b[0m\u001b[0;34m\u001b[0m\u001b[0;34m\u001b[0m\u001b[0m\n\u001b[1;32m      5\u001b[0m \u001b[0;34m\u001b[0m\u001b[0m\n",
      "\u001b[0;31mNameError\u001b[0m: name 'lstm_20_history_1' is not defined"
     ]
    }
   ],
   "source": [
    "i =1\n",
    "j=15\n",
    "plt.plot(np.arange(i,j), lstm_20_history_1.history['loss'][i:j],'b+', label='loss')\n",
    "plt.plot(np.arange(i,j), lstm_20_history_1.history['val_loss'][i:j],'r-+', label='val loss')\n",
    "\n",
    "plt.legend()\n",
    "plt.title('LSTM, 20 Frames')"
   ]
  },
  {
   "cell_type": "markdown",
   "metadata": {},
   "source": [
    "# Load Existing model"
   ]
  },
  {
   "cell_type": "code",
   "execution_count": 17,
   "metadata": {},
   "outputs": [],
   "source": [
    "#https://github.com/keras-team/keras/issues/5916\n",
    "model = tf.keras.models.load_model('tlbr_20_5_arch.h5', custom_objects = {'loss':'mse'} , compile=False)\n",
    "lstm_20 = model"
   ]
  },
  {
   "cell_type": "markdown",
   "metadata": {},
   "source": [
    "# Results creation"
   ]
  },
  {
   "cell_type": "code",
   "execution_count": 18,
   "metadata": {},
   "outputs": [],
   "source": [
    "def visual_ouput(model=None,max1 = None,min1=None, vid=None,pic_loc =None, output_dict=None,tlbr = True):\n",
    "    # Right now this only works for one video at a time\n",
    "    \n",
    "    xx,yy = norm_train_max_min(data_dict = output_dict, max1 = max1,min1 =min1)\n",
    "    size = len(output_dict['frame_ppl_id'])\n",
    "    \n",
    "    #sort index by frames\n",
    "    frame = []\n",
    "    for i in range(0,size):\n",
    "        #sort index by frames\n",
    "        frame.append(output_dict['frame_ppl_id'][i,-1,0])\n",
    "    \n",
    "    frame = np.array(frame)\n",
    "    sort_index = frame.argsort()\n",
    "    #Sorted from first to last frame\n",
    "    xx_scal, yy_scal = xx[sort_index], yy[sort_index]\n",
    "    vid_file = output_dict['video_file'][sort_index] # not really needed if using one video\n",
    "    frame_ppl = output_dict['frame_ppl_id'][sort_index]\n",
    "    y_true = output_dict['y_ppl_box'][sort_index] # not normailized\n",
    "    \n",
    "    # Note that predicted outout is already sorted\n",
    "    y_pred_scal = model.predict(xx_scal)\n",
    "    y_pred = norm_train_max_min(data=y_pred_scal, max1 = max1,min1 =min1,undo_norm=True)\n",
    "    \n",
    "\n",
    "    stop = frame[sort_index][-1] + 1\n",
    "    next_frame_index,j = 0,0\n",
    "    \n",
    "    #  Start Video\n",
    "    loc_videos =\"/home/akanu/Dataset/Anomaly/Avenue_Dataset/testing_videos/{:02}.avi\".format(vid)\n",
    "    video_capture = cv2.VideoCapture(loc_videos)\n",
    "\n",
    "    if not tlbr:\n",
    "        pass\n",
    "        # Need to call a fuction that changes to tlbw so I can plot correctly\n",
    "    for i in range(0,stop):\n",
    "        ret, frame = video_capture.read()\n",
    "        if i == frame_ppl[j,-1,0]: #finds the frame\n",
    "            while i == frame_ppl[j,-1,0]:\n",
    "                y_fr_act = y_true[j]\n",
    "                y_fr_pred = y_pred[j]\n",
    "                id1 = frame_ppl[j,-1,1]\n",
    "#                 print(\"{}  ,{}\".format(y_fr_act.shape, y_fr_pred.shape))\n",
    "\n",
    "                gt_frame = frame.copy()\n",
    "                pred_frame = frame.copy()\n",
    "                both_frame = frame.copy()\n",
    "\n",
    "    \n",
    "                # Ground Truth\n",
    "                cv2.rectangle(gt_frame, (int(y_fr_act[0]), int(y_fr_act[1])), (int(y_fr_act[2]), int(y_fr_act[3])),(0,255,0), 2)\n",
    "#                 cv2.putText(gt_frame, str(frame_ppl[j,-1,1]),(int(y_fr_act[0]), int(y_fr_act[1])),0, 5e-3 * 200, (255,255,0),2)\n",
    "                \n",
    "                # Predicted\n",
    "                cv2.rectangle(pred_frame, (int(y_fr_pred[0]), int(y_fr_pred[1])), (int(y_fr_pred[2]), int(y_fr_pred[3])),(0,255,255), 2)\n",
    "#                 cv2.putText(pred_frame, str(frame_ppl[j,-1,1]),(int(y_fr_pred[2]), int(y_fr_pred[3])),0, 5e-3 * 200, (255,255,0),2)\n",
    "                \n",
    "                # Combined frame\n",
    "                cv2.rectangle(both_frame, (int(y_fr_act[0]), int(y_fr_act[1])), (int(y_fr_act[2]), int(y_fr_act[3])),(0,255,0), 2)\n",
    "#                 cv2.putText(both_frame, str(frame_ppl[j,-1,1]),(int(y_fr_act[0]), int(y_fr_act[1])),0, 5e-3 * 200, (255,255,0),2)\n",
    "                cv2.rectangle(both_frame, (int(y_fr_pred[0]), int(y_fr_pred[1])), (int(y_fr_pred[2]), int(y_fr_pred[3])),(0,255,255), 2)\n",
    "#                 cv2.putText(both_frame, str(frame_ppl[j,-1,1]),(int(y_fr_pred[2]), int(y_fr_pred[3])),0, 5e-3 * 200, (255,255,0),2)\n",
    "                \n",
    "                \n",
    "                cv2.imwrite(pic_loc.format(vid,i,id1) + '_gt.jpg', gt_frame)\n",
    "                cv2.imwrite(pic_loc.format(vid,i,id1) + '_pred.jpg', pred_frame)\n",
    "                cv2.imwrite(pic_loc.format(vid,i,id1) + '_both.jpg', both_frame)\n",
    "\n",
    "\n",
    "\n",
    "                \n",
    "                next_frame_index +=1\n",
    "                j = next_frame_index\n",
    "#                 print('saved')\n",
    "#                 print(j)\n",
    "                if j == size:\n",
    "                    return"
   ]
  },
  {
   "cell_type": "markdown",
   "metadata": {},
   "source": [
    "# Create Saved Images"
   ]
  },
  {
   "cell_type": "code",
   "execution_count": null,
   "metadata": {},
   "outputs": [],
   "source": [
    "start = time.time()\n",
    "pic_loc = '/home/akanu/git/anomalous_pred/resulting_images/tlbr/test_norm/{:02d}_{:02d}_{}'\n",
    "visual_ouput(model=lstm_20,max1 = max1,min1=min1, vid=1, pic_loc =pic_loc, output_dict=normal_dict,tlbr = True)\n",
    "end = time.time()\n",
    "print(end-start)"
   ]
  },
  {
   "cell_type": "code",
   "execution_count": 19,
   "metadata": {},
   "outputs": [],
   "source": [
    "pic_loc = '/home/akanu/git/anomalous_pred/resulting_images/tlbr/test_abnorm/{:02d}_{:02d}_{}'\n",
    "visual_ouput(model=lstm_20,max1 = max1,min1=min1, vid=1, pic_loc =pic_loc, output_dict=abnormal_dict,tlbr = True)"
   ]
  },
  {
   "cell_type": "markdown",
   "metadata": {},
   "source": [
    "# Pedestrain"
   ]
  },
  {
   "cell_type": "code",
   "execution_count": 39,
   "metadata": {},
   "outputs": [],
   "source": [
    "def pedsort(datadict):\n",
    "    \n",
    "    ped = {}\n",
    "    \n",
    "    # For each pedestrain want to create a new key\n",
    "    per_id = np.unique(datadict['frame_ppl_id'][:,-1,1])\n",
    "    for i in per_id:\n",
    "        ped[str(i)] = {}\n",
    "        index = np.where(datadict['frame_ppl_id'][:,-1,1] == i)\n",
    "        index = index[0][np.argsort(index[0])]\n",
    "          \n",
    "        temp = {}\n",
    "        for key in datadict.keys():\n",
    "            temp[key] = datadict[key][index]\n",
    "            \n",
    "        ped[str(i)] = temp\n",
    "    return ped\n",
    "        \n",
    "    "
   ]
  },
  {
   "cell_type": "code",
   "execution_count": 40,
   "metadata": {},
   "outputs": [],
   "source": [
    "j ='1'\n",
    "ped = pedsort(testdict)\n",
    "x,y = norm_train_max_min(data_dict=ped[j], max1 = max1, min1=min1 )"
   ]
  },
  {
   "cell_type": "code",
   "execution_count": 41,
   "metadata": {},
   "outputs": [
    {
     "data": {
      "text/plain": [
       "dict_keys(['1', '2', '3', '4', '5', '7', '10', '12', '14', '15', '16', '17', '19', '20', '22', '24', '29', '31', '32', '34', '35', '37', '42', '45', '47', '50', '51', '53', '59', '60', '64', '65', '66', '67', '68', '70', '71', '75', '77', '79', '84', '85', '86', '87', '88', '91', '94', '95', '98', '99', '100', '101', '102', '104', '105', '107', '108', '109', '111', '112', '114'])"
      ]
     },
     "execution_count": 41,
     "metadata": {},
     "output_type": "execute_result"
    }
   ],
   "source": [
    "ped.keys()"
   ]
  },
  {
   "cell_type": "code",
   "execution_count": 44,
   "metadata": {},
   "outputs": [
    {
     "name": "stdout",
     "output_type": "stream",
     "text": [
      "0.6975419524265536\n"
     ]
    },
    {
     "data": {
      "image/png": "[encoded data removed]",
      "text/plain": [
       "<Figure size 432x288 with 1 Axes>"
      ]
     },
     "metadata": {
      "needs_background": "light"
     },
     "output_type": "display_data"
    }
   ],
   "source": [
    "out1 = lstm_20.predict(x)\n",
    "out = bb_intersection_over_union_np(out1,y)\n",
    "plt.plot(ped[j]['frame_ppl_id'][:,-1,0], np.squeeze(out),'*')\n",
    "plt.plot(ped[j]['frame_ppl_id'][:,-1,0], ped[j]['abnormal']*0.02 )\n",
    "plt.xlabel('Frame')\n",
    "plt.ylabel('IOU')\n",
    "print(np.mean(out))"
   ]
  },
  {
   "cell_type": "code",
   "execution_count": 46,
   "metadata": {},
   "outputs": [
    {
     "data": {
      "text/plain": [
       "(1, 1, 368, 1)"
      ]
     },
     "execution_count": 46,
     "metadata": {},
     "output_type": "execute_result"
    }
   ],
   "source": [
    "out.shape"
   ]
  },
  {
   "cell_type": "code",
   "execution_count": null,
   "metadata": {},
   "outputs": [],
   "source": []
  },
  {
   "cell_type": "code",
   "execution_count": 55,
   "metadata": {},
   "outputs": [],
   "source": [
    "ExtremaAndPersistence = RunPersistence(np.squeeze(out))\n"
   ]
  },
  {
   "cell_type": "code",
   "execution_count": 56,
   "metadata": {},
   "outputs": [],
   "source": [
    "Filtered = [t for t in ExtremaAndPersistence if t[1] > 3]\n"
   ]
  },
  {
   "cell_type": "code",
   "execution_count": 57,
   "metadata": {},
   "outputs": [],
   "source": [
    "Sorted = sorted(Filtered, key=lambda ExtremumAndPersistence: ExtremumAndPersistence[1])\n"
   ]
  },
  {
   "cell_type": "code",
   "execution_count": 58,
   "metadata": {},
   "outputs": [
    {
     "name": "stdout",
     "output_type": "stream",
     "text": [
      "0\n",
      "(367, inf)\n",
      "********************\n"
     ]
    }
   ],
   "source": [
    "for i, E in enumerate(Sorted):\n",
    "#     strType = \"Minimum\" if (i % 2 == 0) else \"Maximum\"\n",
    "#     print(\"%s at index %d with persistence %g and data value %g\" % (strType, E[0], E[1], InputData[E[0]]))\n",
    "    print(i)\n",
    "    print(E)\n",
    "    print(\"*\"*20)"
   ]
  },
  {
   "cell_type": "code",
   "execution_count": null,
   "metadata": {},
   "outputs": [],
   "source": []
  },
  {
   "cell_type": "code",
   "execution_count": null,
   "metadata": {},
   "outputs": [],
   "source": []
  },
  {
   "cell_type": "code",
   "execution_count": 18,
   "metadata": {},
   "outputs": [],
   "source": [
    "iou_sum = []\n",
    "for j in ped.keys():\n",
    "    x,y = norm_train_max_min(data_dict=ped[j], max1 = max1, min1=min1 )\n",
    "    out1 = lstm_20.predict(x)\n",
    "    out = bb_intersection_over_union_np(out1,y)\n",
    "    iou_sum.append([np.mean(out), np.any(ped[j]['abnormal']) ])\n",
    "iou_sum = np.array(iou_sum)"
   ]
  },
  {
   "cell_type": "code",
   "execution_count": 19,
   "metadata": {},
   "outputs": [
    {
     "data": {
      "text/plain": [
       "0.21909486332635988"
      ]
     },
     "execution_count": 19,
     "metadata": {},
     "output_type": "execute_result"
    }
   ],
   "source": [
    "np.mean(iou_sum[:,0])"
   ]
  },
  {
   "cell_type": "code",
   "execution_count": 20,
   "metadata": {},
   "outputs": [
    {
     "data": {
      "text/plain": [
       "array([[6.97541952e-01, 0.00000000e+00],\n",
       "       [0.00000000e+00, 0.00000000e+00],\n",
       "       [7.15556017e-01, 0.00000000e+00],\n",
       "       [6.36544946e-01, 0.00000000e+00],\n",
       "       [1.65291476e-03, 1.00000000e+00],\n",
       "       [5.14549594e-02, 0.00000000e+00],\n",
       "       [0.00000000e+00, 0.00000000e+00],\n",
       "       [1.40179016e-01, 0.00000000e+00],\n",
       "       [5.59192029e-01, 0.00000000e+00],\n",
       "       [2.34315872e-01, 0.00000000e+00],\n",
       "       [5.75262642e-03, 1.00000000e+00],\n",
       "       [6.60494271e-01, 0.00000000e+00],\n",
       "       [1.85320738e-01, 0.00000000e+00],\n",
       "       [2.17956989e-01, 0.00000000e+00],\n",
       "       [2.27702563e-01, 0.00000000e+00],\n",
       "       [3.33693940e-01, 0.00000000e+00],\n",
       "       [2.42306380e-01, 0.00000000e+00],\n",
       "       [0.00000000e+00, 0.00000000e+00],\n",
       "       [1.62673685e-03, 0.00000000e+00],\n",
       "       [9.13120851e-02, 1.00000000e+00],\n",
       "       [4.67914516e-01, 0.00000000e+00],\n",
       "       [2.17259506e-05, 0.00000000e+00],\n",
       "       [1.62435594e-01, 0.00000000e+00],\n",
       "       [1.99741113e-01, 0.00000000e+00],\n",
       "       [2.79076386e-01, 0.00000000e+00],\n",
       "       [6.00434091e-02, 0.00000000e+00],\n",
       "       [2.07369992e-01, 0.00000000e+00],\n",
       "       [2.07047729e-01, 0.00000000e+00],\n",
       "       [6.76643607e-01, 0.00000000e+00],\n",
       "       [1.15397157e-01, 0.00000000e+00],\n",
       "       [2.80439594e-01, 1.00000000e+00],\n",
       "       [2.73501297e-01, 0.00000000e+00],\n",
       "       [1.48922119e-01, 0.00000000e+00],\n",
       "       [1.20015318e-01, 0.00000000e+00],\n",
       "       [1.25072091e-02, 0.00000000e+00],\n",
       "       [2.84994567e-01, 0.00000000e+00],\n",
       "       [2.25261458e-03, 0.00000000e+00],\n",
       "       [6.02023826e-02, 1.00000000e+00],\n",
       "       [4.65175637e-02, 1.00000000e+00],\n",
       "       [2.00355027e-01, 1.00000000e+00],\n",
       "       [4.49222684e-01, 0.00000000e+00],\n",
       "       [0.00000000e+00, 0.00000000e+00],\n",
       "       [3.32442923e-01, 1.00000000e+00],\n",
       "       [6.83276420e-02, 0.00000000e+00],\n",
       "       [1.79464480e-02, 0.00000000e+00],\n",
       "       [6.40770549e-02, 0.00000000e+00],\n",
       "       [4.21152748e-01, 0.00000000e+00],\n",
       "       [1.19570978e-01, 0.00000000e+00],\n",
       "       [6.21686200e-02, 0.00000000e+00],\n",
       "       [1.30610945e-01, 0.00000000e+00],\n",
       "       [2.19529678e-02, 0.00000000e+00],\n",
       "       [6.86495564e-01, 0.00000000e+00],\n",
       "       [1.37764343e-01, 0.00000000e+00],\n",
       "       [1.12509582e-01, 0.00000000e+00],\n",
       "       [8.23161462e-01, 0.00000000e+00],\n",
       "       [2.03429219e-01, 0.00000000e+00],\n",
       "       [4.80583478e-01, 0.00000000e+00],\n",
       "       [1.73819120e-02, 0.00000000e+00],\n",
       "       [0.00000000e+00, 0.00000000e+00],\n",
       "       [2.78837314e-02, 0.00000000e+00],\n",
       "       [3.80101405e-01, 0.00000000e+00]])"
      ]
     },
     "execution_count": 20,
     "metadata": {},
     "output_type": "execute_result"
    }
   ],
   "source": [
    "iou_sum"
   ]
  },
  {
   "cell_type": "code",
   "execution_count": 106,
   "metadata": {},
   "outputs": [],
   "source": [
    "abnormal_ped = iou_sum[np.nonzero(iou_sum[:,1])]"
   ]
  },
  {
   "cell_type": "code",
   "execution_count": 107,
   "metadata": {},
   "outputs": [],
   "source": [
    "norm_ped = iou_sum[np.where(iou_sum[:,1]==0)]"
   ]
  },
  {
   "cell_type": "code",
   "execution_count": 108,
   "metadata": {},
   "outputs": [
    {
     "data": {
      "text/plain": [
       "<matplotlib.legend.Legend at 0x7f851c35aba8>"
      ]
     },
     "execution_count": 108,
     "metadata": {},
     "output_type": "execute_result"
    },
    {
     "data": {
      "image/png": "[encoded data removed]",
      "text/plain": [
       "<Figure size 432x288 with 1 Axes>"
      ]
     },
     "metadata": {
      "needs_background": "light"
     },
     "output_type": "display_data"
    }
   ],
   "source": [
    "plt.plot(norm_ped[:,0],'-*', label='normal')\n",
    "plt.plot(abnormal_ped[:,0], '-+', label='abnormal')\n",
    "plt.xlabel('pedestrian')\n",
    "plt.ylabel('Averaged IOU over time')\n",
    "plt.legend()"
   ]
  },
  {
   "cell_type": "code",
   "execution_count": 109,
   "metadata": {},
   "outputs": [
    {
     "data": {
      "text/plain": [
       "array([0.69754195, 0.        ])"
      ]
     },
     "execution_count": 109,
     "metadata": {},
     "output_type": "execute_result"
    }
   ],
   "source": [
    "iou_sum[:4][0]"
   ]
  },
  {
   "cell_type": "code",
   "execution_count": 45,
   "metadata": {},
   "outputs": [
    {
     "data": {
      "text/plain": [
       "-0.29737979486318383"
      ]
     },
     "execution_count": 45,
     "metadata": {},
     "output_type": "execute_result"
    }
   ],
   "source": [
    "bb_intersection_over_union_np(lstm_20.predict(xx_norm), yy_norm, True)"
   ]
  },
  {
   "cell_type": "code",
   "execution_count": 46,
   "metadata": {},
   "outputs": [
    {
     "data": {
      "text/plain": [
       "-0.07336282689540416"
      ]
     },
     "execution_count": 46,
     "metadata": {},
     "output_type": "execute_result"
    }
   ],
   "source": [
    "bb_intersection_over_union_np(lstm_20.predict(xx_abnorm), yy_abnorm, True)"
   ]
  },
  {
   "cell_type": "code",
   "execution_count": 47,
   "metadata": {},
   "outputs": [
    {
     "data": {
      "text/plain": [
       "Text(0, 0.5, 'IOU')"
      ]
     },
     "execution_count": 47,
     "metadata": {},
     "output_type": "execute_result"
    },
    {
     "data": {
      "image/png": "[encoded data removed]",
      "text/plain": [
       "<Figure size 432x288 with 1 Axes>"
      ]
     },
     "metadata": {
      "needs_background": "light"
     },
     "output_type": "display_data"
    }
   ],
   "source": [
    "out1 = lstm_20.predict(x)\n",
    "out = norm_train_max_min(data=out1, max1 = max1,min1 =min1,undo_norm=True)\n",
    "out = bb_intersection_over_union_np(out,ped[j]['y_ppl_box'])\n",
    "plt.plot(ped[j]['frame_ppl_id'][:,-1,0], np.squeeze(out),'-')\n",
    "\n",
    "plt.xlabel('Frame')\n",
    "plt.ylabel('IOU')"
   ]
  },
  {
   "cell_type": "code",
   "execution_count": null,
   "metadata": {},
   "outputs": [],
   "source": [
    "ped['1']['y_ppl_box']"
   ]
  },
  {
   "cell_type": "markdown",
   "metadata": {},
   "source": [
    "# Figuring out IOU error "
   ]
  },
  {
   "cell_type": "code",
   "execution_count": null,
   "metadata": {},
   "outputs": [],
   "source": [
    "# bb_intersection_over_union_np(np.array([[10.,20.,22.,12.]]), np.array([[18.,24.,22.,18.]]))\n",
    "# bb_intersection_over_union_np(np.array([[10.,12.,22.,20.]]), np.array([[18.,18.,22.,24.]]))\n",
    "\n",
    "bb_intersection_over_union_np(np.array([[10.,12.,22.,20.]])*5, np.array([[18.,8.,22.,14.]])*5)"
   ]
  },
  {
   "cell_type": "code",
   "execution_count": null,
   "metadata": {},
   "outputs": [],
   "source": [
    "bb_intersection_over_union_np(np.array([[39., 63., 203., 112.]]), np.array([[54., 66., 198., 114.]]))"
   ]
  },
  {
   "cell_type": "code",
   "execution_count": null,
   "metadata": {},
   "outputs": [],
   "source": [
    "[39, 63, 203, 112], [54, 66, 198, 114]"
   ]
  },
  {
   "cell_type": "code",
   "execution_count": null,
   "metadata": {},
   "outputs": [],
   "source": [
    "bb_intersection_over_union_np(np.array([[10,12,22,20]]), np.array([[18,8,22,14]]))"
   ]
  },
  {
   "cell_type": "code",
   "execution_count": null,
   "metadata": {},
   "outputs": [],
   "source": [
    "np.array([18,8,22,14])*5"
   ]
  },
  {
   "cell_type": "code",
   "execution_count": null,
   "metadata": {},
   "outputs": [],
   "source": [
    "np.array([[10,12,22,20]])*5"
   ]
  },
  {
   "cell_type": "markdown",
   "metadata": {},
   "source": [
    "# K means"
   ]
  },
  {
   "cell_type": "code",
   "execution_count": 18,
   "metadata": {},
   "outputs": [],
   "source": [
    "xx_test,yy_test= norm_train_max_min(data_dict = testdict, max1=max1,min1=min1)\n"
   ]
  },
  {
   "cell_type": "code",
   "execution_count": null,
   "metadata": {},
   "outputs": [],
   "source": [
    "y_pred_scal = model.predict(xx_test)\n",
    "y_pred = norm_train_max_min(data=y_pred_scal, max1 = max1,min1 =min1,undo_norm=True)"
   ]
  },
  {
   "cell_type": "code",
   "execution_count": null,
   "metadata": {},
   "outputs": [],
   "source": [
    "kmean_scal = KMeans(n_clusters=2)\n",
    "kmean = KMeans(n_clusters=2)"
   ]
  },
  {
   "cell_type": "code",
   "execution_count": null,
   "metadata": {},
   "outputs": [],
   "source": [
    "def tlbr_xywh(data):\n",
    "    data = data.astype(float)\n",
    "    data[:,2] = np.abs(data[:,2] - data[:,0] )\n",
    "    data[:,3] = np.abs(data[:,3] - data[:,1])\n",
    "    \n",
    "    data[:,0] = data[:,0] + data[:,2]/2\n",
    "    data[:,1] = data[:,1] + data[:,3]/2\n",
    "  \n",
    "    \n",
    "    return data"
   ]
  },
  {
   "cell_type": "code",
   "execution_count": null,
   "metadata": {},
   "outputs": [],
   "source": [
    "tlbr_xywh(y_pred)"
   ]
  },
  {
   "cell_type": "code",
   "execution_count": null,
   "metadata": {},
   "outputs": [],
   "source": [
    "kmean_scal.fit(tlbr_xywh(y_pred_scal)[:,0:2])\n",
    "kmean.fit(tlbr_xywh(y_pred)[:,0:2])"
   ]
  },
  {
   "cell_type": "code",
   "execution_count": null,
   "metadata": {},
   "outputs": [],
   "source": [
    "out = kmean_scal.cluster_centers_\n",
    "out"
   ]
  },
  {
   "cell_type": "code",
   "execution_count": null,
   "metadata": {},
   "outputs": [],
   "source": [
    "out1 = kmean.cluster_centers_\n",
    "out1"
   ]
  },
  {
   "cell_type": "code",
   "execution_count": null,
   "metadata": {},
   "outputs": [],
   "source": [
    "plt.scatter(tlbr_xywh(y_pred_scal)[:,0], tlbr_xywh(y_pred_scal)[:,1],s=1, c='b')\n",
    "plt.scatter(out[0,0], out[0,1],s=200, c ='g', marker='s')\n",
    "plt.scatter(out[1,0], out[1,1], s=200, c ='r', marker='s')"
   ]
  },
  {
   "cell_type": "code",
   "execution_count": null,
   "metadata": {},
   "outputs": [],
   "source": [
    "plt.scatter(tlbr_xywh(y_pred)[:,0], tlbr_xywh(y_pred)[:,1],s=1, c='b')\n",
    "plt.scatter(out1[0,0], out1[0,1],s=200, c ='g', marker='s')\n",
    "plt.scatter(out1[1,0], out1[1,1], s=200, c ='r', marker='s')"
   ]
  },
  {
   "cell_type": "markdown",
   "metadata": {},
   "source": [
    "# Using X Difference"
   ]
  },
  {
   "cell_type": "code",
   "execution_count": null,
   "metadata": {},
   "outputs": [],
   "source": [
    "j = '12'\n",
    "out = model.predict(ped[j]['x_ppl_box'])\n",
    "out = norm_train_max_min(data=out, max1 = max1,min1 =min1,undo_norm=True)\n",
    "out = tlbr_xywh(out)"
   ]
  },
  {
   "cell_type": "code",
   "execution_count": null,
   "metadata": {},
   "outputs": [],
   "source": [
    "out"
   ]
  },
  {
   "cell_type": "code",
   "execution_count": null,
   "metadata": {},
   "outputs": [],
   "source": [
    "xy_diff = []\n",
    "for i in range(1,len(out)):\n",
    "    \n",
    "    xy_diff.append(out[i,:] - out[i-1,:])\n",
    "\n",
    "xy_diff = np.array(xy_diff)\n",
    "out =np.sum(np.square(xy_diff[:,0:2]), axis=1)\n",
    "    "
   ]
  },
  {
   "cell_type": "code",
   "execution_count": null,
   "metadata": {},
   "outputs": [],
   "source": [
    "plt.plot(ped[j]['frame_ppl_id'][1:,-1,0], out,'-')\n",
    "plt.plot(ped[j]['frame_ppl_id'][1:,-1,0],ped[j]['abnormal'][1:]*1000 )\n",
    "# plt.plot(ped[j]['frame_ppl_id'][1:,-1,0], xy_diff[:,0],'-+')\n",
    "# plt.plot(ped[j]['frame_ppl_id'][1:,-1,0], xy_diff[:,1],'-0')\n",
    "plt.xlabel('Frame')"
   ]
  }
 ],
 "metadata": {
  "kernelspec": {
   "display_name": "Python 3",
   "language": "python",
   "name": "python3"
  },
  "language_info": {
   "codemirror_mode": {
    "name": "ipython",
    "version": 3
   },
   "file_extension": ".py",
   "mimetype": "text/x-python",
   "name": "python",
   "nbconvert_exporter": "python",
   "pygments_lexer": "ipython3",
   "version": "3.6.9"
  }
 },
 "nbformat": 4,
 "nbformat_minor": 4
}
